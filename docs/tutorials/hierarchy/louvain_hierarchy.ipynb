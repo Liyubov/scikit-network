{
 "cells": [
  {
   "cell_type": "markdown",
   "metadata": {
    "collapsed": true
   },
   "source": [
    "# Louvain"
   ]
  },
  {
   "cell_type": "markdown",
   "metadata": {},
   "source": [
    "This notebook illustrates the hierarchical clustering of graphs by the [Louvain hierarchical algorithm](https://scikit-network.readthedocs.io/en/latest/reference/hierarchy.html)."
   ]
  },
  {
   "cell_type": "code",
   "execution_count": 1,
   "metadata": {
    "pycharm": {
     "is_executing": false
    }
   },
   "outputs": [],
   "source": [
    "from IPython.display import SVG"
   ]
  },
  {
   "cell_type": "code",
   "execution_count": 2,
   "metadata": {
    "pycharm": {
     "is_executing": false
    }
   },
   "outputs": [],
   "source": [
    "import numpy as np"
   ]
  },
  {
   "cell_type": "code",
   "execution_count": 3,
   "metadata": {
    "pycharm": {
     "is_executing": false,
     "name": "#%%\n"
    }
   },
   "outputs": [],
   "source": [
    "from sknetwork.data import karate_club, painters, movie_actor\n",
    "from sknetwork.hierarchy import LouvainHierarchy, BiLouvainHierarchy\n",
    "from sknetwork.hierarchy import cut_straight, dasgupta_score, tree_sampling_divergence\n",
    "from sknetwork.visualization import svg_graph, svg_digraph, svg_bigraph, svg_dendrogram"
   ]
  },
  {
   "cell_type": "markdown",
   "metadata": {},
   "source": [
    "## Graphs"
   ]
  },
  {
   "cell_type": "code",
   "execution_count": 4,
   "metadata": {
    "pycharm": {
     "is_executing": false
    }
   },
   "outputs": [],
   "source": [
    "graph = karate_club(metadata=True)\n",
    "adjacency = graph.adjacency\n",
    "position = graph.position"
   ]
  },
  {
   "cell_type": "markdown",
   "metadata": {},
   "source": [
    "**Hierarchy**"
   ]
  },
  {
   "cell_type": "code",
   "execution_count": 5,
   "metadata": {
    "pycharm": {
     "is_executing": false
    }
   },
   "outputs": [],
   "source": [
    "louvain_hierarchy = LouvainHierarchy()\n",
    "dendrogram = louvain_hierarchy.fit_transform(adjacency)"
   ]
  },
  {
   "cell_type": "code",
   "execution_count": 6,
   "metadata": {
    "pycharm": {
     "is_executing": false
    }
   },
   "outputs": [],
   "source": [
    "image = svg_dendrogram(dendrogram)"
   ]
  },
  {
   "cell_type": "code",
   "execution_count": 7,
   "metadata": {},
   "outputs": [
    {
     "data": {
      "image/svg+xml": [
       "<svg height=\"320\" width=\"420\"><path d=\"M 374.7058823529412 310 374.7058823529412 310.0\" stroke=\"blue\" stroke-width=\"2\"/><path d=\"M 386.47058823529414 310 386.47058823529414 310.0\" stroke=\"blue\" stroke-width=\"2\"/><path d=\"M 374.7058823529412 310.0 386.47058823529414 310.0\" stroke=\"blue\" stroke-width=\"2\"/><path d=\"M 339.4117647058824 310 339.4117647058824 310.0\" stroke=\"blue\" stroke-width=\"2\"/><path d=\"M 351.1764705882353 310 351.1764705882353 310.0\" stroke=\"blue\" stroke-width=\"2\"/><path d=\"M 339.4117647058824 310.0 351.1764705882353 310.0\" stroke=\"blue\" stroke-width=\"2\"/><path d=\"M 304.11764705882354 310 304.11764705882354 310.0\" stroke=\"blue\" stroke-width=\"2\"/><path d=\"M 315.88235294117646 310 315.88235294117646 310.0\" stroke=\"blue\" stroke-width=\"2\"/><path d=\"M 304.11764705882354 310.0 315.88235294117646 310.0\" stroke=\"blue\" stroke-width=\"2\"/><path d=\"M 268.82352941176475 310 268.82352941176475 310.0\" stroke=\"blue\" stroke-width=\"2\"/><path d=\"M 280.5882352941177 310 280.5882352941177 310.0\" stroke=\"blue\" stroke-width=\"2\"/><path d=\"M 268.82352941176475 310.0 280.5882352941177 310.0\" stroke=\"blue\" stroke-width=\"2\"/><path d=\"M 115.88235294117648 310 115.88235294117648 310.0\" stroke=\"green\" stroke-width=\"2\"/><path d=\"M 127.64705882352942 310 127.64705882352942 310.0\" stroke=\"green\" stroke-width=\"2\"/><path d=\"M 115.88235294117648 310.0 127.64705882352942 310.0\" stroke=\"green\" stroke-width=\"2\"/><path d=\"M 92.3529411764706 310 92.3529411764706 310.0\" stroke=\"green\" stroke-width=\"2\"/><path d=\"M 104.11764705882354 310 104.11764705882354 310.0\" stroke=\"green\" stroke-width=\"2\"/><path d=\"M 92.3529411764706 310.0 104.11764705882354 310.0\" stroke=\"green\" stroke-width=\"2\"/><path d=\"M 380.5882352941177 310.0 380.5882352941177 310.0\" stroke=\"blue\" stroke-width=\"2\"/><path d=\"M 398.2352941176471 310 398.2352941176471 310.0\" stroke=\"blue\" stroke-width=\"2\"/><path d=\"M 380.5882352941177 310.0 398.2352941176471 310.0\" stroke=\"blue\" stroke-width=\"2\"/><path d=\"M 345.29411764705884 310.0 345.29411764705884 310.0\" stroke=\"blue\" stroke-width=\"2\"/><path d=\"M 362.9411764705883 310 362.9411764705883 310.0\" stroke=\"blue\" stroke-width=\"2\"/><path d=\"M 345.29411764705884 310.0 362.9411764705883 310.0\" stroke=\"blue\" stroke-width=\"2\"/><path d=\"M 310.0 310.0 310.0 310.0\" stroke=\"blue\" stroke-width=\"2\"/><path d=\"M 327.64705882352945 310 327.64705882352945 310.0\" stroke=\"blue\" stroke-width=\"2\"/><path d=\"M 310.0 310.0 327.64705882352945 310.0\" stroke=\"blue\" stroke-width=\"2\"/><path d=\"M 274.7058823529412 310.0 274.7058823529412 310.0\" stroke=\"blue\" stroke-width=\"2\"/><path d=\"M 292.3529411764706 310 292.3529411764706 310.0\" stroke=\"blue\" stroke-width=\"2\"/><path d=\"M 274.7058823529412 310.0 292.3529411764706 310.0\" stroke=\"blue\" stroke-width=\"2\"/><path d=\"M 10.0 310 10.0 210.0\" stroke=\"orange\" stroke-width=\"2\"/><path d=\"M 21.764705882352942 310 21.764705882352942 210.0\" stroke=\"orange\" stroke-width=\"2\"/><path d=\"M 10.0 210.0 21.764705882352942 210.0\" stroke=\"orange\" stroke-width=\"2\"/><path d=\"M 33.529411764705884 310 33.529411764705884 210.0\" stroke=\"orange\" stroke-width=\"2\"/><path d=\"M 45.294117647058826 310 45.294117647058826 210.0\" stroke=\"orange\" stroke-width=\"2\"/><path d=\"M 33.529411764705884 210.0 45.294117647058826 210.0\" stroke=\"orange\" stroke-width=\"2\"/><path d=\"M 139.41176470588238 310 139.41176470588238 210.0\" stroke=\"red\" stroke-width=\"2\"/><path d=\"M 151.1764705882353 310 151.1764705882353 210.0\" stroke=\"red\" stroke-width=\"2\"/><path d=\"M 139.41176470588238 210.0 151.1764705882353 210.0\" stroke=\"red\" stroke-width=\"2\"/><path d=\"M 162.94117647058823 310 162.94117647058823 210.0\" stroke=\"red\" stroke-width=\"2\"/><path d=\"M 174.7058823529412 310 174.7058823529412 210.0\" stroke=\"red\" stroke-width=\"2\"/><path d=\"M 162.94117647058823 210.0 174.7058823529412 210.0\" stroke=\"red\" stroke-width=\"2\"/><path d=\"M 68.82352941176471 310 68.82352941176471 210.0\" stroke=\"green\" stroke-width=\"2\"/><path d=\"M 80.58823529411765 310 80.58823529411765 210.0\" stroke=\"green\" stroke-width=\"2\"/><path d=\"M 68.82352941176471 210.0 80.58823529411765 210.0\" stroke=\"green\" stroke-width=\"2\"/><path d=\"M 186.47058823529414 310 186.47058823529414 210.0\" stroke=\"red\" stroke-width=\"2\"/><path d=\"M 198.23529411764707 310 198.23529411764707 210.0\" stroke=\"red\" stroke-width=\"2\"/><path d=\"M 186.47058823529414 210.0 198.23529411764707 210.0\" stroke=\"red\" stroke-width=\"2\"/><path d=\"M 354.11764705882354 310.0 354.11764705882354 210.0\" stroke=\"blue\" stroke-width=\"2\"/><path d=\"M 389.4117647058824 310.0 389.4117647058824 210.0\" stroke=\"blue\" stroke-width=\"2\"/><path d=\"M 354.11764705882354 210.0 389.4117647058824 210.0\" stroke=\"blue\" stroke-width=\"2\"/><path d=\"M 283.5294117647059 310.0 283.5294117647059 210.0\" stroke=\"blue\" stroke-width=\"2\"/><path d=\"M 318.82352941176475 310.0 318.82352941176475 210.0\" stroke=\"blue\" stroke-width=\"2\"/><path d=\"M 283.5294117647059 210.0 318.82352941176475 210.0\" stroke=\"blue\" stroke-width=\"2\"/><path d=\"M 192.3529411764706 210.0 192.3529411764706 210.0\" stroke=\"red\" stroke-width=\"2\"/><path d=\"M 210.0 310 210.0 210.0\" stroke=\"red\" stroke-width=\"2\"/><path d=\"M 192.3529411764706 210.0 210.0 210.0\" stroke=\"red\" stroke-width=\"2\"/><path d=\"M 201.1764705882353 210.0 201.1764705882353 210.0\" stroke=\"red\" stroke-width=\"2\"/><path d=\"M 221.76470588235296 310 221.76470588235296 210.0\" stroke=\"red\" stroke-width=\"2\"/><path d=\"M 201.1764705882353 210.0 221.76470588235296 210.0\" stroke=\"red\" stroke-width=\"2\"/><path d=\"M 211.47058823529414 210.0 211.47058823529414 210.0\" stroke=\"red\" stroke-width=\"2\"/><path d=\"M 233.5294117647059 310 233.5294117647059 210.0\" stroke=\"red\" stroke-width=\"2\"/><path d=\"M 211.47058823529414 210.0 233.5294117647059 210.0\" stroke=\"red\" stroke-width=\"2\"/><path d=\"M 222.50000000000003 210.0 222.50000000000003 210.0\" stroke=\"red\" stroke-width=\"2\"/><path d=\"M 245.29411764705884 310 245.29411764705884 210.0\" stroke=\"red\" stroke-width=\"2\"/><path d=\"M 222.50000000000003 210.0 245.29411764705884 210.0\" stroke=\"red\" stroke-width=\"2\"/><path d=\"M 233.89705882352945 210.0 233.89705882352945 210.0\" stroke=\"red\" stroke-width=\"2\"/><path d=\"M 257.05882352941177 310 257.05882352941177 210.0\" stroke=\"red\" stroke-width=\"2\"/><path d=\"M 233.89705882352945 210.0 257.05882352941177 210.0\" stroke=\"red\" stroke-width=\"2\"/><path d=\"M 98.23529411764707 310.0 98.23529411764707 210.0\" stroke=\"green\" stroke-width=\"2\"/><path d=\"M 121.76470588235296 310.0 121.76470588235296 210.0\" stroke=\"green\" stroke-width=\"2\"/><path d=\"M 98.23529411764707 210.0 121.76470588235296 210.0\" stroke=\"green\" stroke-width=\"2\"/><path d=\"M 39.411764705882355 210.0 39.411764705882355 210.0\" stroke=\"orange\" stroke-width=\"2\"/><path d=\"M 57.05882352941177 310 57.05882352941177 210.0\" stroke=\"orange\" stroke-width=\"2\"/><path d=\"M 39.411764705882355 210.0 57.05882352941177 210.0\" stroke=\"orange\" stroke-width=\"2\"/><path d=\"M 301.17647058823536 210.0 301.17647058823536 110.0\" stroke=\"blue\" stroke-width=\"2\"/><path d=\"M 371.7647058823529 210.0 371.7647058823529 110.0\" stroke=\"blue\" stroke-width=\"2\"/><path d=\"M 301.17647058823536 110.0 371.7647058823529 110.0\" stroke=\"blue\" stroke-width=\"2\"/><path d=\"M 145.29411764705884 210.0 145.29411764705884 110.0\" stroke=\"red\" stroke-width=\"2\"/><path d=\"M 168.8235294117647 210.0 168.8235294117647 110.0\" stroke=\"red\" stroke-width=\"2\"/><path d=\"M 145.29411764705884 110.0 168.8235294117647 110.0\" stroke=\"red\" stroke-width=\"2\"/><path d=\"M 157.05882352941177 110.0 157.05882352941177 110.0\" stroke=\"red\" stroke-width=\"2\"/><path d=\"M 245.4779411764706 210.0 245.4779411764706 110.0\" stroke=\"red\" stroke-width=\"2\"/><path d=\"M 157.05882352941177 110.0 245.4779411764706 110.0\" stroke=\"red\" stroke-width=\"2\"/><path d=\"M 74.70588235294119 210.0 74.70588235294119 110.0\" stroke=\"green\" stroke-width=\"2\"/><path d=\"M 110.00000000000001 210.0 110.00000000000001 110.0\" stroke=\"green\" stroke-width=\"2\"/><path d=\"M 74.70588235294119 110.0 110.00000000000001 110.0\" stroke=\"green\" stroke-width=\"2\"/><path d=\"M 15.882352941176471 210.0 15.882352941176471 110.0\" stroke=\"orange\" stroke-width=\"2\"/><path d=\"M 48.23529411764706 210.0 48.23529411764706 110.0\" stroke=\"orange\" stroke-width=\"2\"/><path d=\"M 15.882352941176471 110.0 48.23529411764706 110.0\" stroke=\"orange\" stroke-width=\"2\"/><path d=\"M 32.05882352941177 110.0 32.05882352941177 10.0\" stroke=\"black\" stroke-width=\"2\"/><path d=\"M 92.35294117647061 110.0 92.35294117647061 10.0\" stroke=\"black\" stroke-width=\"2\"/><path d=\"M 32.05882352941177 10.0 92.35294117647061 10.0\" stroke=\"black\" stroke-width=\"2\"/><path d=\"M 62.20588235294119 10.0 62.20588235294119 10.0\" stroke=\"black\" stroke-width=\"2\"/><path d=\"M 201.2683823529412 110.0 201.2683823529412 10.0\" stroke=\"black\" stroke-width=\"2\"/><path d=\"M 62.20588235294119 10.0 201.2683823529412 10.0\" stroke=\"black\" stroke-width=\"2\"/><path d=\"M 131.7371323529412 10.0 131.7371323529412 10.0\" stroke=\"black\" stroke-width=\"2\"/><path d=\"M 336.47058823529414 110.0 336.47058823529414 10.0\" stroke=\"black\" stroke-width=\"2\"/><path d=\"M 131.7371323529412 10.0 336.47058823529414 10.0\" stroke=\"black\" stroke-width=\"2\"/></svg>"
      ],
      "text/plain": [
       "<IPython.core.display.SVG object>"
      ]
     },
     "execution_count": 7,
     "metadata": {},
     "output_type": "execute_result"
    }
   ],
   "source": [
    "SVG(image)"
   ]
  },
  {
   "cell_type": "markdown",
   "metadata": {},
   "source": [
    "**Cuts of the dendrogram**"
   ]
  },
  {
   "cell_type": "code",
   "execution_count": 8,
   "metadata": {
    "pycharm": {
     "is_executing": false
    },
    "scrolled": true
   },
   "outputs": [
    {
     "name": "stdout",
     "output_type": "stream",
     "text": [
      "[0 0 0 0 3 3 3 0 1 0 3 0 0 0 1 1 3 0 1 0 1 0 1 2 2 2 1 2 2 1 1 2 1 1]\n"
     ]
    }
   ],
   "source": [
    "labels = cut_straight(dendrogram)\n",
    "print(labels)"
   ]
  },
  {
   "cell_type": "code",
   "execution_count": 9,
   "metadata": {
    "pycharm": {
     "is_executing": false
    }
   },
   "outputs": [
    {
     "name": "stdout",
     "output_type": "stream",
     "text": [
      "[0 0 0 0 3 3 3 0 1 0 3 0 0 0 1 1 3 0 1 0 1 0 1 2 2 2 1 2 2 1 1 2 1 1]\n"
     ]
    }
   ],
   "source": [
    "labels, dendrogram_aggregate = cut_straight(dendrogram, n_clusters=4, return_dendrogram=True)\n",
    "print(labels)"
   ]
  },
  {
   "cell_type": "code",
   "execution_count": 12,
   "metadata": {},
   "outputs": [],
   "source": [
    "_, counts = np.unique(labels, return_counts=True)"
   ]
  },
  {
   "cell_type": "code",
   "execution_count": 13,
   "metadata": {},
   "outputs": [],
   "source": [
    "image = svg_dendrogram(dendrogram_aggregate, names=counts, rotate_names=False)"
   ]
  },
  {
   "cell_type": "code",
   "execution_count": 14,
   "metadata": {},
   "outputs": [
    {
     "data": {
      "image/svg+xml": [
       "<svg height=\"337.0\" width=\"420\"><text font-size=\"12\" transform=\"rotate(60, 305.0, 315)\" x=\"305.0\" y=\"315\">12</text><text font-size=\"12\" transform=\"rotate(60, 205.0, 315)\" x=\"205.0\" y=\"315\">11</text><text font-size=\"12\" transform=\"rotate(60, 105.0, 315)\" x=\"105.0\" y=\"315\">6</text><text font-size=\"12\" transform=\"rotate(60, 5.0, 315)\" x=\"5.0\" y=\"315\">5</text><path d=\"M 10.0 310 10.0 10.0\" stroke=\"black\" stroke-width=\"2\"/><path d=\"M 110.0 310 110.0 10.0\" stroke=\"black\" stroke-width=\"2\"/><path d=\"M 10.0 10.0 110.0 10.0\" stroke=\"black\" stroke-width=\"2\"/><path d=\"M 60.0 10.0 60.0 10.0\" stroke=\"black\" stroke-width=\"2\"/><path d=\"M 210.0 310 210.0 10.0\" stroke=\"black\" stroke-width=\"2\"/><path d=\"M 60.0 10.0 210.0 10.0\" stroke=\"black\" stroke-width=\"2\"/><path d=\"M 135.0 10.0 135.0 10.0\" stroke=\"black\" stroke-width=\"2\"/><path d=\"M 310.0 310 310.0 10.0\" stroke=\"black\" stroke-width=\"2\"/><path d=\"M 135.0 10.0 310.0 10.0\" stroke=\"black\" stroke-width=\"2\"/></svg>"
      ],
      "text/plain": [
       "<IPython.core.display.SVG object>"
      ]
     },
     "execution_count": 14,
     "metadata": {},
     "output_type": "execute_result"
    }
   ],
   "source": [
    "SVG(image)"
   ]
  },
  {
   "cell_type": "code",
   "execution_count": 11,
   "metadata": {
    "pycharm": {
     "is_executing": false
    }
   },
   "outputs": [],
   "source": [
    "image = svg_graph(adjacency, position, labels=labels)"
   ]
  },
  {
   "cell_type": "code",
   "execution_count": 12,
   "metadata": {
    "pycharm": {
     "is_executing": false
    }
   },
   "outputs": [
    {
     "data": {
      "image/svg+xml": [
       "<svg height=\"340\" width=\"440\"><path d=\"M 264 200 353 168\" stroke=\"black\" stroke-width=\"1\"/><path d=\"M 264 200 251 143\" stroke=\"black\" stroke-width=\"1\"/><path d=\"M 264 200 304 191\" stroke=\"black\" stroke-width=\"1\"/><path d=\"M 264 200 255 255\" stroke=\"black\" stroke-width=\"1\"/><path d=\"M 264 200 211 275\" stroke=\"black\" stroke-width=\"1\"/><path d=\"M 264 200 264 277\" stroke=\"black\" stroke-width=\"1\"/><path d=\"M 264 200 340 186\" stroke=\"black\" stroke-width=\"1\"/><path d=\"M 264 200 282 125\" stroke=\"black\" stroke-width=\"1\"/><path d=\"M 264 200 188 252\" stroke=\"black\" stroke-width=\"1\"/><path d=\"M 264 200 122 212\" stroke=\"black\" stroke-width=\"1\"/><path d=\"M 264 200 335 236\" stroke=\"black\" stroke-width=\"1\"/><path d=\"M 264 200 282 153\" stroke=\"black\" stroke-width=\"1\"/><path d=\"M 264 200 388 216\" stroke=\"black\" stroke-width=\"1\"/><path d=\"M 264 200 331 143\" stroke=\"black\" stroke-width=\"1\"/><path d=\"M 264 200 420 202\" stroke=\"black\" stroke-width=\"1\"/><path d=\"M 264 200 153 125\" stroke=\"black\" stroke-width=\"1\"/><path d=\"M 353 168 264 200\" stroke=\"black\" stroke-width=\"1\"/><path d=\"M 353 168 251 143\" stroke=\"black\" stroke-width=\"1\"/><path d=\"M 353 168 304 191\" stroke=\"black\" stroke-width=\"1\"/><path d=\"M 353 168 340 186\" stroke=\"black\" stroke-width=\"1\"/><path d=\"M 353 168 282 153\" stroke=\"black\" stroke-width=\"1\"/><path d=\"M 353 168 388 216\" stroke=\"black\" stroke-width=\"1\"/><path d=\"M 353 168 331 143\" stroke=\"black\" stroke-width=\"1\"/><path d=\"M 353 168 420 202\" stroke=\"black\" stroke-width=\"1\"/><path d=\"M 353 168 344 107\" stroke=\"black\" stroke-width=\"1\"/><path d=\"M 251 143 264 200\" stroke=\"black\" stroke-width=\"1\"/><path d=\"M 251 143 353 168\" stroke=\"black\" stroke-width=\"1\"/><path d=\"M 251 143 304 191\" stroke=\"black\" stroke-width=\"1\"/><path d=\"M 251 143 340 186\" stroke=\"black\" stroke-width=\"1\"/><path d=\"M 251 143 282 125\" stroke=\"black\" stroke-width=\"1\"/><path d=\"M 251 143 197 100\" stroke=\"black\" stroke-width=\"1\"/><path d=\"M 251 143 282 153\" stroke=\"black\" stroke-width=\"1\"/><path d=\"M 251 143 122 103\" stroke=\"black\" stroke-width=\"1\"/><path d=\"M 251 143 197 120\" stroke=\"black\" stroke-width=\"1\"/><path d=\"M 251 143 260 73\" stroke=\"black\" stroke-width=\"1\"/><path d=\"M 304 191 264 200\" stroke=\"black\" stroke-width=\"1\"/><path d=\"M 304 191 353 168\" stroke=\"black\" stroke-width=\"1\"/><path d=\"M 304 191 251 143\" stroke=\"black\" stroke-width=\"1\"/><path d=\"M 304 191 340 186\" stroke=\"black\" stroke-width=\"1\"/><path d=\"M 304 191 335 236\" stroke=\"black\" stroke-width=\"1\"/><path d=\"M 304 191 282 153\" stroke=\"black\" stroke-width=\"1\"/><path d=\"M 255 255 264 200\" stroke=\"black\" stroke-width=\"1\"/><path d=\"M 255 255 264 277\" stroke=\"black\" stroke-width=\"1\"/><path d=\"M 255 255 188 252\" stroke=\"black\" stroke-width=\"1\"/><path d=\"M 211 275 264 200\" stroke=\"black\" stroke-width=\"1\"/><path d=\"M 211 275 264 277\" stroke=\"black\" stroke-width=\"1\"/><path d=\"M 211 275 188 252\" stroke=\"black\" stroke-width=\"1\"/><path d=\"M 211 275 220 320\" stroke=\"black\" stroke-width=\"1\"/><path d=\"M 264 277 264 200\" stroke=\"black\" stroke-width=\"1\"/><path d=\"M 264 277 255 255\" stroke=\"black\" stroke-width=\"1\"/><path d=\"M 264 277 211 275\" stroke=\"black\" stroke-width=\"1\"/><path d=\"M 264 277 220 320\" stroke=\"black\" stroke-width=\"1\"/><path d=\"M 340 186 264 200\" stroke=\"black\" stroke-width=\"1\"/><path d=\"M 340 186 353 168\" stroke=\"black\" stroke-width=\"1\"/><path d=\"M 340 186 251 143\" stroke=\"black\" stroke-width=\"1\"/><path d=\"M 340 186 304 191\" stroke=\"black\" stroke-width=\"1\"/><path d=\"M 282 125 264 200\" stroke=\"black\" stroke-width=\"1\"/><path d=\"M 282 125 251 143\" stroke=\"black\" stroke-width=\"1\"/><path d=\"M 282 125 344 107\" stroke=\"black\" stroke-width=\"1\"/><path d=\"M 282 125 260 73\" stroke=\"black\" stroke-width=\"1\"/><path d=\"M 282 125 246 82\" stroke=\"black\" stroke-width=\"1\"/><path d=\"M 197 100 251 143\" stroke=\"black\" stroke-width=\"1\"/><path d=\"M 197 100 246 82\" stroke=\"black\" stroke-width=\"1\"/><path d=\"M 188 252 264 200\" stroke=\"black\" stroke-width=\"1\"/><path d=\"M 188 252 255 255\" stroke=\"black\" stroke-width=\"1\"/><path d=\"M 188 252 211 275\" stroke=\"black\" stroke-width=\"1\"/><path d=\"M 122 212 264 200\" stroke=\"black\" stroke-width=\"1\"/><path d=\"M 335 236 264 200\" stroke=\"black\" stroke-width=\"1\"/><path d=\"M 335 236 304 191\" stroke=\"black\" stroke-width=\"1\"/><path d=\"M 282 153 264 200\" stroke=\"black\" stroke-width=\"1\"/><path d=\"M 282 153 353 168\" stroke=\"black\" stroke-width=\"1\"/><path d=\"M 282 153 251 143\" stroke=\"black\" stroke-width=\"1\"/><path d=\"M 282 153 304 191\" stroke=\"black\" stroke-width=\"1\"/><path d=\"M 282 153 246 82\" stroke=\"black\" stroke-width=\"1\"/><path d=\"M 348 43 260 73\" stroke=\"black\" stroke-width=\"1\"/><path d=\"M 348 43 246 82\" stroke=\"black\" stroke-width=\"1\"/><path d=\"M 273 27 260 73\" stroke=\"black\" stroke-width=\"1\"/><path d=\"M 273 27 246 82\" stroke=\"black\" stroke-width=\"1\"/><path d=\"M 220 320 211 275\" stroke=\"black\" stroke-width=\"1\"/><path d=\"M 220 320 264 277\" stroke=\"black\" stroke-width=\"1\"/><path d=\"M 388 216 264 200\" stroke=\"black\" stroke-width=\"1\"/><path d=\"M 388 216 353 168\" stroke=\"black\" stroke-width=\"1\"/><path d=\"M 313 34 260 73\" stroke=\"black\" stroke-width=\"1\"/><path d=\"M 313 34 246 82\" stroke=\"black\" stroke-width=\"1\"/><path d=\"M 331 143 264 200\" stroke=\"black\" stroke-width=\"1\"/><path d=\"M 331 143 353 168\" stroke=\"black\" stroke-width=\"1\"/><path d=\"M 331 143 246 82\" stroke=\"black\" stroke-width=\"1\"/><path d=\"M 366 61 260 73\" stroke=\"black\" stroke-width=\"1\"/><path d=\"M 366 61 246 82\" stroke=\"black\" stroke-width=\"1\"/><path d=\"M 420 202 264 200\" stroke=\"black\" stroke-width=\"1\"/><path d=\"M 420 202 353 168\" stroke=\"black\" stroke-width=\"1\"/><path d=\"M 228 32 260 73\" stroke=\"black\" stroke-width=\"1\"/><path d=\"M 228 32 246 82\" stroke=\"black\" stroke-width=\"1\"/><path d=\"M 131 68 28 91\" stroke=\"black\" stroke-width=\"1\"/><path d=\"M 131 68 122 103\" stroke=\"black\" stroke-width=\"1\"/><path d=\"M 131 68 171 45\" stroke=\"black\" stroke-width=\"1\"/><path d=\"M 131 68 260 73\" stroke=\"black\" stroke-width=\"1\"/><path d=\"M 131 68 246 82\" stroke=\"black\" stroke-width=\"1\"/><path d=\"M 20 116 28 91\" stroke=\"black\" stroke-width=\"1\"/><path d=\"M 20 116 122 103\" stroke=\"black\" stroke-width=\"1\"/><path d=\"M 20 116 153 125\" stroke=\"black\" stroke-width=\"1\"/><path d=\"M 28 91 131 68\" stroke=\"black\" stroke-width=\"1\"/><path d=\"M 28 91 20 116\" stroke=\"black\" stroke-width=\"1\"/><path d=\"M 28 91 153 125\" stroke=\"black\" stroke-width=\"1\"/><path d=\"M 162 20 171 45\" stroke=\"black\" stroke-width=\"1\"/><path d=\"M 162 20 246 82\" stroke=\"black\" stroke-width=\"1\"/><path d=\"M 122 103 251 143\" stroke=\"black\" stroke-width=\"1\"/><path d=\"M 122 103 131 68\" stroke=\"black\" stroke-width=\"1\"/><path d=\"M 122 103 20 116\" stroke=\"black\" stroke-width=\"1\"/><path d=\"M 122 103 246 82\" stroke=\"black\" stroke-width=\"1\"/><path d=\"M 197 120 251 143\" stroke=\"black\" stroke-width=\"1\"/><path d=\"M 197 120 153 125\" stroke=\"black\" stroke-width=\"1\"/><path d=\"M 197 120 246 82\" stroke=\"black\" stroke-width=\"1\"/><path d=\"M 171 45 131 68\" stroke=\"black\" stroke-width=\"1\"/><path d=\"M 171 45 162 20\" stroke=\"black\" stroke-width=\"1\"/><path d=\"M 171 45 260 73\" stroke=\"black\" stroke-width=\"1\"/><path d=\"M 171 45 246 82\" stroke=\"black\" stroke-width=\"1\"/><path d=\"M 344 107 353 168\" stroke=\"black\" stroke-width=\"1\"/><path d=\"M 344 107 282 125\" stroke=\"black\" stroke-width=\"1\"/><path d=\"M 344 107 260 73\" stroke=\"black\" stroke-width=\"1\"/><path d=\"M 344 107 246 82\" stroke=\"black\" stroke-width=\"1\"/><path d=\"M 153 125 264 200\" stroke=\"black\" stroke-width=\"1\"/><path d=\"M 153 125 20 116\" stroke=\"black\" stroke-width=\"1\"/><path d=\"M 153 125 28 91\" stroke=\"black\" stroke-width=\"1\"/><path d=\"M 153 125 197 120\" stroke=\"black\" stroke-width=\"1\"/><path d=\"M 153 125 260 73\" stroke=\"black\" stroke-width=\"1\"/><path d=\"M 153 125 246 82\" stroke=\"black\" stroke-width=\"1\"/><path d=\"M 260 73 251 143\" stroke=\"black\" stroke-width=\"1\"/><path d=\"M 260 73 282 125\" stroke=\"black\" stroke-width=\"1\"/><path d=\"M 260 73 348 43\" stroke=\"black\" stroke-width=\"1\"/><path d=\"M 260 73 273 27\" stroke=\"black\" stroke-width=\"1\"/><path d=\"M 260 73 313 34\" stroke=\"black\" stroke-width=\"1\"/><path d=\"M 260 73 366 61\" stroke=\"black\" stroke-width=\"1\"/><path d=\"M 260 73 228 32\" stroke=\"black\" stroke-width=\"1\"/><path d=\"M 260 73 131 68\" stroke=\"black\" stroke-width=\"1\"/><path d=\"M 260 73 171 45\" stroke=\"black\" stroke-width=\"1\"/><path d=\"M 260 73 344 107\" stroke=\"black\" stroke-width=\"1\"/><path d=\"M 260 73 153 125\" stroke=\"black\" stroke-width=\"1\"/><path d=\"M 260 73 246 82\" stroke=\"black\" stroke-width=\"1\"/><path d=\"M 246 82 282 125\" stroke=\"black\" stroke-width=\"1\"/><path d=\"M 246 82 197 100\" stroke=\"black\" stroke-width=\"1\"/><path d=\"M 246 82 282 153\" stroke=\"black\" stroke-width=\"1\"/><path d=\"M 246 82 348 43\" stroke=\"black\" stroke-width=\"1\"/><path d=\"M 246 82 273 27\" stroke=\"black\" stroke-width=\"1\"/><path d=\"M 246 82 313 34\" stroke=\"black\" stroke-width=\"1\"/><path d=\"M 246 82 331 143\" stroke=\"black\" stroke-width=\"1\"/><path d=\"M 246 82 366 61\" stroke=\"black\" stroke-width=\"1\"/><path d=\"M 246 82 228 32\" stroke=\"black\" stroke-width=\"1\"/><path d=\"M 246 82 131 68\" stroke=\"black\" stroke-width=\"1\"/><path d=\"M 246 82 162 20\" stroke=\"black\" stroke-width=\"1\"/><path d=\"M 246 82 122 103\" stroke=\"black\" stroke-width=\"1\"/><path d=\"M 246 82 197 120\" stroke=\"black\" stroke-width=\"1\"/><path d=\"M 246 82 171 45\" stroke=\"black\" stroke-width=\"1\"/><path d=\"M 246 82 344 107\" stroke=\"black\" stroke-width=\"1\"/><path d=\"M 246 82 153 125\" stroke=\"black\" stroke-width=\"1\"/><path d=\"M 246 82 260 73\" stroke=\"black\" stroke-width=\"1\"/><circle cx=\"264\" cy=\"200\" r=\"7.0\" style=\"fill:blue;stroke:black;stroke-width:1.0\"/><circle cx=\"353\" cy=\"168\" r=\"7.0\" style=\"fill:blue;stroke:black;stroke-width:1.0\"/><circle cx=\"251\" cy=\"143\" r=\"7.0\" style=\"fill:blue;stroke:black;stroke-width:1.0\"/><circle cx=\"304\" cy=\"191\" r=\"7.0\" style=\"fill:blue;stroke:black;stroke-width:1.0\"/><circle cx=\"255\" cy=\"255\" r=\"7.0\" style=\"fill:orange;stroke:black;stroke-width:1.0\"/><circle cx=\"211\" cy=\"275\" r=\"7.0\" style=\"fill:orange;stroke:black;stroke-width:1.0\"/><circle cx=\"264\" cy=\"277\" r=\"7.0\" style=\"fill:orange;stroke:black;stroke-width:1.0\"/><circle cx=\"340\" cy=\"186\" r=\"7.0\" style=\"fill:blue;stroke:black;stroke-width:1.0\"/><circle cx=\"282\" cy=\"125\" r=\"7.0\" style=\"fill:red;stroke:black;stroke-width:1.0\"/><circle cx=\"197\" cy=\"100\" r=\"7.0\" style=\"fill:blue;stroke:black;stroke-width:1.0\"/><circle cx=\"188\" cy=\"252\" r=\"7.0\" style=\"fill:orange;stroke:black;stroke-width:1.0\"/><circle cx=\"122\" cy=\"212\" r=\"7.0\" style=\"fill:blue;stroke:black;stroke-width:1.0\"/><circle cx=\"335\" cy=\"236\" r=\"7.0\" style=\"fill:blue;stroke:black;stroke-width:1.0\"/><circle cx=\"282\" cy=\"153\" r=\"7.0\" style=\"fill:blue;stroke:black;stroke-width:1.0\"/><circle cx=\"348\" cy=\"43\" r=\"7.0\" style=\"fill:red;stroke:black;stroke-width:1.0\"/><circle cx=\"273\" cy=\"27\" r=\"7.0\" style=\"fill:red;stroke:black;stroke-width:1.0\"/><circle cx=\"220\" cy=\"320\" r=\"7.0\" style=\"fill:orange;stroke:black;stroke-width:1.0\"/><circle cx=\"388\" cy=\"216\" r=\"7.0\" style=\"fill:blue;stroke:black;stroke-width:1.0\"/><circle cx=\"313\" cy=\"34\" r=\"7.0\" style=\"fill:red;stroke:black;stroke-width:1.0\"/><circle cx=\"331\" cy=\"143\" r=\"7.0\" style=\"fill:blue;stroke:black;stroke-width:1.0\"/><circle cx=\"366\" cy=\"61\" r=\"7.0\" style=\"fill:red;stroke:black;stroke-width:1.0\"/><circle cx=\"420\" cy=\"202\" r=\"7.0\" style=\"fill:blue;stroke:black;stroke-width:1.0\"/><circle cx=\"228\" cy=\"32\" r=\"7.0\" style=\"fill:red;stroke:black;stroke-width:1.0\"/><circle cx=\"131\" cy=\"68\" r=\"7.0\" style=\"fill:green;stroke:black;stroke-width:1.0\"/><circle cx=\"20\" cy=\"116\" r=\"7.0\" style=\"fill:green;stroke:black;stroke-width:1.0\"/><circle cx=\"28\" cy=\"91\" r=\"7.0\" style=\"fill:green;stroke:black;stroke-width:1.0\"/><circle cx=\"162\" cy=\"20\" r=\"7.0\" style=\"fill:red;stroke:black;stroke-width:1.0\"/><circle cx=\"122\" cy=\"103\" r=\"7.0\" style=\"fill:green;stroke:black;stroke-width:1.0\"/><circle cx=\"197\" cy=\"120\" r=\"7.0\" style=\"fill:green;stroke:black;stroke-width:1.0\"/><circle cx=\"171\" cy=\"45\" r=\"7.0\" style=\"fill:red;stroke:black;stroke-width:1.0\"/><circle cx=\"344\" cy=\"107\" r=\"7.0\" style=\"fill:red;stroke:black;stroke-width:1.0\"/><circle cx=\"153\" cy=\"125\" r=\"7.0\" style=\"fill:green;stroke:black;stroke-width:1.0\"/><circle cx=\"260\" cy=\"73\" r=\"7.0\" style=\"fill:red;stroke:black;stroke-width:1.0\"/><circle cx=\"246\" cy=\"82\" r=\"7.0\" style=\"fill:red;stroke:black;stroke-width:1.0\"/></svg>"
      ],
      "text/plain": [
       "<IPython.core.display.SVG object>"
      ]
     },
     "execution_count": 12,
     "metadata": {},
     "output_type": "execute_result"
    }
   ],
   "source": [
    "SVG(image)"
   ]
  },
  {
   "cell_type": "markdown",
   "metadata": {},
   "source": [
    "**Metrics**"
   ]
  },
  {
   "cell_type": "code",
   "execution_count": 13,
   "metadata": {
    "pycharm": {
     "is_executing": false
    }
   },
   "outputs": [
    {
     "data": {
      "text/plain": [
       "0.5878582202111614"
      ]
     },
     "execution_count": 13,
     "metadata": {},
     "output_type": "execute_result"
    }
   ],
   "source": [
    "dasgupta_score(adjacency, dendrogram)"
   ]
  },
  {
   "cell_type": "code",
   "execution_count": 14,
   "metadata": {
    "pycharm": {
     "is_executing": false
    }
   },
   "outputs": [
    {
     "data": {
      "text/plain": [
       "0.44847800698542856"
      ]
     },
     "execution_count": 14,
     "metadata": {},
     "output_type": "execute_result"
    }
   ],
   "source": [
    "tree_sampling_divergence(adjacency, dendrogram)"
   ]
  },
  {
   "cell_type": "markdown",
   "metadata": {},
   "source": [
    "## Digraphs"
   ]
  },
  {
   "cell_type": "code",
   "execution_count": 15,
   "metadata": {
    "pycharm": {
     "is_executing": false
    }
   },
   "outputs": [],
   "source": [
    "graph = painters(metadata=True)\n",
    "adjacency = graph.adjacency\n",
    "position = graph.position\n",
    "names = graph.names"
   ]
  },
  {
   "cell_type": "markdown",
   "metadata": {},
   "source": [
    "**Hierarchy**"
   ]
  },
  {
   "cell_type": "code",
   "execution_count": 16,
   "metadata": {
    "pycharm": {
     "is_executing": false
    }
   },
   "outputs": [],
   "source": [
    "louvain_hierarchy = LouvainHierarchy()\n",
    "dendrogram = louvain_hierarchy.fit_transform(adjacency)"
   ]
  },
  {
   "cell_type": "code",
   "execution_count": 17,
   "metadata": {
    "pycharm": {
     "is_executing": false
    }
   },
   "outputs": [],
   "source": [
    "image = svg_dendrogram(dendrogram, names, rotate=True)"
   ]
  },
  {
   "cell_type": "code",
   "execution_count": 18,
   "metadata": {},
   "outputs": [
    {
     "data": {
      "image/svg+xml": [
       "<svg height=\"320\" width=\"551.0\"><text font-size=\"12\" x=\"415\" y=\"181.42857142857142\">Pablo Picasso</text><text font-size=\"12\" x=\"415\" y=\"288.57142857142856\">Claude Monet</text><text font-size=\"12\" x=\"415\" y=\"31.428571428571427\">Michel Angelo</text><text font-size=\"12\" x=\"415\" y=\"267.1428571428571\">Edouard Manet</text><text font-size=\"12\" x=\"415\" y=\"74.28571428571428\">Peter Paul Rubens</text><text font-size=\"12\" x=\"415\" y=\"52.857142857142854\">Rembrandt</text><text font-size=\"12\" x=\"415\" y=\"117.14285714285714\">Gustav Klimt</text><text font-size=\"12\" x=\"415\" y=\"245.7142857142857\">Edgar Degas</text><text font-size=\"12\" x=\"415\" y=\"160.0\">Vincent van Gogh</text><text font-size=\"12\" x=\"415\" y=\"10.0\">Leonardo da Vinci</text><text font-size=\"12\" x=\"415\" y=\"138.57142857142856\">Henri Matisse</text><text font-size=\"12\" x=\"415\" y=\"224.28571428571428\">Paul Cezanne</text><text font-size=\"12\" x=\"415\" y=\"202.85714285714283\">Pierre-Auguste Renoir</text><text font-size=\"12\" x=\"415\" y=\"95.71428571428571\">Egon Schiele</text><path d=\"M 410 202.85714285714283 210.0 202.85714285714283\" stroke=\"blue\" stroke-width=\"2\"/><path d=\"M 410 224.28571428571428 210.0 224.28571428571428\" stroke=\"blue\" stroke-width=\"2\"/><path d=\"M 210.0 202.85714285714283 210.0 224.28571428571428\" stroke=\"blue\" stroke-width=\"2\"/><path d=\"M 210.0 213.57142857142856 210.0 213.57142857142856\" stroke=\"blue\" stroke-width=\"2\"/><path d=\"M 410 245.7142857142857 210.0 245.7142857142857\" stroke=\"blue\" stroke-width=\"2\"/><path d=\"M 210.0 213.57142857142856 210.0 245.7142857142857\" stroke=\"blue\" stroke-width=\"2\"/><path d=\"M 210.0 229.6428571428571 210.0 229.6428571428571\" stroke=\"blue\" stroke-width=\"2\"/><path d=\"M 410 267.1428571428571 210.0 267.1428571428571\" stroke=\"blue\" stroke-width=\"2\"/><path d=\"M 210.0 229.6428571428571 210.0 267.1428571428571\" stroke=\"blue\" stroke-width=\"2\"/><path d=\"M 210.0 248.3928571428571 210.0 248.3928571428571\" stroke=\"blue\" stroke-width=\"2\"/><path d=\"M 410 288.57142857142856 210.0 288.57142857142856\" stroke=\"blue\" stroke-width=\"2\"/><path d=\"M 210.0 248.3928571428571 210.0 288.57142857142856\" stroke=\"blue\" stroke-width=\"2\"/><path d=\"M 410 138.57142857142856 410.0 138.57142857142856\" stroke=\"red\" stroke-width=\"2\"/><path d=\"M 410 160.0 410.0 160.0\" stroke=\"red\" stroke-width=\"2\"/><path d=\"M 410.0 138.57142857142856 410.0 160.0\" stroke=\"red\" stroke-width=\"2\"/><path d=\"M 410.0 149.28571428571428 410.0 149.28571428571428\" stroke=\"red\" stroke-width=\"2\"/><path d=\"M 410 181.42857142857142 410.0 181.42857142857142\" stroke=\"red\" stroke-width=\"2\"/><path d=\"M 410.0 149.28571428571428 410.0 181.42857142857142\" stroke=\"red\" stroke-width=\"2\"/><path d=\"M 410 95.71428571428571 410.0 95.71428571428571\" stroke=\"red\" stroke-width=\"2\"/><path d=\"M 410 117.14285714285714 410.0 117.14285714285714\" stroke=\"red\" stroke-width=\"2\"/><path d=\"M 410.0 95.71428571428571 410.0 117.14285714285714\" stroke=\"red\" stroke-width=\"2\"/><path d=\"M 410.0 106.42857142857142 210.0 106.42857142857142\" stroke=\"red\" stroke-width=\"2\"/><path d=\"M 410.0 165.35714285714283 210.0 165.35714285714283\" stroke=\"red\" stroke-width=\"2\"/><path d=\"M 210.0 106.42857142857142 210.0 165.35714285714283\" stroke=\"red\" stroke-width=\"2\"/><path d=\"M 410 52.857142857142854 410.0 52.857142857142854\" stroke=\"green\" stroke-width=\"2\"/><path d=\"M 410 74.28571428571428 410.0 74.28571428571428\" stroke=\"green\" stroke-width=\"2\"/><path d=\"M 410.0 52.857142857142854 410.0 74.28571428571428\" stroke=\"green\" stroke-width=\"2\"/><path d=\"M 410 10.0 410.0 10.0\" stroke=\"green\" stroke-width=\"2\"/><path d=\"M 410 31.428571428571427 410.0 31.428571428571427\" stroke=\"green\" stroke-width=\"2\"/><path d=\"M 410.0 10.0 410.0 31.428571428571427\" stroke=\"green\" stroke-width=\"2\"/><path d=\"M 410.0 20.714285714285715 210.0 20.714285714285715\" stroke=\"green\" stroke-width=\"2\"/><path d=\"M 410.0 63.57142857142857 210.0 63.57142857142857\" stroke=\"green\" stroke-width=\"2\"/><path d=\"M 210.0 20.714285714285715 210.0 63.57142857142857\" stroke=\"green\" stroke-width=\"2\"/><path d=\"M 210.0 42.14285714285714 10.0 42.14285714285714\" stroke=\"black\" stroke-width=\"2\"/><path d=\"M 210.0 135.8928571428571 10.0 135.8928571428571\" stroke=\"black\" stroke-width=\"2\"/><path d=\"M 10.0 42.14285714285714 10.0 135.8928571428571\" stroke=\"black\" stroke-width=\"2\"/><path d=\"M 10.0 89.01785714285712 10.0 89.01785714285712\" stroke=\"black\" stroke-width=\"2\"/><path d=\"M 210.0 268.48214285714283 10.0 268.48214285714283\" stroke=\"black\" stroke-width=\"2\"/><path d=\"M 10.0 89.01785714285712 10.0 268.48214285714283\" stroke=\"black\" stroke-width=\"2\"/></svg>"
      ],
      "text/plain": [
       "<IPython.core.display.SVG object>"
      ]
     },
     "execution_count": 18,
     "metadata": {},
     "output_type": "execute_result"
    }
   ],
   "source": [
    "SVG(image)"
   ]
  },
  {
   "cell_type": "markdown",
   "metadata": {},
   "source": [
    "**Cuts of the dendrogram**"
   ]
  },
  {
   "cell_type": "code",
   "execution_count": 19,
   "metadata": {
    "pycharm": {
     "is_executing": false
    }
   },
   "outputs": [
    {
     "name": "stdout",
     "output_type": "stream",
     "text": [
      "[1 0 2 0 2 2 1 0 1 2 1 0 0 1]\n"
     ]
    }
   ],
   "source": [
    "# cut with 3 clusters\n",
    "labels = cut_straight(dendrogram, n_clusters = 3)\n",
    "print(labels)"
   ]
  },
  {
   "cell_type": "code",
   "execution_count": 20,
   "metadata": {
    "pycharm": {
     "is_executing": false
    }
   },
   "outputs": [],
   "source": [
    "image = svg_digraph(adjacency, position, names=names, labels=labels)"
   ]
  },
  {
   "cell_type": "code",
   "execution_count": 21,
   "metadata": {
    "pycharm": {
     "is_executing": false
    }
   },
   "outputs": [
    {
     "data": {
      "image/svg+xml": [
       "<svg height=\"340\" width=\"566.0\"><defs><marker id=\"arrow\" markerHeight=\"10\" markerWidth=\"10\" orient=\"auto\" refX=\"9\" refY=\"3\"><path d=\"M0,0 L0,6 L9,3 z\" fill=\"gray\"/></marker></defs><path d=\"M 247 48 77 64\" marker-end=\"url(#arrow)\" stroke=\"gray\" stroke-width=\"1\"/><path d=\"M 247 48 170 55\" marker-end=\"url(#arrow)\" stroke=\"gray\" stroke-width=\"1\"/><path d=\"M 20 108 66 68\" marker-end=\"url(#arrow)\" stroke=\"gray\" stroke-width=\"1\"/><path d=\"M 20 108 87 129\" marker-end=\"url(#arrow)\" stroke=\"gray\" stroke-width=\"1\"/><path d=\"M 74 268 146 317\" marker-end=\"url(#arrow)\" stroke=\"gray\" stroke-width=\"1\"/><path d=\"M 71 64 241 48\" marker-end=\"url(#arrow)\" stroke=\"gray\" stroke-width=\"1\"/><path d=\"M 71 64 25 104\" marker-end=\"url(#arrow)\" stroke=\"gray\" stroke-width=\"1\"/><path d=\"M 71 64 56 156\" marker-end=\"url(#arrow)\" stroke=\"gray\" stroke-width=\"1\"/><path d=\"M 71 64 126 90\" marker-end=\"url(#arrow)\" stroke=\"gray\" stroke-width=\"1\"/><path d=\"M 71 64 91 125\" marker-end=\"url(#arrow)\" stroke=\"gray\" stroke-width=\"1\"/><path d=\"M 144 227 80 265\" marker-end=\"url(#arrow)\" stroke=\"gray\" stroke-width=\"1\"/><path d=\"M 144 227 202 255\" marker-end=\"url(#arrow)\" stroke=\"gray\" stroke-width=\"1\"/><path d=\"M 144 227 151 314\" marker-end=\"url(#arrow)\" stroke=\"gray\" stroke-width=\"1\"/><path d=\"M 208 257 80 268\" marker-end=\"url(#arrow)\" stroke=\"gray\" stroke-width=\"1\"/><path d=\"M 208 257 150 229\" marker-end=\"url(#arrow)\" stroke=\"gray\" stroke-width=\"1\"/><path d=\"M 208 257 205 146\" marker-end=\"url(#arrow)\" stroke=\"gray\" stroke-width=\"1\"/><path d=\"M 208 257 155 315\" marker-end=\"url(#arrow)\" stroke=\"gray\" stroke-width=\"1\"/><path d=\"M 420 20 253 47\" marker-end=\"url(#arrow)\" stroke=\"gray\" stroke-width=\"1\"/><path d=\"M 420 20 405 88\" marker-end=\"url(#arrow)\" stroke=\"gray\" stroke-width=\"1\"/><path d=\"M 55 162 23 113\" marker-end=\"url(#arrow)\" stroke=\"gray\" stroke-width=\"1\"/><path d=\"M 55 162 73 262\" marker-end=\"url(#arrow)\" stroke=\"gray\" stroke-width=\"1\"/><path d=\"M 55 162 70 70\" marker-end=\"url(#arrow)\" stroke=\"gray\" stroke-width=\"1\"/><path d=\"M 55 162 199 140\" marker-end=\"url(#arrow)\" stroke=\"gray\" stroke-width=\"1\"/><path d=\"M 55 162 127 96\" marker-end=\"url(#arrow)\" stroke=\"gray\" stroke-width=\"1\"/><path d=\"M 55 162 88 135\" marker-end=\"url(#arrow)\" stroke=\"gray\" stroke-width=\"1\"/><path d=\"M 205 140 245 54\" marker-end=\"url(#arrow)\" stroke=\"gray\" stroke-width=\"1\"/><path d=\"M 205 140 26 109\" marker-end=\"url(#arrow)\" stroke=\"gray\" stroke-width=\"1\"/><path d=\"M 205 140 148 222\" marker-end=\"url(#arrow)\" stroke=\"gray\" stroke-width=\"1\"/><path d=\"M 205 140 208 251\" marker-end=\"url(#arrow)\" stroke=\"gray\" stroke-width=\"1\"/><path d=\"M 205 140 61 162\" marker-end=\"url(#arrow)\" stroke=\"gray\" stroke-width=\"1\"/><path d=\"M 205 140 167 61\" marker-end=\"url(#arrow)\" stroke=\"gray\" stroke-width=\"1\"/><path d=\"M 205 140 137 95\" marker-end=\"url(#arrow)\" stroke=\"gray\" stroke-width=\"1\"/><path d=\"M 151 320 79 271\" marker-end=\"url(#arrow)\" stroke=\"gray\" stroke-width=\"1\"/><path d=\"M 151 320 144 233\" marker-end=\"url(#arrow)\" stroke=\"gray\" stroke-width=\"1\"/><path d=\"M 164 55 241 48\" marker-end=\"url(#arrow)\" stroke=\"gray\" stroke-width=\"1\"/><path d=\"M 164 55 77 64\" marker-end=\"url(#arrow)\" stroke=\"gray\" stroke-width=\"1\"/><path d=\"M 164 55 202 134\" marker-end=\"url(#arrow)\" stroke=\"gray\" stroke-width=\"1\"/><path d=\"M 164 55 136 87\" marker-end=\"url(#arrow)\" stroke=\"gray\" stroke-width=\"1\"/><path d=\"M 164 55 97 126\" marker-end=\"url(#arrow)\" stroke=\"gray\" stroke-width=\"1\"/><path d=\"M 132 92 241 50\" marker-end=\"url(#arrow)\" stroke=\"gray\" stroke-width=\"1\"/><path d=\"M 132 92 26 108\" marker-end=\"url(#arrow)\" stroke=\"gray\" stroke-width=\"1\"/><path d=\"M 132 92 77 66\" marker-end=\"url(#arrow)\" stroke=\"gray\" stroke-width=\"1\"/><path d=\"M 132 92 160 60\" marker-end=\"url(#arrow)\" stroke=\"gray\" stroke-width=\"1\"/><path d=\"M 132 92 97 127\" marker-end=\"url(#arrow)\" stroke=\"gray\" stroke-width=\"1\"/><path d=\"M 93 131 26 110\" marker-end=\"url(#arrow)\" stroke=\"gray\" stroke-width=\"1\"/><path d=\"M 93 131 73 70\" marker-end=\"url(#arrow)\" stroke=\"gray\" stroke-width=\"1\"/><path d=\"M 93 131 141 221\" marker-end=\"url(#arrow)\" stroke=\"gray\" stroke-width=\"1\"/><path d=\"M 93 131 60 158\" marker-end=\"url(#arrow)\" stroke=\"gray\" stroke-width=\"1\"/><path d=\"M 404 94 419 26\" marker-end=\"url(#arrow)\" stroke=\"gray\" stroke-width=\"1\"/><path d=\"M 404 94 211 139\" marker-end=\"url(#arrow)\" stroke=\"gray\" stroke-width=\"1\"/><circle cx=\"247\" cy=\"48\" r=\"7.0\" style=\"fill:red;stroke:black;stroke-width:1.0\"/><circle cx=\"20\" cy=\"108\" r=\"7.0\" style=\"fill:blue;stroke:black;stroke-width:1.0\"/><circle cx=\"74\" cy=\"268\" r=\"7.0\" style=\"fill:green;stroke:black;stroke-width:1.0\"/><circle cx=\"71\" cy=\"64\" r=\"7.0\" style=\"fill:blue;stroke:black;stroke-width:1.0\"/><circle cx=\"144\" cy=\"227\" r=\"7.0\" style=\"fill:green;stroke:black;stroke-width:1.0\"/><circle cx=\"208\" cy=\"257\" r=\"7.0\" style=\"fill:green;stroke:black;stroke-width:1.0\"/><circle cx=\"420\" cy=\"20\" r=\"7.0\" style=\"fill:red;stroke:black;stroke-width:1.0\"/><circle cx=\"55\" cy=\"162\" r=\"7.0\" style=\"fill:blue;stroke:black;stroke-width:1.0\"/><circle cx=\"205\" cy=\"140\" r=\"7.0\" style=\"fill:red;stroke:black;stroke-width:1.0\"/><circle cx=\"151\" cy=\"320\" r=\"7.0\" style=\"fill:green;stroke:black;stroke-width:1.0\"/><circle cx=\"164\" cy=\"55\" r=\"7.0\" style=\"fill:red;stroke:black;stroke-width:1.0\"/><circle cx=\"132\" cy=\"92\" r=\"7.0\" style=\"fill:blue;stroke:black;stroke-width:1.0\"/><circle cx=\"93\" cy=\"131\" r=\"7.0\" style=\"fill:blue;stroke:black;stroke-width:1.0\"/><circle cx=\"404\" cy=\"94\" r=\"7.0\" style=\"fill:red;stroke:black;stroke-width:1.0\"/><text font-size=\"12\" x=\"264\" y=\"55\">Pablo Picasso</text><text font-size=\"12\" x=\"37\" y=\"115\">Claude Monet</text><text font-size=\"12\" x=\"91\" y=\"275\">Michel Angelo</text><text font-size=\"12\" x=\"88\" y=\"71\">Edouard Manet</text><text font-size=\"12\" x=\"161\" y=\"234\">Peter Paul Rubens</text><text font-size=\"12\" x=\"225\" y=\"264\">Rembrandt</text><text font-size=\"12\" x=\"437\" y=\"27\">Gustav Klimt</text><text font-size=\"12\" x=\"72\" y=\"169\">Edgar Degas</text><text font-size=\"12\" x=\"222\" y=\"147\">Vincent van Gogh</text><text font-size=\"12\" x=\"168\" y=\"327\">Leonardo da Vinci</text><text font-size=\"12\" x=\"181\" y=\"62\">Henri Matisse</text><text font-size=\"12\" x=\"149\" y=\"99\">Paul Cezanne</text><text font-size=\"12\" x=\"110\" y=\"138\">Pierre-Auguste Renoir</text><text font-size=\"12\" x=\"421\" y=\"101\">Egon Schiele</text></svg>"
      ],
      "text/plain": [
       "<IPython.core.display.SVG object>"
      ]
     },
     "execution_count": 21,
     "metadata": {},
     "output_type": "execute_result"
    }
   ],
   "source": [
    "SVG(image)"
   ]
  },
  {
   "cell_type": "markdown",
   "metadata": {},
   "source": [
    "**Metrics**"
   ]
  },
  {
   "cell_type": "code",
   "execution_count": 22,
   "metadata": {
    "pycharm": {
     "is_executing": false
    }
   },
   "outputs": [
    {
     "data": {
      "text/plain": [
       "0.4842857142857142"
      ]
     },
     "execution_count": 22,
     "metadata": {},
     "output_type": "execute_result"
    }
   ],
   "source": [
    "dasgupta_score(adjacency, dendrogram)"
   ]
  },
  {
   "cell_type": "code",
   "execution_count": 23,
   "metadata": {
    "pycharm": {
     "is_executing": false
    },
    "scrolled": true
   },
   "outputs": [
    {
     "data": {
      "text/plain": [
       "0.42595079927794577"
      ]
     },
     "execution_count": 23,
     "metadata": {},
     "output_type": "execute_result"
    }
   ],
   "source": [
    "tree_sampling_divergence(adjacency, dendrogram)"
   ]
  },
  {
   "cell_type": "markdown",
   "metadata": {},
   "source": [
    "## Bigraphs"
   ]
  },
  {
   "cell_type": "code",
   "execution_count": 24,
   "metadata": {},
   "outputs": [],
   "source": [
    "graph = movie_actor(metadata=True)\n",
    "biadjacency = graph.biadjacency\n",
    "names_row = graph.names_row\n",
    "names_col = graph.names_col"
   ]
  },
  {
   "cell_type": "markdown",
   "metadata": {},
   "source": [
    "**Hierarchy**"
   ]
  },
  {
   "cell_type": "code",
   "execution_count": 25,
   "metadata": {},
   "outputs": [],
   "source": [
    "bilouvain = BiLouvainHierarchy()\n",
    "bilouvain.fit(biadjacency)\n",
    "dendrogram_row = bilouvain.dendrogram_row_\n",
    "dendrogram_col = bilouvain.dendrogram_col_\n",
    "dendrogram_full = bilouvain.dendrogram_full_"
   ]
  },
  {
   "cell_type": "code",
   "execution_count": 26,
   "metadata": {},
   "outputs": [],
   "source": [
    "image = svg_dendrogram(dendrogram_row, names_row, n_clusters=4, rotate=True)"
   ]
  },
  {
   "cell_type": "code",
   "execution_count": 27,
   "metadata": {},
   "outputs": [
    {
     "data": {
      "image/svg+xml": [
       "<svg height=\"320\" width=\"593.0\"><text font-size=\"12\" x=\"415\" y=\"190.0\">Inception</text><text font-size=\"12\" x=\"415\" y=\"170.0\">The Dark Knight Rises</text><text font-size=\"12\" x=\"415\" y=\"270.0\">The Big Short</text><text font-size=\"12\" x=\"415\" y=\"250.0\">Drive</text><text font-size=\"12\" x=\"415\" y=\"150.0\">The Great Gatsby</text><text font-size=\"12\" x=\"415\" y=\"230.0\">La La Land</text><text font-size=\"12\" x=\"415\" y=\"210.0\">Crazy Stupid Love</text><text font-size=\"12\" x=\"415\" y=\"290.0\">Vice</text><text font-size=\"12\" x=\"415\" y=\"70.0\">The Grand Budapest Hotel</text><text font-size=\"12\" x=\"415\" y=\"50.0\">Aviator</text><text font-size=\"12\" x=\"415\" y=\"110.0\">007 Spectre</text><text font-size=\"12\" x=\"415\" y=\"90.0\">Inglourious Basterds</text><text font-size=\"12\" x=\"415\" y=\"130.0\">Midnight In Paris</text><text font-size=\"12\" x=\"415\" y=\"30.0\">Murder on the Orient Express</text><text font-size=\"12\" x=\"415\" y=\"10.0\">Fantastic Beasts 2</text><path d=\"M 410 270.0 276.66666666666663 270.0\" stroke=\"blue\" stroke-width=\"2\"/><path d=\"M 410 290.0 276.66666666666663 290.0\" stroke=\"blue\" stroke-width=\"2\"/><path d=\"M 276.66666666666663 270.0 276.66666666666663 290.0\" stroke=\"blue\" stroke-width=\"2\"/><path d=\"M 410 230.0 276.66666666666663 230.0\" stroke=\"blue\" stroke-width=\"2\"/><path d=\"M 410 250.0 276.66666666666663 250.0\" stroke=\"blue\" stroke-width=\"2\"/><path d=\"M 276.66666666666663 230.0 276.66666666666663 250.0\" stroke=\"blue\" stroke-width=\"2\"/><path d=\"M 410 210.0 143.33333333333331 210.0\" stroke=\"blue\" stroke-width=\"2\"/><path d=\"M 276.66666666666663 240.0 143.33333333333331 240.0\" stroke=\"blue\" stroke-width=\"2\"/><path d=\"M 143.33333333333331 210.0 143.33333333333331 240.0\" stroke=\"blue\" stroke-width=\"2\"/><path d=\"M 143.33333333333331 225.0 143.33333333333331 225.0\" stroke=\"blue\" stroke-width=\"2\"/><path d=\"M 276.66666666666663 280.0 143.33333333333331 280.0\" stroke=\"blue\" stroke-width=\"2\"/><path d=\"M 143.33333333333331 225.0 143.33333333333331 280.0\" stroke=\"blue\" stroke-width=\"2\"/><path d=\"M 410 170.0 276.66666666666663 170.0\" stroke=\"green\" stroke-width=\"2\"/><path d=\"M 410 190.0 276.66666666666663 190.0\" stroke=\"green\" stroke-width=\"2\"/><path d=\"M 276.66666666666663 170.0 276.66666666666663 190.0\" stroke=\"green\" stroke-width=\"2\"/><path d=\"M 410 150.0 143.33333333333331 150.0\" stroke=\"green\" stroke-width=\"2\"/><path d=\"M 276.66666666666663 180.0 143.33333333333331 180.0\" stroke=\"green\" stroke-width=\"2\"/><path d=\"M 143.33333333333331 150.0 143.33333333333331 180.0\" stroke=\"green\" stroke-width=\"2\"/><path d=\"M 410 90.0 143.33333333333331 90.0\" stroke=\"orange\" stroke-width=\"2\"/><path d=\"M 410 110.0 143.33333333333331 110.0\" stroke=\"orange\" stroke-width=\"2\"/><path d=\"M 143.33333333333331 90.0 143.33333333333331 110.0\" stroke=\"orange\" stroke-width=\"2\"/><path d=\"M 143.33333333333331 100.0 143.33333333333331 100.0\" stroke=\"orange\" stroke-width=\"2\"/><path d=\"M 410 130.0 143.33333333333331 130.0\" stroke=\"orange\" stroke-width=\"2\"/><path d=\"M 143.33333333333331 100.0 143.33333333333331 130.0\" stroke=\"orange\" stroke-width=\"2\"/><path d=\"M 410 50.0 276.66666666666663 50.0\" stroke=\"red\" stroke-width=\"2\"/><path d=\"M 410 70.0 276.66666666666663 70.0\" stroke=\"red\" stroke-width=\"2\"/><path d=\"M 276.66666666666663 50.0 276.66666666666663 70.0\" stroke=\"red\" stroke-width=\"2\"/><path d=\"M 410 10.0 276.66666666666663 10.0\" stroke=\"red\" stroke-width=\"2\"/><path d=\"M 410 30.0 276.66666666666663 30.0\" stroke=\"red\" stroke-width=\"2\"/><path d=\"M 276.66666666666663 10.0 276.66666666666663 30.0\" stroke=\"red\" stroke-width=\"2\"/><path d=\"M 276.66666666666663 20.0 143.33333333333331 20.0\" stroke=\"red\" stroke-width=\"2\"/><path d=\"M 276.66666666666663 60.0 143.33333333333331 60.0\" stroke=\"red\" stroke-width=\"2\"/><path d=\"M 143.33333333333331 20.0 143.33333333333331 60.0\" stroke=\"red\" stroke-width=\"2\"/><path d=\"M 143.33333333333331 40.0 10.0 40.0\" stroke=\"black\" stroke-width=\"2\"/><path d=\"M 143.33333333333331 115.0 10.0 115.0\" stroke=\"black\" stroke-width=\"2\"/><path d=\"M 10.0 40.0 10.0 115.0\" stroke=\"black\" stroke-width=\"2\"/><path d=\"M 10.0 77.5 10.0 77.5\" stroke=\"black\" stroke-width=\"2\"/><path d=\"M 143.33333333333331 165.0 10.0 165.0\" stroke=\"black\" stroke-width=\"2\"/><path d=\"M 10.0 77.5 10.0 165.0\" stroke=\"black\" stroke-width=\"2\"/><path d=\"M 10.0 121.25 10.0 121.25\" stroke=\"black\" stroke-width=\"2\"/><path d=\"M 143.33333333333331 252.5 10.0 252.5\" stroke=\"black\" stroke-width=\"2\"/><path d=\"M 10.0 121.25 10.0 252.5\" stroke=\"black\" stroke-width=\"2\"/></svg>"
      ],
      "text/plain": [
       "<IPython.core.display.SVG object>"
      ]
     },
     "execution_count": 27,
     "metadata": {},
     "output_type": "execute_result"
    }
   ],
   "source": [
    "SVG(image)"
   ]
  },
  {
   "cell_type": "code",
   "execution_count": 28,
   "metadata": {},
   "outputs": [],
   "source": [
    "image = svg_dendrogram(dendrogram_col, names_col, n_clusters=4, rotate=True)"
   ]
  },
  {
   "cell_type": "code",
   "execution_count": 29,
   "metadata": {},
   "outputs": [
    {
     "data": {
      "image/svg+xml": [
       "<svg height=\"320\" width=\"545.0\"><text font-size=\"12\" x=\"415\" y=\"160.0\">Leonardo DiCaprio</text><text font-size=\"12\" x=\"415\" y=\"197.5\">Marion Cotillard</text><text font-size=\"12\" x=\"415\" y=\"178.75\">Joseph Gordon Lewitt</text><text font-size=\"12\" x=\"415\" y=\"291.25\">Christian Bale</text><text font-size=\"12\" x=\"415\" y=\"253.75\">Ryan Gosling</text><text font-size=\"12\" x=\"415\" y=\"272.5\">Brad Pitt</text><text font-size=\"12\" x=\"415\" y=\"141.25\">Carey Mulligan</text><text font-size=\"12\" x=\"415\" y=\"235.0\">Emma Stone</text><text font-size=\"12\" x=\"415\" y=\"216.25\">Steve Carell</text><text font-size=\"12\" x=\"415\" y=\"122.5\">Lea Seydoux</text><text font-size=\"12\" x=\"415\" y=\"85.0\">Ralph Fiennes</text><text font-size=\"12\" x=\"415\" y=\"47.5\">Jude Law</text><text font-size=\"12\" x=\"415\" y=\"28.75\">Willem Dafoe</text><text font-size=\"12\" x=\"415\" y=\"66.25\">Christophe Waltz</text><text font-size=\"12\" x=\"415\" y=\"10.0\">Johnny Depp</text><text font-size=\"12\" x=\"415\" y=\"103.75\">Owen Wilson</text><path d=\"M 410 272.5 276.66666666666663 272.5\" stroke=\"blue\" stroke-width=\"2\"/><path d=\"M 410 291.25 276.66666666666663 291.25\" stroke=\"blue\" stroke-width=\"2\"/><path d=\"M 276.66666666666663 272.5 276.66666666666663 291.25\" stroke=\"blue\" stroke-width=\"2\"/><path d=\"M 410 235.0 276.66666666666663 235.0\" stroke=\"blue\" stroke-width=\"2\"/><path d=\"M 410 253.75 276.66666666666663 253.75\" stroke=\"blue\" stroke-width=\"2\"/><path d=\"M 276.66666666666663 235.0 276.66666666666663 253.75\" stroke=\"blue\" stroke-width=\"2\"/><path d=\"M 410 216.25 143.33333333333331 216.25\" stroke=\"blue\" stroke-width=\"2\"/><path d=\"M 276.66666666666663 244.375 143.33333333333331 244.375\" stroke=\"blue\" stroke-width=\"2\"/><path d=\"M 143.33333333333331 216.25 143.33333333333331 244.375\" stroke=\"blue\" stroke-width=\"2\"/><path d=\"M 143.33333333333331 230.3125 143.33333333333331 230.3125\" stroke=\"blue\" stroke-width=\"2\"/><path d=\"M 276.66666666666663 281.875 143.33333333333331 281.875\" stroke=\"blue\" stroke-width=\"2\"/><path d=\"M 143.33333333333331 230.3125 143.33333333333331 281.875\" stroke=\"blue\" stroke-width=\"2\"/><path d=\"M 410 178.75 276.66666666666663 178.75\" stroke=\"red\" stroke-width=\"2\"/><path d=\"M 410 197.5 276.66666666666663 197.5\" stroke=\"red\" stroke-width=\"2\"/><path d=\"M 276.66666666666663 178.75 276.66666666666663 197.5\" stroke=\"red\" stroke-width=\"2\"/><path d=\"M 410 141.25 276.66666666666663 141.25\" stroke=\"red\" stroke-width=\"2\"/><path d=\"M 410 160.0 276.66666666666663 160.0\" stroke=\"red\" stroke-width=\"2\"/><path d=\"M 276.66666666666663 141.25 276.66666666666663 160.0\" stroke=\"red\" stroke-width=\"2\"/><path d=\"M 276.66666666666663 150.625 143.33333333333331 150.625\" stroke=\"red\" stroke-width=\"2\"/><path d=\"M 276.66666666666663 188.125 143.33333333333331 188.125\" stroke=\"red\" stroke-width=\"2\"/><path d=\"M 143.33333333333331 150.625 143.33333333333331 188.125\" stroke=\"red\" stroke-width=\"2\"/><path d=\"M 410 103.75 276.66666666666663 103.75\" stroke=\"green\" stroke-width=\"2\"/><path d=\"M 410 122.5 276.66666666666663 122.5\" stroke=\"green\" stroke-width=\"2\"/><path d=\"M 276.66666666666663 103.75 276.66666666666663 122.5\" stroke=\"green\" stroke-width=\"2\"/><path d=\"M 410 66.25 143.33333333333331 66.25\" stroke=\"green\" stroke-width=\"2\"/><path d=\"M 410 85.0 143.33333333333331 85.0\" stroke=\"green\" stroke-width=\"2\"/><path d=\"M 143.33333333333331 66.25 143.33333333333331 85.0\" stroke=\"green\" stroke-width=\"2\"/><path d=\"M 143.33333333333331 75.625 143.33333333333331 75.625\" stroke=\"green\" stroke-width=\"2\"/><path d=\"M 276.66666666666663 113.125 143.33333333333331 113.125\" stroke=\"green\" stroke-width=\"2\"/><path d=\"M 143.33333333333331 75.625 143.33333333333331 113.125\" stroke=\"green\" stroke-width=\"2\"/><path d=\"M 410 28.75 276.66666666666663 28.75\" stroke=\"orange\" stroke-width=\"2\"/><path d=\"M 410 47.5 276.66666666666663 47.5\" stroke=\"orange\" stroke-width=\"2\"/><path d=\"M 276.66666666666663 28.75 276.66666666666663 47.5\" stroke=\"orange\" stroke-width=\"2\"/><path d=\"M 410 10.0 143.33333333333331 10.0\" stroke=\"orange\" stroke-width=\"2\"/><path d=\"M 276.66666666666663 38.125 143.33333333333331 38.125\" stroke=\"orange\" stroke-width=\"2\"/><path d=\"M 143.33333333333331 10.0 143.33333333333331 38.125\" stroke=\"orange\" stroke-width=\"2\"/><path d=\"M 143.33333333333331 24.0625 10.0 24.0625\" stroke=\"black\" stroke-width=\"2\"/><path d=\"M 143.33333333333331 94.375 10.0 94.375\" stroke=\"black\" stroke-width=\"2\"/><path d=\"M 10.0 24.0625 10.0 94.375\" stroke=\"black\" stroke-width=\"2\"/><path d=\"M 10.0 59.21875 10.0 59.21875\" stroke=\"black\" stroke-width=\"2\"/><path d=\"M 143.33333333333331 169.375 10.0 169.375\" stroke=\"black\" stroke-width=\"2\"/><path d=\"M 10.0 59.21875 10.0 169.375\" stroke=\"black\" stroke-width=\"2\"/><path d=\"M 10.0 114.296875 10.0 114.296875\" stroke=\"black\" stroke-width=\"2\"/><path d=\"M 143.33333333333331 256.09375 10.0 256.09375\" stroke=\"black\" stroke-width=\"2\"/><path d=\"M 10.0 114.296875 10.0 256.09375\" stroke=\"black\" stroke-width=\"2\"/></svg>"
      ],
      "text/plain": [
       "<IPython.core.display.SVG object>"
      ]
     },
     "execution_count": 29,
     "metadata": {},
     "output_type": "execute_result"
    }
   ],
   "source": [
    "SVG(image)"
   ]
  },
  {
   "cell_type": "markdown",
   "metadata": {},
   "source": [
    "**Cuts of the dendrogram**"
   ]
  },
  {
   "cell_type": "code",
   "execution_count": 30,
   "metadata": {},
   "outputs": [],
   "source": [
    "labels = cut_straight(dendrogram_full, n_clusters = 4)\n",
    "n_row = biadjacency.shape[0]\n",
    "labels_row = labels[:n_row]\n",
    "labels_col = labels[n_row:]"
   ]
  },
  {
   "cell_type": "code",
   "execution_count": 31,
   "metadata": {},
   "outputs": [],
   "source": [
    "image = svg_bigraph(biadjacency, names_row, names_col, labels_row, labels_col)"
   ]
  },
  {
   "cell_type": "code",
   "execution_count": 32,
   "metadata": {},
   "outputs": [
    {
     "data": {
      "image/svg+xml": [
       "<svg height=\"340\" width=\"728.0\"><path d=\"M 188 90 588 140\" stroke=\"black\" stroke-width=\"1\"/><path d=\"M 188 90 588 60\" stroke=\"black\" stroke-width=\"1\"/><path d=\"M 188 90 588 40\" stroke=\"black\" stroke-width=\"1\"/><path d=\"M 188 70 588 60\" stroke=\"black\" stroke-width=\"1\"/><path d=\"M 188 70 588 40\" stroke=\"black\" stroke-width=\"1\"/><path d=\"M 188 70 588 220\" stroke=\"black\" stroke-width=\"1\"/><path d=\"M 188 230 588 220\" stroke=\"black\" stroke-width=\"1\"/><path d=\"M 188 230 588 200\" stroke=\"black\" stroke-width=\"1\"/><path d=\"M 188 230 588 320\" stroke=\"black\" stroke-width=\"1\"/><path d=\"M 188 230 588 160\" stroke=\"black\" stroke-width=\"1\"/><path d=\"M 188 50 588 200\" stroke=\"black\" stroke-width=\"1\"/><path d=\"M 188 50 588 20\" stroke=\"black\" stroke-width=\"1\"/><path d=\"M 188 30 588 140\" stroke=\"black\" stroke-width=\"1\"/><path d=\"M 188 30 588 20\" stroke=\"black\" stroke-width=\"1\"/><path d=\"M 188 210 588 200\" stroke=\"black\" stroke-width=\"1\"/><path d=\"M 188 210 588 180\" stroke=\"black\" stroke-width=\"1\"/><path d=\"M 188 190 588 200\" stroke=\"black\" stroke-width=\"1\"/><path d=\"M 188 190 588 180\" stroke=\"black\" stroke-width=\"1\"/><path d=\"M 188 190 588 160\" stroke=\"black\" stroke-width=\"1\"/><path d=\"M 188 170 588 220\" stroke=\"black\" stroke-width=\"1\"/><path d=\"M 188 170 588 160\" stroke=\"black\" stroke-width=\"1\"/><path d=\"M 188 310 588 300\" stroke=\"black\" stroke-width=\"1\"/><path d=\"M 188 310 588 280\" stroke=\"black\" stroke-width=\"1\"/><path d=\"M 188 310 588 120\" stroke=\"black\" stroke-width=\"1\"/><path d=\"M 188 310 588 100\" stroke=\"black\" stroke-width=\"1\"/><path d=\"M 188 310 588 239\" stroke=\"black\" stroke-width=\"1\"/><path d=\"M 188 150 588 140\" stroke=\"black\" stroke-width=\"1\"/><path d=\"M 188 150 588 120\" stroke=\"black\" stroke-width=\"1\"/><path d=\"M 188 150 588 100\" stroke=\"black\" stroke-width=\"1\"/><path d=\"M 188 290 588 300\" stroke=\"black\" stroke-width=\"1\"/><path d=\"M 188 290 588 280\" stroke=\"black\" stroke-width=\"1\"/><path d=\"M 188 290 588 260\" stroke=\"black\" stroke-width=\"1\"/><path d=\"M 188 270 588 320\" stroke=\"black\" stroke-width=\"1\"/><path d=\"M 188 270 588 300\" stroke=\"black\" stroke-width=\"1\"/><path d=\"M 188 270 588 260\" stroke=\"black\" stroke-width=\"1\"/><path d=\"M 188 250 588 60\" stroke=\"black\" stroke-width=\"1\"/><path d=\"M 188 250 588 300\" stroke=\"black\" stroke-width=\"1\"/><path d=\"M 188 250 588 239\" stroke=\"black\" stroke-width=\"1\"/><path d=\"M 188 130 588 100\" stroke=\"black\" stroke-width=\"1\"/><path d=\"M 188 130 588 80\" stroke=\"black\" stroke-width=\"1\"/><path d=\"M 188 110 588 120\" stroke=\"black\" stroke-width=\"1\"/><path d=\"M 188 110 588 80\" stroke=\"black\" stroke-width=\"1\"/><circle cx=\"188\" cy=\"90\" r=\"7.0\" style=\"fill:red;stroke:black;stroke-width:1.0\"/><circle cx=\"188\" cy=\"70\" r=\"7.0\" style=\"fill:red;stroke:black;stroke-width:1.0\"/><circle cx=\"188\" cy=\"230\" r=\"7.0\" style=\"fill:blue;stroke:black;stroke-width:1.0\"/><circle cx=\"188\" cy=\"50\" r=\"7.0\" style=\"fill:blue;stroke:black;stroke-width:1.0\"/><circle cx=\"188\" cy=\"30\" r=\"7.0\" style=\"fill:red;stroke:black;stroke-width:1.0\"/><circle cx=\"188\" cy=\"210\" r=\"7.0\" style=\"fill:blue;stroke:black;stroke-width:1.0\"/><circle cx=\"188\" cy=\"190\" r=\"7.0\" style=\"fill:blue;stroke:black;stroke-width:1.0\"/><circle cx=\"188\" cy=\"170\" r=\"7.0\" style=\"fill:blue;stroke:black;stroke-width:1.0\"/><circle cx=\"188\" cy=\"310\" r=\"7.0\" style=\"fill:orange;stroke:black;stroke-width:1.0\"/><circle cx=\"188\" cy=\"150\" r=\"7.0\" style=\"fill:orange;stroke:black;stroke-width:1.0\"/><circle cx=\"188\" cy=\"290\" r=\"7.0\" style=\"fill:green;stroke:black;stroke-width:1.0\"/><circle cx=\"188\" cy=\"270\" r=\"7.0\" style=\"fill:green;stroke:black;stroke-width:1.0\"/><circle cx=\"188\" cy=\"250\" r=\"7.0\" style=\"fill:green;stroke:black;stroke-width:1.0\"/><circle cx=\"188\" cy=\"130\" r=\"7.0\" style=\"fill:orange;stroke:black;stroke-width:1.0\"/><circle cx=\"188\" cy=\"110\" r=\"7.0\" style=\"fill:orange;stroke:black;stroke-width:1.0\"/><circle cx=\"588\" cy=\"140\" r=\"7.0\" style=\"fill:red;stroke:black;stroke-width:1.0\"/><circle cx=\"588\" cy=\"60\" r=\"7.0\" style=\"fill:red;stroke:black;stroke-width:1.0\"/><circle cx=\"588\" cy=\"40\" r=\"7.0\" style=\"fill:red;stroke:black;stroke-width:1.0\"/><circle cx=\"588\" cy=\"220\" r=\"7.0\" style=\"fill:blue;stroke:black;stroke-width:1.0\"/><circle cx=\"588\" cy=\"200\" r=\"7.0\" style=\"fill:blue;stroke:black;stroke-width:1.0\"/><circle cx=\"588\" cy=\"320\" r=\"7.0\" style=\"fill:blue;stroke:black;stroke-width:1.0\"/><circle cx=\"588\" cy=\"20\" r=\"7.0\" style=\"fill:red;stroke:black;stroke-width:1.0\"/><circle cx=\"588\" cy=\"180\" r=\"7.0\" style=\"fill:blue;stroke:black;stroke-width:1.0\"/><circle cx=\"588\" cy=\"160\" r=\"7.0\" style=\"fill:blue;stroke:black;stroke-width:1.0\"/><circle cx=\"588\" cy=\"300\" r=\"7.0\" style=\"fill:green;stroke:black;stroke-width:1.0\"/><circle cx=\"588\" cy=\"280\" r=\"7.0\" style=\"fill:green;stroke:black;stroke-width:1.0\"/><circle cx=\"588\" cy=\"120\" r=\"7.0\" style=\"fill:orange;stroke:black;stroke-width:1.0\"/><circle cx=\"588\" cy=\"100\" r=\"7.0\" style=\"fill:orange;stroke:black;stroke-width:1.0\"/><circle cx=\"588\" cy=\"260\" r=\"7.0\" style=\"fill:green;stroke:black;stroke-width:1.0\"/><circle cx=\"588\" cy=\"80\" r=\"7.0\" style=\"fill:orange;stroke:black;stroke-width:1.0\"/><circle cx=\"588\" cy=\"239\" r=\"7.0\" style=\"fill:green;stroke:black;stroke-width:1.0\"/><text font-size=\"12\" text-anchor=\"end\" x=\"178\" y=\"90\">Inception</text><text font-size=\"12\" text-anchor=\"end\" x=\"178\" y=\"70\">The Dark Knight Rises</text><text font-size=\"12\" text-anchor=\"end\" x=\"178\" y=\"230\">The Big Short</text><text font-size=\"12\" text-anchor=\"end\" x=\"178\" y=\"50\">Drive</text><text font-size=\"12\" text-anchor=\"end\" x=\"178\" y=\"30\">The Great Gatsby</text><text font-size=\"12\" text-anchor=\"end\" x=\"178\" y=\"210\">La La Land</text><text font-size=\"12\" text-anchor=\"end\" x=\"178\" y=\"190\">Crazy Stupid Love</text><text font-size=\"12\" text-anchor=\"end\" x=\"178\" y=\"170\">Vice</text><text font-size=\"12\" text-anchor=\"end\" x=\"178\" y=\"310\">The Grand Budapest Hotel</text><text font-size=\"12\" text-anchor=\"end\" x=\"178\" y=\"150\">Aviator</text><text font-size=\"12\" text-anchor=\"end\" x=\"178\" y=\"290\">007 Spectre</text><text font-size=\"12\" text-anchor=\"end\" x=\"178\" y=\"270\">Inglourious Basterds</text><text font-size=\"12\" text-anchor=\"end\" x=\"178\" y=\"250\">Midnight In Paris</text><text font-size=\"12\" text-anchor=\"end\" x=\"178\" y=\"130\">Murder on the Orient Express</text><text font-size=\"12\" text-anchor=\"end\" x=\"178\" y=\"110\">Fantastic Beasts 2</text><text font-size=\"12\" x=\"598\" y=\"140\">Leonardo DiCaprio</text><text font-size=\"12\" x=\"598\" y=\"60\">Marion Cotillard</text><text font-size=\"12\" x=\"598\" y=\"40\">Joseph Gordon Lewitt</text><text font-size=\"12\" x=\"598\" y=\"220\">Christian Bale</text><text font-size=\"12\" x=\"598\" y=\"200\">Ryan Gosling</text><text font-size=\"12\" x=\"598\" y=\"320\">Brad Pitt</text><text font-size=\"12\" x=\"598\" y=\"20\">Carey Mulligan</text><text font-size=\"12\" x=\"598\" y=\"180\">Emma Stone</text><text font-size=\"12\" x=\"598\" y=\"160\">Steve Carell</text><text font-size=\"12\" x=\"598\" y=\"300\">Lea Seydoux</text><text font-size=\"12\" x=\"598\" y=\"280\">Ralph Fiennes</text><text font-size=\"12\" x=\"598\" y=\"120\">Jude Law</text><text font-size=\"12\" x=\"598\" y=\"100\">Willem Dafoe</text><text font-size=\"12\" x=\"598\" y=\"260\">Christophe Waltz</text><text font-size=\"12\" x=\"598\" y=\"80\">Johnny Depp</text><text font-size=\"12\" x=\"598\" y=\"239\">Owen Wilson</text></svg>"
      ],
      "text/plain": [
       "<IPython.core.display.SVG object>"
      ]
     },
     "execution_count": 32,
     "metadata": {},
     "output_type": "execute_result"
    }
   ],
   "source": [
    "SVG(image)"
   ]
  }
 ],
 "metadata": {
  "kernelspec": {
   "display_name": "Python 3",
   "language": "python",
   "name": "python3"
  },
  "language_info": {
   "codemirror_mode": {
    "name": "ipython",
    "version": 3
   },
   "file_extension": ".py",
   "mimetype": "text/x-python",
   "name": "python",
   "nbconvert_exporter": "python",
   "pygments_lexer": "ipython3",
   "version": "3.7.7"
  },
  "pycharm": {
   "stem_cell": {
    "cell_type": "raw",
    "metadata": {
     "collapsed": false
    },
    "source": []
   }
  },
  "toc": {
   "base_numbering": 1,
   "nav_menu": {},
   "number_sections": true,
   "sideBar": true,
   "skip_h1_title": false,
   "title_cell": "Table of Contents",
   "title_sidebar": "Contents",
   "toc_cell": false,
   "toc_position": {},
   "toc_section_display": true,
   "toc_window_display": false
  }
 },
 "nbformat": 4,
 "nbformat_minor": 1
}
