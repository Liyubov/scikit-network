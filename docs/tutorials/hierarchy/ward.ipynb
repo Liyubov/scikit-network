{
 "cells": [
  {
   "cell_type": "markdown",
   "metadata": {
    "collapsed": true
   },
   "source": [
    "# Ward"
   ]
  },
  {
   "cell_type": "markdown",
   "metadata": {},
   "source": [
    "This notebook illustrates the hierarchical clustering of graphs by the [Ward method](https://scikit-network.readthedocs.io/en/latest/reference/hierarchy.html), after embedding in a space of low dimension."
   ]
  },
  {
   "cell_type": "code",
   "execution_count": 1,
   "metadata": {},
   "outputs": [],
   "source": [
    "from IPython.display import SVG"
   ]
  },
  {
   "cell_type": "code",
   "execution_count": 2,
   "metadata": {
    "pycharm": {
     "is_executing": false
    }
   },
   "outputs": [],
   "source": [
    "import numpy as np"
   ]
  },
  {
   "cell_type": "code",
   "execution_count": 3,
   "metadata": {
    "pycharm": {
     "is_executing": false,
     "name": "#%%\n"
    }
   },
   "outputs": [],
   "source": [
    "from sknetwork.data import karate_club, painters, movie_actor\n",
    "from sknetwork.embedding import Spectral\n",
    "from sknetwork.hierarchy import Ward, BiWard, cut_straight, dasgupta_score, tree_sampling_divergence\n",
    "from sknetwork.visualization import svg_graph, svg_digraph, svg_bigraph, svg_dendrogram"
   ]
  },
  {
   "cell_type": "markdown",
   "metadata": {},
   "source": [
    "## Graphs"
   ]
  },
  {
   "cell_type": "code",
   "execution_count": 4,
   "metadata": {
    "pycharm": {
     "is_executing": false
    }
   },
   "outputs": [],
   "source": [
    "graph = karate_club(metadata=True)\n",
    "adjacency = graph.adjacency\n",
    "position = graph.position"
   ]
  },
  {
   "cell_type": "markdown",
   "metadata": {},
   "source": [
    "**Hierarchy**"
   ]
  },
  {
   "cell_type": "code",
   "execution_count": 5,
   "metadata": {
    "pycharm": {
     "is_executing": false
    }
   },
   "outputs": [],
   "source": [
    "ward = Ward()\n",
    "dendrogram = ward.fit_transform(adjacency)"
   ]
  },
  {
   "cell_type": "code",
   "execution_count": 6,
   "metadata": {
    "pycharm": {
     "is_executing": false
    }
   },
   "outputs": [],
   "source": [
    "image = svg_dendrogram(dendrogram)"
   ]
  },
  {
   "cell_type": "code",
   "execution_count": 7,
   "metadata": {},
   "outputs": [
    {
     "data": {
      "image/svg+xml": [
       "<svg height=\"320\" width=\"420\"><path d=\"M 68.82352941176471 310 68.82352941176471 310.0\" stroke=\"blue\" stroke-width=\"2\"/><path d=\"M 80.58823529411765 310 80.58823529411765 310.0\" stroke=\"blue\" stroke-width=\"2\"/><path d=\"M 68.82352941176471 310.0 80.58823529411765 310.0\" stroke=\"blue\" stroke-width=\"2\"/><path d=\"M 57.05882352941177 310 57.05882352941177 310.0\" stroke=\"blue\" stroke-width=\"2\"/><path d=\"M 74.70588235294119 310.0 74.70588235294119 310.0\" stroke=\"blue\" stroke-width=\"2\"/><path d=\"M 57.05882352941177 310.0 74.70588235294119 310.0\" stroke=\"blue\" stroke-width=\"2\"/><path d=\"M 339.4117647058824 310 339.4117647058824 309.99999999999994\" stroke=\"red\" stroke-width=\"2\"/><path d=\"M 351.1764705882353 310 351.1764705882353 309.99999999999994\" stroke=\"red\" stroke-width=\"2\"/><path d=\"M 339.4117647058824 309.99999999999994 351.1764705882353 309.99999999999994\" stroke=\"red\" stroke-width=\"2\"/><path d=\"M 45.294117647058826 310 45.294117647058826 309.99999999999994\" stroke=\"blue\" stroke-width=\"2\"/><path d=\"M 65.88235294117648 310.0 65.88235294117648 309.99999999999994\" stroke=\"blue\" stroke-width=\"2\"/><path d=\"M 45.294117647058826 309.99999999999994 65.88235294117648 309.99999999999994\" stroke=\"blue\" stroke-width=\"2\"/><path d=\"M 33.529411764705884 310 33.529411764705884 309.99999999999994\" stroke=\"blue\" stroke-width=\"2\"/><path d=\"M 55.58823529411765 309.99999999999994 55.58823529411765 309.99999999999994\" stroke=\"blue\" stroke-width=\"2\"/><path d=\"M 33.529411764705884 309.99999999999994 55.58823529411765 309.99999999999994\" stroke=\"blue\" stroke-width=\"2\"/><path d=\"M 304.11764705882354 310 304.11764705882354 285.0724127271175\" stroke=\"red\" stroke-width=\"2\"/><path d=\"M 315.88235294117646 310 315.88235294117646 285.0724127271175\" stroke=\"red\" stroke-width=\"2\"/><path d=\"M 304.11764705882354 285.0724127271175 315.88235294117646 285.0724127271175\" stroke=\"red\" stroke-width=\"2\"/><path d=\"M 280.5882352941177 310 280.5882352941177 272.85161757915233\" stroke=\"red\" stroke-width=\"2\"/><path d=\"M 292.3529411764706 310 292.3529411764706 272.85161757915233\" stroke=\"red\" stroke-width=\"2\"/><path d=\"M 280.5882352941177 272.85161757915233 292.3529411764706 272.85161757915233\" stroke=\"red\" stroke-width=\"2\"/><path d=\"M 174.7058823529412 310 174.7058823529412 271.434878761375\" stroke=\"blue\" stroke-width=\"2\"/><path d=\"M 186.47058823529414 310 186.47058823529414 271.434878761375\" stroke=\"blue\" stroke-width=\"2\"/><path d=\"M 174.7058823529412 271.434878761375 186.47058823529414 271.434878761375\" stroke=\"blue\" stroke-width=\"2\"/><path d=\"M 221.76470588235296 310 221.76470588235296 268.5207059794544\" stroke=\"red\" stroke-width=\"2\"/><path d=\"M 233.5294117647059 310 233.5294117647059 268.5207059794544\" stroke=\"red\" stroke-width=\"2\"/><path d=\"M 221.76470588235296 268.5207059794544 233.5294117647059 268.5207059794544\" stroke=\"red\" stroke-width=\"2\"/><path d=\"M 257.05882352941177 310 257.05882352941177 268.52070597945436\" stroke=\"red\" stroke-width=\"2\"/><path d=\"M 268.82352941176475 310 268.82352941176475 268.52070597945436\" stroke=\"red\" stroke-width=\"2\"/><path d=\"M 257.05882352941177 268.52070597945436 268.82352941176475 268.52070597945436\" stroke=\"red\" stroke-width=\"2\"/><path d=\"M 151.1764705882353 310 151.1764705882353 265.91635315429534\" stroke=\"blue\" stroke-width=\"2\"/><path d=\"M 162.94117647058823 310 162.94117647058823 265.91635315429534\" stroke=\"blue\" stroke-width=\"2\"/><path d=\"M 151.1764705882353 265.91635315429534 162.94117647058823 265.91635315429534\" stroke=\"blue\" stroke-width=\"2\"/><path d=\"M 327.64705882352945 310 327.64705882352945 265.0609069725293\" stroke=\"red\" stroke-width=\"2\"/><path d=\"M 345.29411764705884 309.99999999999994 345.29411764705884 265.0609069725293\" stroke=\"red\" stroke-width=\"2\"/><path d=\"M 327.64705882352945 265.0609069725293 345.29411764705884 265.0609069725293\" stroke=\"red\" stroke-width=\"2\"/><path d=\"M 198.23529411764707 310 198.23529411764707 258.7352669559107\" stroke=\"blue\" stroke-width=\"2\"/><path d=\"M 210.0 310 210.0 258.7352669559107\" stroke=\"blue\" stroke-width=\"2\"/><path d=\"M 198.23529411764707 258.7352669559107 210.0 258.7352669559107\" stroke=\"blue\" stroke-width=\"2\"/><path d=\"M 104.11764705882354 310 104.11764705882354 257.40294199177697\" stroke=\"blue\" stroke-width=\"2\"/><path d=\"M 115.88235294117648 310 115.88235294117648 257.40294199177697\" stroke=\"blue\" stroke-width=\"2\"/><path d=\"M 104.11764705882354 257.40294199177697 115.88235294117648 257.40294199177697\" stroke=\"blue\" stroke-width=\"2\"/><path d=\"M 386.47058823529414 310 386.47058823529414 245.84575001709754\" stroke=\"red\" stroke-width=\"2\"/><path d=\"M 398.2352941176471 310 398.2352941176471 245.84575001709754\" stroke=\"red\" stroke-width=\"2\"/><path d=\"M 386.47058823529414 245.84575001709754 398.2352941176471 245.84575001709754\" stroke=\"red\" stroke-width=\"2\"/><path d=\"M 310.0 285.0724127271175 310.0 242.20386762777915\" stroke=\"red\" stroke-width=\"2\"/><path d=\"M 336.47058823529414 265.0609069725293 336.47058823529414 242.20386762777915\" stroke=\"red\" stroke-width=\"2\"/><path d=\"M 310.0 242.20386762777915 336.47058823529414 242.20386762777915\" stroke=\"red\" stroke-width=\"2\"/><path d=\"M 374.7058823529412 310 374.7058823529412 240.81372220695198\" stroke=\"red\" stroke-width=\"2\"/><path d=\"M 392.3529411764706 245.84575001709754 392.3529411764706 240.81372220695198\" stroke=\"red\" stroke-width=\"2\"/><path d=\"M 374.7058823529412 240.81372220695198 392.3529411764706 240.81372220695198\" stroke=\"red\" stroke-width=\"2\"/><path d=\"M 139.41176470588238 310 139.41176470588238 236.99812187719485\" stroke=\"blue\" stroke-width=\"2\"/><path d=\"M 157.05882352941177 265.91635315429534 157.05882352941177 236.99812187719485\" stroke=\"blue\" stroke-width=\"2\"/><path d=\"M 139.41176470588238 236.99812187719485 157.05882352941177 236.99812187719485\" stroke=\"blue\" stroke-width=\"2\"/><path d=\"M 127.64705882352942 310 127.64705882352942 230.5850966694817\" stroke=\"blue\" stroke-width=\"2\"/><path d=\"M 148.23529411764707 236.99812187719485 148.23529411764707 230.5850966694817\" stroke=\"blue\" stroke-width=\"2\"/><path d=\"M 127.64705882352942 230.5850966694817 148.23529411764707 230.5850966694817\" stroke=\"blue\" stroke-width=\"2\"/><path d=\"M 286.47058823529414 272.85161757915233 286.47058823529414 227.9579579887464\" stroke=\"red\" stroke-width=\"2\"/><path d=\"M 323.2352941176471 242.20386762777915 323.2352941176471 227.9579579887464\" stroke=\"red\" stroke-width=\"2\"/><path d=\"M 286.47058823529414 227.9579579887464 323.2352941176471 227.9579579887464\" stroke=\"red\" stroke-width=\"2\"/><path d=\"M 21.764705882352942 310 21.764705882352942 227.38122080290242\" stroke=\"blue\" stroke-width=\"2\"/><path d=\"M 44.55882352941177 309.99999999999994 44.55882352941177 227.38122080290242\" stroke=\"blue\" stroke-width=\"2\"/><path d=\"M 21.764705882352942 227.38122080290242 44.55882352941177 227.38122080290242\" stroke=\"blue\" stroke-width=\"2\"/><path d=\"M 92.3529411764706 310 92.3529411764706 223.93862759039632\" stroke=\"blue\" stroke-width=\"2\"/><path d=\"M 110.0 257.40294199177697 110.0 223.93862759039632\" stroke=\"blue\" stroke-width=\"2\"/><path d=\"M 92.3529411764706 223.93862759039632 110.0 223.93862759039632\" stroke=\"blue\" stroke-width=\"2\"/><path d=\"M 10.0 310 10.0 220.0785337947725\" stroke=\"blue\" stroke-width=\"2\"/><path d=\"M 33.161764705882355 227.38122080290242 33.161764705882355 220.0785337947725\" stroke=\"blue\" stroke-width=\"2\"/><path d=\"M 10.0 220.0785337947725 33.161764705882355 220.0785337947725\" stroke=\"blue\" stroke-width=\"2\"/><path d=\"M 245.29411764705884 310 245.29411764705884 210.65403370288854\" stroke=\"red\" stroke-width=\"2\"/><path d=\"M 262.9411764705883 268.52070597945436 262.9411764705883 210.65403370288854\" stroke=\"red\" stroke-width=\"2\"/><path d=\"M 245.29411764705884 210.65403370288854 262.9411764705883 210.65403370288854\" stroke=\"red\" stroke-width=\"2\"/><path d=\"M 362.9411764705883 310 362.9411764705883 208.05067391641617\" stroke=\"red\" stroke-width=\"2\"/><path d=\"M 383.5294117647059 240.81372220695198 383.5294117647059 208.05067391641617\" stroke=\"red\" stroke-width=\"2\"/><path d=\"M 362.9411764705883 208.05067391641617 383.5294117647059 208.05067391641617\" stroke=\"red\" stroke-width=\"2\"/><path d=\"M 227.64705882352945 268.5207059794544 227.64705882352945 162.73207657962863\" stroke=\"red\" stroke-width=\"2\"/><path d=\"M 254.11764705882356 210.65403370288854 254.11764705882356 162.73207657962863\" stroke=\"red\" stroke-width=\"2\"/><path d=\"M 227.64705882352945 162.73207657962863 254.11764705882356 162.73207657962863\" stroke=\"red\" stroke-width=\"2\"/><path d=\"M 180.58823529411768 271.434878761375 180.58823529411768 156.47270964879536\" stroke=\"blue\" stroke-width=\"2\"/><path d=\"M 204.11764705882354 258.7352669559107 204.11764705882354 156.47270964879536\" stroke=\"blue\" stroke-width=\"2\"/><path d=\"M 180.58823529411768 156.47270964879536 204.11764705882354 156.47270964879536\" stroke=\"blue\" stroke-width=\"2\"/><path d=\"M 137.94117647058823 230.5850966694817 137.94117647058823 149.61889155371097\" stroke=\"blue\" stroke-width=\"2\"/><path d=\"M 192.3529411764706 156.47270964879536 192.3529411764706 149.61889155371097\" stroke=\"blue\" stroke-width=\"2\"/><path d=\"M 137.94117647058823 149.61889155371097 192.3529411764706 149.61889155371097\" stroke=\"blue\" stroke-width=\"2\"/><path d=\"M 101.1764705882353 223.93862759039632 101.1764705882353 140.65763553873484\" stroke=\"blue\" stroke-width=\"2\"/><path d=\"M 165.14705882352942 149.61889155371097 165.14705882352942 140.65763553873484\" stroke=\"blue\" stroke-width=\"2\"/><path d=\"M 101.1764705882353 140.65763553873484 165.14705882352942 140.65763553873484\" stroke=\"blue\" stroke-width=\"2\"/><path d=\"M 304.8529411764706 227.9579579887464 304.8529411764706 122.53575065471705\" stroke=\"red\" stroke-width=\"2\"/><path d=\"M 373.2352941176471 208.05067391641617 373.2352941176471 122.53575065471705\" stroke=\"red\" stroke-width=\"2\"/><path d=\"M 304.8529411764706 122.53575065471705 373.2352941176471 122.53575065471705\" stroke=\"red\" stroke-width=\"2\"/><path d=\"M 21.580882352941178 220.0785337947725 21.580882352941178 94.76979389969159\" stroke=\"blue\" stroke-width=\"2\"/><path d=\"M 133.16176470588238 140.65763553873484 133.16176470588238 94.76979389969159\" stroke=\"blue\" stroke-width=\"2\"/><path d=\"M 21.580882352941178 94.76979389969159 133.16176470588238 94.76979389969159\" stroke=\"blue\" stroke-width=\"2\"/><path d=\"M 240.88235294117652 162.73207657962863 240.88235294117652 88.42236243398554\" stroke=\"red\" stroke-width=\"2\"/><path d=\"M 339.04411764705884 122.53575065471705 339.04411764705884 88.42236243398554\" stroke=\"red\" stroke-width=\"2\"/><path d=\"M 240.88235294117652 88.42236243398554 339.04411764705884 88.42236243398554\" stroke=\"red\" stroke-width=\"2\"/><path d=\"M 77.37132352941178 94.76979389969159 77.37132352941178 10.0\" stroke=\"black\" stroke-width=\"2\"/><path d=\"M 289.9632352941177 88.42236243398554 289.9632352941177 10.0\" stroke=\"black\" stroke-width=\"2\"/><path d=\"M 77.37132352941178 10.0 289.9632352941177 10.0\" stroke=\"black\" stroke-width=\"2\"/></svg>"
      ],
      "text/plain": [
       "<IPython.core.display.SVG object>"
      ]
     },
     "execution_count": 7,
     "metadata": {},
     "output_type": "execute_result"
    }
   ],
   "source": [
    "SVG(image)"
   ]
  },
  {
   "cell_type": "markdown",
   "metadata": {},
   "source": [
    "**Cuts of the dendrogram**"
   ]
  },
  {
   "cell_type": "code",
   "execution_count": 8,
   "metadata": {
    "pycharm": {
     "is_executing": false
    },
    "scrolled": true
   },
   "outputs": [
    {
     "name": "stdout",
     "output_type": "stream",
     "text": [
      "[1 1 1 1 1 1 1 1 0 0 1 1 1 1 0 0 1 1 0 1 0 1 0 0 0 0 0 0 0 0 0 0 0 0]\n"
     ]
    }
   ],
   "source": [
    "labels = cut_straight(dendrogram)\n",
    "print(labels)"
   ]
  },
  {
   "cell_type": "code",
   "execution_count": 9,
   "metadata": {
    "pycharm": {
     "is_executing": false
    }
   },
   "outputs": [
    {
     "name": "stdout",
     "output_type": "stream",
     "text": [
      "[1 1 1 1 3 3 3 1 0 0 3 1 1 1 2 2 3 1 2 1 2 1 2 0 0 0 0 0 0 2 2 0 0 0]\n"
     ]
    }
   ],
   "source": [
    "n_clusters = 4\n",
    "labels, dendrogram_aggregate = cut_straight(dendrogram, n_clusters, return_dendrogram=True)\n",
    "print(labels)"
   ]
  },
  {
   "cell_type": "code",
   "execution_count": null,
   "metadata": {},
   "outputs": [],
   "source": [
    "_, counts = np.unique(labels, return_counts=True)"
   ]
  },
  {
   "cell_type": "code",
   "execution_count": 16,
   "metadata": {},
   "outputs": [],
   "source": [
    "image = svg_dendrogram(dendrogram_aggregate, names=counts, rotate_names=False)"
   ]
  },
  {
   "cell_type": "code",
   "execution_count": 17,
   "metadata": {},
   "outputs": [
    {
     "data": {
      "image/svg+xml": [
       "<svg height=\"333.0\" width=\"420\"><text font-size=\"16\" transform=\"rotate(60, 105.0, 315)\" x=\"105.0\" y=\"315\">0</text><text font-size=\"16\" transform=\"rotate(60, 305.0, 315)\" x=\"305.0\" y=\"315\">1</text><text font-size=\"16\" transform=\"rotate(60, 5.0, 315)\" x=\"5.0\" y=\"315\">2</text><text font-size=\"16\" transform=\"rotate(60, 205.0, 315)\" x=\"205.0\" y=\"315\">3</text><path d=\"M 10.0 310 10.0 94.76979389969159\" stroke=\"blue\" stroke-width=\"2\"/><path d=\"M 110.0 310 110.0 94.76979389969159\" stroke=\"blue\" stroke-width=\"2\"/><path d=\"M 10.0 94.76979389969159 110.0 94.76979389969159\" stroke=\"blue\" stroke-width=\"2\"/><path d=\"M 210.0 310 210.0 88.42236243398554\" stroke=\"red\" stroke-width=\"2\"/><path d=\"M 310.0 310 310.0 88.42236243398554\" stroke=\"red\" stroke-width=\"2\"/><path d=\"M 210.0 88.42236243398554 310.0 88.42236243398554\" stroke=\"red\" stroke-width=\"2\"/><path d=\"M 60.0 94.76979389969159 60.0 10.0\" stroke=\"black\" stroke-width=\"2\"/><path d=\"M 260.0 88.42236243398554 260.0 10.0\" stroke=\"black\" stroke-width=\"2\"/><path d=\"M 60.0 10.0 260.0 10.0\" stroke=\"black\" stroke-width=\"2\"/></svg>"
      ],
      "text/plain": [
       "<IPython.core.display.SVG object>"
      ]
     },
     "execution_count": 17,
     "metadata": {},
     "output_type": "execute_result"
    }
   ],
   "source": [
    "SVG(image)"
   ]
  },
  {
   "cell_type": "code",
   "execution_count": 18,
   "metadata": {
    "pycharm": {
     "is_executing": false
    }
   },
   "outputs": [],
   "source": [
    "image = svg_graph(adjacency, position, labels=labels)"
   ]
  },
  {
   "cell_type": "code",
   "execution_count": 19,
   "metadata": {
    "pycharm": {
     "is_executing": false
    }
   },
   "outputs": [
    {
     "data": {
      "image/svg+xml": [
       "<svg height=\"340\" width=\"440\"><path d=\"M 264 200 353 168\" stroke=\"black\" stroke-width=\"1\"/><path d=\"M 264 200 251 143\" stroke=\"black\" stroke-width=\"1\"/><path d=\"M 264 200 304 191\" stroke=\"black\" stroke-width=\"1\"/><path d=\"M 264 200 255 255\" stroke=\"black\" stroke-width=\"1\"/><path d=\"M 264 200 211 275\" stroke=\"black\" stroke-width=\"1\"/><path d=\"M 264 200 264 277\" stroke=\"black\" stroke-width=\"1\"/><path d=\"M 264 200 340 186\" stroke=\"black\" stroke-width=\"1\"/><path d=\"M 264 200 282 125\" stroke=\"black\" stroke-width=\"1\"/><path d=\"M 264 200 188 252\" stroke=\"black\" stroke-width=\"1\"/><path d=\"M 264 200 122 212\" stroke=\"black\" stroke-width=\"1\"/><path d=\"M 264 200 335 236\" stroke=\"black\" stroke-width=\"1\"/><path d=\"M 264 200 282 153\" stroke=\"black\" stroke-width=\"1\"/><path d=\"M 264 200 388 216\" stroke=\"black\" stroke-width=\"1\"/><path d=\"M 264 200 331 143\" stroke=\"black\" stroke-width=\"1\"/><path d=\"M 264 200 420 202\" stroke=\"black\" stroke-width=\"1\"/><path d=\"M 264 200 153 125\" stroke=\"black\" stroke-width=\"1\"/><path d=\"M 353 168 264 200\" stroke=\"black\" stroke-width=\"1\"/><path d=\"M 353 168 251 143\" stroke=\"black\" stroke-width=\"1\"/><path d=\"M 353 168 304 191\" stroke=\"black\" stroke-width=\"1\"/><path d=\"M 353 168 340 186\" stroke=\"black\" stroke-width=\"1\"/><path d=\"M 353 168 282 153\" stroke=\"black\" stroke-width=\"1\"/><path d=\"M 353 168 388 216\" stroke=\"black\" stroke-width=\"1\"/><path d=\"M 353 168 331 143\" stroke=\"black\" stroke-width=\"1\"/><path d=\"M 353 168 420 202\" stroke=\"black\" stroke-width=\"1\"/><path d=\"M 353 168 344 107\" stroke=\"black\" stroke-width=\"1\"/><path d=\"M 251 143 264 200\" stroke=\"black\" stroke-width=\"1\"/><path d=\"M 251 143 353 168\" stroke=\"black\" stroke-width=\"1\"/><path d=\"M 251 143 304 191\" stroke=\"black\" stroke-width=\"1\"/><path d=\"M 251 143 340 186\" stroke=\"black\" stroke-width=\"1\"/><path d=\"M 251 143 282 125\" stroke=\"black\" stroke-width=\"1\"/><path d=\"M 251 143 197 100\" stroke=\"black\" stroke-width=\"1\"/><path d=\"M 251 143 282 153\" stroke=\"black\" stroke-width=\"1\"/><path d=\"M 251 143 122 103\" stroke=\"black\" stroke-width=\"1\"/><path d=\"M 251 143 197 120\" stroke=\"black\" stroke-width=\"1\"/><path d=\"M 251 143 260 73\" stroke=\"black\" stroke-width=\"1\"/><path d=\"M 304 191 264 200\" stroke=\"black\" stroke-width=\"1\"/><path d=\"M 304 191 353 168\" stroke=\"black\" stroke-width=\"1\"/><path d=\"M 304 191 251 143\" stroke=\"black\" stroke-width=\"1\"/><path d=\"M 304 191 340 186\" stroke=\"black\" stroke-width=\"1\"/><path d=\"M 304 191 335 236\" stroke=\"black\" stroke-width=\"1\"/><path d=\"M 304 191 282 153\" stroke=\"black\" stroke-width=\"1\"/><path d=\"M 255 255 264 200\" stroke=\"black\" stroke-width=\"1\"/><path d=\"M 255 255 264 277\" stroke=\"black\" stroke-width=\"1\"/><path d=\"M 255 255 188 252\" stroke=\"black\" stroke-width=\"1\"/><path d=\"M 211 275 264 200\" stroke=\"black\" stroke-width=\"1\"/><path d=\"M 211 275 264 277\" stroke=\"black\" stroke-width=\"1\"/><path d=\"M 211 275 188 252\" stroke=\"black\" stroke-width=\"1\"/><path d=\"M 211 275 220 320\" stroke=\"black\" stroke-width=\"1\"/><path d=\"M 264 277 264 200\" stroke=\"black\" stroke-width=\"1\"/><path d=\"M 264 277 255 255\" stroke=\"black\" stroke-width=\"1\"/><path d=\"M 264 277 211 275\" stroke=\"black\" stroke-width=\"1\"/><path d=\"M 264 277 220 320\" stroke=\"black\" stroke-width=\"1\"/><path d=\"M 340 186 264 200\" stroke=\"black\" stroke-width=\"1\"/><path d=\"M 340 186 353 168\" stroke=\"black\" stroke-width=\"1\"/><path d=\"M 340 186 251 143\" stroke=\"black\" stroke-width=\"1\"/><path d=\"M 340 186 304 191\" stroke=\"black\" stroke-width=\"1\"/><path d=\"M 282 125 264 200\" stroke=\"black\" stroke-width=\"1\"/><path d=\"M 282 125 251 143\" stroke=\"black\" stroke-width=\"1\"/><path d=\"M 282 125 344 107\" stroke=\"black\" stroke-width=\"1\"/><path d=\"M 282 125 260 73\" stroke=\"black\" stroke-width=\"1\"/><path d=\"M 282 125 246 82\" stroke=\"black\" stroke-width=\"1\"/><path d=\"M 197 100 251 143\" stroke=\"black\" stroke-width=\"1\"/><path d=\"M 197 100 246 82\" stroke=\"black\" stroke-width=\"1\"/><path d=\"M 188 252 264 200\" stroke=\"black\" stroke-width=\"1\"/><path d=\"M 188 252 255 255\" stroke=\"black\" stroke-width=\"1\"/><path d=\"M 188 252 211 275\" stroke=\"black\" stroke-width=\"1\"/><path d=\"M 122 212 264 200\" stroke=\"black\" stroke-width=\"1\"/><path d=\"M 335 236 264 200\" stroke=\"black\" stroke-width=\"1\"/><path d=\"M 335 236 304 191\" stroke=\"black\" stroke-width=\"1\"/><path d=\"M 282 153 264 200\" stroke=\"black\" stroke-width=\"1\"/><path d=\"M 282 153 353 168\" stroke=\"black\" stroke-width=\"1\"/><path d=\"M 282 153 251 143\" stroke=\"black\" stroke-width=\"1\"/><path d=\"M 282 153 304 191\" stroke=\"black\" stroke-width=\"1\"/><path d=\"M 282 153 246 82\" stroke=\"black\" stroke-width=\"1\"/><path d=\"M 348 43 260 73\" stroke=\"black\" stroke-width=\"1\"/><path d=\"M 348 43 246 82\" stroke=\"black\" stroke-width=\"1\"/><path d=\"M 273 27 260 73\" stroke=\"black\" stroke-width=\"1\"/><path d=\"M 273 27 246 82\" stroke=\"black\" stroke-width=\"1\"/><path d=\"M 220 320 211 275\" stroke=\"black\" stroke-width=\"1\"/><path d=\"M 220 320 264 277\" stroke=\"black\" stroke-width=\"1\"/><path d=\"M 388 216 264 200\" stroke=\"black\" stroke-width=\"1\"/><path d=\"M 388 216 353 168\" stroke=\"black\" stroke-width=\"1\"/><path d=\"M 313 34 260 73\" stroke=\"black\" stroke-width=\"1\"/><path d=\"M 313 34 246 82\" stroke=\"black\" stroke-width=\"1\"/><path d=\"M 331 143 264 200\" stroke=\"black\" stroke-width=\"1\"/><path d=\"M 331 143 353 168\" stroke=\"black\" stroke-width=\"1\"/><path d=\"M 331 143 246 82\" stroke=\"black\" stroke-width=\"1\"/><path d=\"M 366 61 260 73\" stroke=\"black\" stroke-width=\"1\"/><path d=\"M 366 61 246 82\" stroke=\"black\" stroke-width=\"1\"/><path d=\"M 420 202 264 200\" stroke=\"black\" stroke-width=\"1\"/><path d=\"M 420 202 353 168\" stroke=\"black\" stroke-width=\"1\"/><path d=\"M 228 32 260 73\" stroke=\"black\" stroke-width=\"1\"/><path d=\"M 228 32 246 82\" stroke=\"black\" stroke-width=\"1\"/><path d=\"M 131 68 28 91\" stroke=\"black\" stroke-width=\"1\"/><path d=\"M 131 68 122 103\" stroke=\"black\" stroke-width=\"1\"/><path d=\"M 131 68 171 45\" stroke=\"black\" stroke-width=\"1\"/><path d=\"M 131 68 260 73\" stroke=\"black\" stroke-width=\"1\"/><path d=\"M 131 68 246 82\" stroke=\"black\" stroke-width=\"1\"/><path d=\"M 20 116 28 91\" stroke=\"black\" stroke-width=\"1\"/><path d=\"M 20 116 122 103\" stroke=\"black\" stroke-width=\"1\"/><path d=\"M 20 116 153 125\" stroke=\"black\" stroke-width=\"1\"/><path d=\"M 28 91 131 68\" stroke=\"black\" stroke-width=\"1\"/><path d=\"M 28 91 20 116\" stroke=\"black\" stroke-width=\"1\"/><path d=\"M 28 91 153 125\" stroke=\"black\" stroke-width=\"1\"/><path d=\"M 162 20 171 45\" stroke=\"black\" stroke-width=\"1\"/><path d=\"M 162 20 246 82\" stroke=\"black\" stroke-width=\"1\"/><path d=\"M 122 103 251 143\" stroke=\"black\" stroke-width=\"1\"/><path d=\"M 122 103 131 68\" stroke=\"black\" stroke-width=\"1\"/><path d=\"M 122 103 20 116\" stroke=\"black\" stroke-width=\"1\"/><path d=\"M 122 103 246 82\" stroke=\"black\" stroke-width=\"1\"/><path d=\"M 197 120 251 143\" stroke=\"black\" stroke-width=\"1\"/><path d=\"M 197 120 153 125\" stroke=\"black\" stroke-width=\"1\"/><path d=\"M 197 120 246 82\" stroke=\"black\" stroke-width=\"1\"/><path d=\"M 171 45 131 68\" stroke=\"black\" stroke-width=\"1\"/><path d=\"M 171 45 162 20\" stroke=\"black\" stroke-width=\"1\"/><path d=\"M 171 45 260 73\" stroke=\"black\" stroke-width=\"1\"/><path d=\"M 171 45 246 82\" stroke=\"black\" stroke-width=\"1\"/><path d=\"M 344 107 353 168\" stroke=\"black\" stroke-width=\"1\"/><path d=\"M 344 107 282 125\" stroke=\"black\" stroke-width=\"1\"/><path d=\"M 344 107 260 73\" stroke=\"black\" stroke-width=\"1\"/><path d=\"M 344 107 246 82\" stroke=\"black\" stroke-width=\"1\"/><path d=\"M 153 125 264 200\" stroke=\"black\" stroke-width=\"1\"/><path d=\"M 153 125 20 116\" stroke=\"black\" stroke-width=\"1\"/><path d=\"M 153 125 28 91\" stroke=\"black\" stroke-width=\"1\"/><path d=\"M 153 125 197 120\" stroke=\"black\" stroke-width=\"1\"/><path d=\"M 153 125 260 73\" stroke=\"black\" stroke-width=\"1\"/><path d=\"M 153 125 246 82\" stroke=\"black\" stroke-width=\"1\"/><path d=\"M 260 73 251 143\" stroke=\"black\" stroke-width=\"1\"/><path d=\"M 260 73 282 125\" stroke=\"black\" stroke-width=\"1\"/><path d=\"M 260 73 348 43\" stroke=\"black\" stroke-width=\"1\"/><path d=\"M 260 73 273 27\" stroke=\"black\" stroke-width=\"1\"/><path d=\"M 260 73 313 34\" stroke=\"black\" stroke-width=\"1\"/><path d=\"M 260 73 366 61\" stroke=\"black\" stroke-width=\"1\"/><path d=\"M 260 73 228 32\" stroke=\"black\" stroke-width=\"1\"/><path d=\"M 260 73 131 68\" stroke=\"black\" stroke-width=\"1\"/><path d=\"M 260 73 171 45\" stroke=\"black\" stroke-width=\"1\"/><path d=\"M 260 73 344 107\" stroke=\"black\" stroke-width=\"1\"/><path d=\"M 260 73 153 125\" stroke=\"black\" stroke-width=\"1\"/><path d=\"M 260 73 246 82\" stroke=\"black\" stroke-width=\"1\"/><path d=\"M 246 82 282 125\" stroke=\"black\" stroke-width=\"1\"/><path d=\"M 246 82 197 100\" stroke=\"black\" stroke-width=\"1\"/><path d=\"M 246 82 282 153\" stroke=\"black\" stroke-width=\"1\"/><path d=\"M 246 82 348 43\" stroke=\"black\" stroke-width=\"1\"/><path d=\"M 246 82 273 27\" stroke=\"black\" stroke-width=\"1\"/><path d=\"M 246 82 313 34\" stroke=\"black\" stroke-width=\"1\"/><path d=\"M 246 82 331 143\" stroke=\"black\" stroke-width=\"1\"/><path d=\"M 246 82 366 61\" stroke=\"black\" stroke-width=\"1\"/><path d=\"M 246 82 228 32\" stroke=\"black\" stroke-width=\"1\"/><path d=\"M 246 82 131 68\" stroke=\"black\" stroke-width=\"1\"/><path d=\"M 246 82 162 20\" stroke=\"black\" stroke-width=\"1\"/><path d=\"M 246 82 122 103\" stroke=\"black\" stroke-width=\"1\"/><path d=\"M 246 82 197 120\" stroke=\"black\" stroke-width=\"1\"/><path d=\"M 246 82 171 45\" stroke=\"black\" stroke-width=\"1\"/><path d=\"M 246 82 344 107\" stroke=\"black\" stroke-width=\"1\"/><path d=\"M 246 82 153 125\" stroke=\"black\" stroke-width=\"1\"/><path d=\"M 246 82 260 73\" stroke=\"black\" stroke-width=\"1\"/><circle cx=\"264\" cy=\"200\" r=\"7.0\" style=\"fill:red;stroke:black;stroke-width:1.0\"/><circle cx=\"353\" cy=\"168\" r=\"7.0\" style=\"fill:red;stroke:black;stroke-width:1.0\"/><circle cx=\"251\" cy=\"143\" r=\"7.0\" style=\"fill:red;stroke:black;stroke-width:1.0\"/><circle cx=\"304\" cy=\"191\" r=\"7.0\" style=\"fill:red;stroke:black;stroke-width:1.0\"/><circle cx=\"255\" cy=\"255\" r=\"7.0\" style=\"fill:orange;stroke:black;stroke-width:1.0\"/><circle cx=\"211\" cy=\"275\" r=\"7.0\" style=\"fill:orange;stroke:black;stroke-width:1.0\"/><circle cx=\"264\" cy=\"277\" r=\"7.0\" style=\"fill:orange;stroke:black;stroke-width:1.0\"/><circle cx=\"340\" cy=\"186\" r=\"7.0\" style=\"fill:red;stroke:black;stroke-width:1.0\"/><circle cx=\"282\" cy=\"125\" r=\"7.0\" style=\"fill:blue;stroke:black;stroke-width:1.0\"/><circle cx=\"197\" cy=\"100\" r=\"7.0\" style=\"fill:blue;stroke:black;stroke-width:1.0\"/><circle cx=\"188\" cy=\"252\" r=\"7.0\" style=\"fill:orange;stroke:black;stroke-width:1.0\"/><circle cx=\"122\" cy=\"212\" r=\"7.0\" style=\"fill:red;stroke:black;stroke-width:1.0\"/><circle cx=\"335\" cy=\"236\" r=\"7.0\" style=\"fill:red;stroke:black;stroke-width:1.0\"/><circle cx=\"282\" cy=\"153\" r=\"7.0\" style=\"fill:red;stroke:black;stroke-width:1.0\"/><circle cx=\"348\" cy=\"43\" r=\"7.0\" style=\"fill:green;stroke:black;stroke-width:1.0\"/><circle cx=\"273\" cy=\"27\" r=\"7.0\" style=\"fill:green;stroke:black;stroke-width:1.0\"/><circle cx=\"220\" cy=\"320\" r=\"7.0\" style=\"fill:orange;stroke:black;stroke-width:1.0\"/><circle cx=\"388\" cy=\"216\" r=\"7.0\" style=\"fill:red;stroke:black;stroke-width:1.0\"/><circle cx=\"313\" cy=\"34\" r=\"7.0\" style=\"fill:green;stroke:black;stroke-width:1.0\"/><circle cx=\"331\" cy=\"143\" r=\"7.0\" style=\"fill:red;stroke:black;stroke-width:1.0\"/><circle cx=\"366\" cy=\"61\" r=\"7.0\" style=\"fill:green;stroke:black;stroke-width:1.0\"/><circle cx=\"420\" cy=\"202\" r=\"7.0\" style=\"fill:red;stroke:black;stroke-width:1.0\"/><circle cx=\"228\" cy=\"32\" r=\"7.0\" style=\"fill:green;stroke:black;stroke-width:1.0\"/><circle cx=\"131\" cy=\"68\" r=\"7.0\" style=\"fill:blue;stroke:black;stroke-width:1.0\"/><circle cx=\"20\" cy=\"116\" r=\"7.0\" style=\"fill:blue;stroke:black;stroke-width:1.0\"/><circle cx=\"28\" cy=\"91\" r=\"7.0\" style=\"fill:blue;stroke:black;stroke-width:1.0\"/><circle cx=\"162\" cy=\"20\" r=\"7.0\" style=\"fill:blue;stroke:black;stroke-width:1.0\"/><circle cx=\"122\" cy=\"103\" r=\"7.0\" style=\"fill:blue;stroke:black;stroke-width:1.0\"/><circle cx=\"197\" cy=\"120\" r=\"7.0\" style=\"fill:blue;stroke:black;stroke-width:1.0\"/><circle cx=\"171\" cy=\"45\" r=\"7.0\" style=\"fill:green;stroke:black;stroke-width:1.0\"/><circle cx=\"344\" cy=\"107\" r=\"7.0\" style=\"fill:green;stroke:black;stroke-width:1.0\"/><circle cx=\"153\" cy=\"125\" r=\"7.0\" style=\"fill:blue;stroke:black;stroke-width:1.0\"/><circle cx=\"260\" cy=\"73\" r=\"7.0\" style=\"fill:blue;stroke:black;stroke-width:1.0\"/><circle cx=\"246\" cy=\"82\" r=\"7.0\" style=\"fill:blue;stroke:black;stroke-width:1.0\"/></svg>"
      ],
      "text/plain": [
       "<IPython.core.display.SVG object>"
      ]
     },
     "execution_count": 19,
     "metadata": {},
     "output_type": "execute_result"
    }
   ],
   "source": [
    "SVG(image)"
   ]
  },
  {
   "cell_type": "markdown",
   "metadata": {},
   "source": [
    "**Metrics**"
   ]
  },
  {
   "cell_type": "code",
   "execution_count": 20,
   "metadata": {
    "pycharm": {
     "is_executing": false
    }
   },
   "outputs": [
    {
     "data": {
      "text/plain": [
       "0.583710407239819"
      ]
     },
     "execution_count": 20,
     "metadata": {},
     "output_type": "execute_result"
    }
   ],
   "source": [
    "dasgupta_score(adjacency, dendrogram)"
   ]
  },
  {
   "cell_type": "code",
   "execution_count": 21,
   "metadata": {
    "pycharm": {
     "is_executing": false
    }
   },
   "outputs": [
    {
     "data": {
      "text/plain": [
       "0.4342993247923879"
      ]
     },
     "execution_count": 21,
     "metadata": {},
     "output_type": "execute_result"
    }
   ],
   "source": [
    "tree_sampling_divergence(adjacency, dendrogram)"
   ]
  },
  {
   "cell_type": "markdown",
   "metadata": {},
   "source": [
    "**Other embedding**"
   ]
  },
  {
   "cell_type": "code",
   "execution_count": 22,
   "metadata": {
    "pycharm": {
     "is_executing": false
    }
   },
   "outputs": [],
   "source": [
    "ward = Ward(embedding_method=Spectral(4))"
   ]
  },
  {
   "cell_type": "markdown",
   "metadata": {},
   "source": [
    "## Digraphs"
   ]
  },
  {
   "cell_type": "code",
   "execution_count": 23,
   "metadata": {
    "pycharm": {
     "is_executing": false
    }
   },
   "outputs": [],
   "source": [
    "graph = painters(metadata=True)\n",
    "adjacency = graph.adjacency\n",
    "position = graph.position\n",
    "names = graph.names"
   ]
  },
  {
   "cell_type": "markdown",
   "metadata": {},
   "source": [
    "**Hierarchy**"
   ]
  },
  {
   "cell_type": "code",
   "execution_count": 24,
   "metadata": {
    "pycharm": {
     "is_executing": false
    }
   },
   "outputs": [],
   "source": [
    "biward = BiWard()\n",
    "dendrogram = biward.fit_transform(adjacency)"
   ]
  },
  {
   "cell_type": "code",
   "execution_count": 25,
   "metadata": {
    "pycharm": {
     "is_executing": false
    }
   },
   "outputs": [],
   "source": [
    "image = svg_dendrogram(dendrogram, names, n_clusters=3, rotate=True)"
   ]
  },
  {
   "cell_type": "code",
   "execution_count": 26,
   "metadata": {},
   "outputs": [
    {
     "data": {
      "image/svg+xml": [
       "<svg height=\"320\" width=\"551.0\"><text font-size=\"12\" x=\"415\" y=\"74.28571428571428\">Pablo Picasso</text><text font-size=\"12\" x=\"415\" y=\"117.14285714285714\">Claude Monet</text><text font-size=\"12\" x=\"415\" y=\"224.28571428571428\">Michel Angelo</text><text font-size=\"12\" x=\"415\" y=\"31.428571428571427\">Edouard Manet</text><text font-size=\"12\" x=\"415\" y=\"245.7142857142857\">Peter Paul Rubens</text><text font-size=\"12\" x=\"415\" y=\"181.42857142857142\">Rembrandt</text><text font-size=\"12\" x=\"415\" y=\"267.1428571428571\">Gustav Klimt</text><text font-size=\"12\" x=\"415\" y=\"138.57142857142856\">Edgar Degas</text><text font-size=\"12\" x=\"415\" y=\"52.857142857142854\">Vincent van Gogh</text><text font-size=\"12\" x=\"415\" y=\"202.85714285714283\">Leonardo da Vinci</text><text font-size=\"12\" x=\"415\" y=\"160.0\">Henri Matisse</text><text font-size=\"12\" x=\"415\" y=\"95.71428571428571\">Paul Cezanne</text><text font-size=\"12\" x=\"415\" y=\"10.0\">Pierre-Auguste Renoir</text><text font-size=\"12\" x=\"415\" y=\"288.57142857142856\">Egon Schiele</text><path d=\"M 410 138.57142857142856 320.6422392671402 138.57142857142856\" stroke=\"blue\" stroke-width=\"2\"/><path d=\"M 410 160.0 320.6422392671402 160.0\" stroke=\"blue\" stroke-width=\"2\"/><path d=\"M 320.6422392671402 138.57142857142856 320.6422392671402 160.0\" stroke=\"blue\" stroke-width=\"2\"/><path d=\"M 410 74.28571428571428 269.87430813182993 74.28571428571428\" stroke=\"blue\" stroke-width=\"2\"/><path d=\"M 410 95.71428571428571 269.87430813182993 95.71428571428571\" stroke=\"blue\" stroke-width=\"2\"/><path d=\"M 269.87430813182993 74.28571428571428 269.87430813182993 95.71428571428571\" stroke=\"blue\" stroke-width=\"2\"/><path d=\"M 410 181.42857142857142 268.3777653483751 181.42857142857142\" stroke=\"red\" stroke-width=\"2\"/><path d=\"M 410 202.85714285714283 268.3777653483751 202.85714285714283\" stroke=\"red\" stroke-width=\"2\"/><path d=\"M 268.3777653483751 181.42857142857142 268.3777653483751 202.85714285714283\" stroke=\"red\" stroke-width=\"2\"/><path d=\"M 410 31.428571428571427 255.77135712001294 31.428571428571427\" stroke=\"blue\" stroke-width=\"2\"/><path d=\"M 410 52.857142857142854 255.77135712001294 52.857142857142854\" stroke=\"blue\" stroke-width=\"2\"/><path d=\"M 255.77135712001294 31.428571428571427 255.77135712001294 52.857142857142854\" stroke=\"blue\" stroke-width=\"2\"/><path d=\"M 410 224.28571428571428 235.86453218121676 224.28571428571428\" stroke=\"red\" stroke-width=\"2\"/><path d=\"M 410 245.7142857142857 235.86453218121676 245.7142857142857\" stroke=\"red\" stroke-width=\"2\"/><path d=\"M 235.86453218121676 224.28571428571428 235.86453218121676 245.7142857142857\" stroke=\"red\" stroke-width=\"2\"/><path d=\"M 410 117.14285714285714 229.3277251581433 117.14285714285714\" stroke=\"blue\" stroke-width=\"2\"/><path d=\"M 320.6422392671402 149.28571428571428 229.3277251581433 149.28571428571428\" stroke=\"blue\" stroke-width=\"2\"/><path d=\"M 229.3277251581433 117.14285714285714 229.3277251581433 149.28571428571428\" stroke=\"blue\" stroke-width=\"2\"/><path d=\"M 410 10.0 226.69591863989018 10.0\" stroke=\"blue\" stroke-width=\"2\"/><path d=\"M 255.77135712001294 42.14285714285714 226.69591863989018 42.14285714285714\" stroke=\"blue\" stroke-width=\"2\"/><path d=\"M 226.69591863989018 10.0 226.69591863989018 42.14285714285714\" stroke=\"blue\" stroke-width=\"2\"/><path d=\"M 268.3777653483751 192.1428571428571 159.8180256115604 192.1428571428571\" stroke=\"red\" stroke-width=\"2\"/><path d=\"M 235.86453218121676 235.0 159.8180256115604 235.0\" stroke=\"red\" stroke-width=\"2\"/><path d=\"M 159.8180256115604 192.1428571428571 159.8180256115604 235.0\" stroke=\"red\" stroke-width=\"2\"/><path d=\"M 269.87430813182993 85.0 150.53769614844742 85.0\" stroke=\"blue\" stroke-width=\"2\"/><path d=\"M 229.3277251581433 133.21428571428572 150.53769614844742 133.21428571428572\" stroke=\"blue\" stroke-width=\"2\"/><path d=\"M 150.53769614844742 85.0 150.53769614844742 133.21428571428572\" stroke=\"blue\" stroke-width=\"2\"/><path d=\"M 410 267.1428571428571 147.34548638089205 267.1428571428571\" stroke=\"red\" stroke-width=\"2\"/><path d=\"M 410 288.57142857142856 147.34548638089205 288.57142857142856\" stroke=\"red\" stroke-width=\"2\"/><path d=\"M 147.34548638089205 267.1428571428571 147.34548638089205 288.57142857142856\" stroke=\"red\" stroke-width=\"2\"/><path d=\"M 226.69591863989018 26.07142857142857 109.19924487876528 26.07142857142857\" stroke=\"blue\" stroke-width=\"2\"/><path d=\"M 150.53769614844742 109.10714285714286 109.19924487876528 109.10714285714286\" stroke=\"blue\" stroke-width=\"2\"/><path d=\"M 109.19924487876528 26.07142857142857 109.19924487876528 109.10714285714286\" stroke=\"blue\" stroke-width=\"2\"/><path d=\"M 159.8180256115604 213.57142857142856 101.25981897255002 213.57142857142856\" stroke=\"red\" stroke-width=\"2\"/><path d=\"M 147.34548638089205 277.85714285714283 101.25981897255002 277.85714285714283\" stroke=\"red\" stroke-width=\"2\"/><path d=\"M 101.25981897255002 213.57142857142856 101.25981897255002 277.85714285714283\" stroke=\"red\" stroke-width=\"2\"/><path d=\"M 109.19924487876528 67.58928571428572 10.0 67.58928571428572\" stroke=\"black\" stroke-width=\"2\"/><path d=\"M 101.25981897255002 245.7142857142857 10.0 245.7142857142857\" stroke=\"black\" stroke-width=\"2\"/><path d=\"M 10.0 67.58928571428572 10.0 245.7142857142857\" stroke=\"black\" stroke-width=\"2\"/></svg>"
      ],
      "text/plain": [
       "<IPython.core.display.SVG object>"
      ]
     },
     "execution_count": 26,
     "metadata": {},
     "output_type": "execute_result"
    }
   ],
   "source": [
    "SVG(image)"
   ]
  },
  {
   "cell_type": "markdown",
   "metadata": {},
   "source": [
    "**Cuts of the dendrogram**"
   ]
  },
  {
   "cell_type": "code",
   "execution_count": 27,
   "metadata": {
    "pycharm": {
     "is_executing": false
    },
    "scrolled": true
   },
   "outputs": [
    {
     "name": "stdout",
     "output_type": "stream",
     "text": [
      "[0 0 1 0 1 1 2 0 0 1 0 0 0 2]\n"
     ]
    }
   ],
   "source": [
    "# cut with 3 clusters\n",
    "labels = cut_straight(dendrogram, n_clusters = 3)\n",
    "print(labels)"
   ]
  },
  {
   "cell_type": "code",
   "execution_count": 28,
   "metadata": {
    "pycharm": {
     "is_executing": false
    }
   },
   "outputs": [],
   "source": [
    "image = svg_digraph(adjacency, position, names=names, labels=labels)"
   ]
  },
  {
   "cell_type": "code",
   "execution_count": 29,
   "metadata": {},
   "outputs": [
    {
     "data": {
      "image/svg+xml": [
       "<svg height=\"340\" width=\"566.0\"><defs><marker id=\"arrow\" markerHeight=\"10\" markerWidth=\"10\" orient=\"auto\" refX=\"9\" refY=\"3\"><path d=\"M0,0 L0,6 L9,3 z\" fill=\"gray\"/></marker></defs><path d=\"M 247 48 77 64\" marker-end=\"url(#arrow)\" stroke=\"gray\" stroke-width=\"1\"/><path d=\"M 247 48 170 55\" marker-end=\"url(#arrow)\" stroke=\"gray\" stroke-width=\"1\"/><path d=\"M 20 108 66 68\" marker-end=\"url(#arrow)\" stroke=\"gray\" stroke-width=\"1\"/><path d=\"M 20 108 87 129\" marker-end=\"url(#arrow)\" stroke=\"gray\" stroke-width=\"1\"/><path d=\"M 74 268 146 317\" marker-end=\"url(#arrow)\" stroke=\"gray\" stroke-width=\"1\"/><path d=\"M 71 64 241 48\" marker-end=\"url(#arrow)\" stroke=\"gray\" stroke-width=\"1\"/><path d=\"M 71 64 25 104\" marker-end=\"url(#arrow)\" stroke=\"gray\" stroke-width=\"1\"/><path d=\"M 71 64 56 156\" marker-end=\"url(#arrow)\" stroke=\"gray\" stroke-width=\"1\"/><path d=\"M 71 64 126 90\" marker-end=\"url(#arrow)\" stroke=\"gray\" stroke-width=\"1\"/><path d=\"M 71 64 91 125\" marker-end=\"url(#arrow)\" stroke=\"gray\" stroke-width=\"1\"/><path d=\"M 144 227 80 265\" marker-end=\"url(#arrow)\" stroke=\"gray\" stroke-width=\"1\"/><path d=\"M 144 227 202 255\" marker-end=\"url(#arrow)\" stroke=\"gray\" stroke-width=\"1\"/><path d=\"M 144 227 151 314\" marker-end=\"url(#arrow)\" stroke=\"gray\" stroke-width=\"1\"/><path d=\"M 208 257 80 268\" marker-end=\"url(#arrow)\" stroke=\"gray\" stroke-width=\"1\"/><path d=\"M 208 257 150 229\" marker-end=\"url(#arrow)\" stroke=\"gray\" stroke-width=\"1\"/><path d=\"M 208 257 205 146\" marker-end=\"url(#arrow)\" stroke=\"gray\" stroke-width=\"1\"/><path d=\"M 208 257 155 315\" marker-end=\"url(#arrow)\" stroke=\"gray\" stroke-width=\"1\"/><path d=\"M 420 20 253 47\" marker-end=\"url(#arrow)\" stroke=\"gray\" stroke-width=\"1\"/><path d=\"M 420 20 405 88\" marker-end=\"url(#arrow)\" stroke=\"gray\" stroke-width=\"1\"/><path d=\"M 55 162 23 113\" marker-end=\"url(#arrow)\" stroke=\"gray\" stroke-width=\"1\"/><path d=\"M 55 162 73 262\" marker-end=\"url(#arrow)\" stroke=\"gray\" stroke-width=\"1\"/><path d=\"M 55 162 70 70\" marker-end=\"url(#arrow)\" stroke=\"gray\" stroke-width=\"1\"/><path d=\"M 55 162 199 140\" marker-end=\"url(#arrow)\" stroke=\"gray\" stroke-width=\"1\"/><path d=\"M 55 162 127 96\" marker-end=\"url(#arrow)\" stroke=\"gray\" stroke-width=\"1\"/><path d=\"M 55 162 88 135\" marker-end=\"url(#arrow)\" stroke=\"gray\" stroke-width=\"1\"/><path d=\"M 205 140 245 54\" marker-end=\"url(#arrow)\" stroke=\"gray\" stroke-width=\"1\"/><path d=\"M 205 140 26 109\" marker-end=\"url(#arrow)\" stroke=\"gray\" stroke-width=\"1\"/><path d=\"M 205 140 148 222\" marker-end=\"url(#arrow)\" stroke=\"gray\" stroke-width=\"1\"/><path d=\"M 205 140 208 251\" marker-end=\"url(#arrow)\" stroke=\"gray\" stroke-width=\"1\"/><path d=\"M 205 140 61 162\" marker-end=\"url(#arrow)\" stroke=\"gray\" stroke-width=\"1\"/><path d=\"M 205 140 167 61\" marker-end=\"url(#arrow)\" stroke=\"gray\" stroke-width=\"1\"/><path d=\"M 205 140 137 95\" marker-end=\"url(#arrow)\" stroke=\"gray\" stroke-width=\"1\"/><path d=\"M 151 320 79 271\" marker-end=\"url(#arrow)\" stroke=\"gray\" stroke-width=\"1\"/><path d=\"M 151 320 144 233\" marker-end=\"url(#arrow)\" stroke=\"gray\" stroke-width=\"1\"/><path d=\"M 164 55 241 48\" marker-end=\"url(#arrow)\" stroke=\"gray\" stroke-width=\"1\"/><path d=\"M 164 55 77 64\" marker-end=\"url(#arrow)\" stroke=\"gray\" stroke-width=\"1\"/><path d=\"M 164 55 202 134\" marker-end=\"url(#arrow)\" stroke=\"gray\" stroke-width=\"1\"/><path d=\"M 164 55 136 87\" marker-end=\"url(#arrow)\" stroke=\"gray\" stroke-width=\"1\"/><path d=\"M 164 55 97 126\" marker-end=\"url(#arrow)\" stroke=\"gray\" stroke-width=\"1\"/><path d=\"M 132 92 241 50\" marker-end=\"url(#arrow)\" stroke=\"gray\" stroke-width=\"1\"/><path d=\"M 132 92 26 108\" marker-end=\"url(#arrow)\" stroke=\"gray\" stroke-width=\"1\"/><path d=\"M 132 92 77 66\" marker-end=\"url(#arrow)\" stroke=\"gray\" stroke-width=\"1\"/><path d=\"M 132 92 160 60\" marker-end=\"url(#arrow)\" stroke=\"gray\" stroke-width=\"1\"/><path d=\"M 132 92 97 127\" marker-end=\"url(#arrow)\" stroke=\"gray\" stroke-width=\"1\"/><path d=\"M 93 131 26 110\" marker-end=\"url(#arrow)\" stroke=\"gray\" stroke-width=\"1\"/><path d=\"M 93 131 73 70\" marker-end=\"url(#arrow)\" stroke=\"gray\" stroke-width=\"1\"/><path d=\"M 93 131 141 221\" marker-end=\"url(#arrow)\" stroke=\"gray\" stroke-width=\"1\"/><path d=\"M 93 131 60 158\" marker-end=\"url(#arrow)\" stroke=\"gray\" stroke-width=\"1\"/><path d=\"M 404 94 419 26\" marker-end=\"url(#arrow)\" stroke=\"gray\" stroke-width=\"1\"/><path d=\"M 404 94 211 139\" marker-end=\"url(#arrow)\" stroke=\"gray\" stroke-width=\"1\"/><circle cx=\"247\" cy=\"48\" r=\"7.0\" style=\"fill:blue;stroke:black;stroke-width:1.0\"/><circle cx=\"20\" cy=\"108\" r=\"7.0\" style=\"fill:blue;stroke:black;stroke-width:1.0\"/><circle cx=\"74\" cy=\"268\" r=\"7.0\" style=\"fill:red;stroke:black;stroke-width:1.0\"/><circle cx=\"71\" cy=\"64\" r=\"7.0\" style=\"fill:blue;stroke:black;stroke-width:1.0\"/><circle cx=\"144\" cy=\"227\" r=\"7.0\" style=\"fill:red;stroke:black;stroke-width:1.0\"/><circle cx=\"208\" cy=\"257\" r=\"7.0\" style=\"fill:red;stroke:black;stroke-width:1.0\"/><circle cx=\"420\" cy=\"20\" r=\"7.0\" style=\"fill:green;stroke:black;stroke-width:1.0\"/><circle cx=\"55\" cy=\"162\" r=\"7.0\" style=\"fill:blue;stroke:black;stroke-width:1.0\"/><circle cx=\"205\" cy=\"140\" r=\"7.0\" style=\"fill:blue;stroke:black;stroke-width:1.0\"/><circle cx=\"151\" cy=\"320\" r=\"7.0\" style=\"fill:red;stroke:black;stroke-width:1.0\"/><circle cx=\"164\" cy=\"55\" r=\"7.0\" style=\"fill:blue;stroke:black;stroke-width:1.0\"/><circle cx=\"132\" cy=\"92\" r=\"7.0\" style=\"fill:blue;stroke:black;stroke-width:1.0\"/><circle cx=\"93\" cy=\"131\" r=\"7.0\" style=\"fill:blue;stroke:black;stroke-width:1.0\"/><circle cx=\"404\" cy=\"94\" r=\"7.0\" style=\"fill:green;stroke:black;stroke-width:1.0\"/><text font-size=\"12\" x=\"264\" y=\"55\">Pablo Picasso</text><text font-size=\"12\" x=\"37\" y=\"115\">Claude Monet</text><text font-size=\"12\" x=\"91\" y=\"275\">Michel Angelo</text><text font-size=\"12\" x=\"88\" y=\"71\">Edouard Manet</text><text font-size=\"12\" x=\"161\" y=\"234\">Peter Paul Rubens</text><text font-size=\"12\" x=\"225\" y=\"264\">Rembrandt</text><text font-size=\"12\" x=\"437\" y=\"27\">Gustav Klimt</text><text font-size=\"12\" x=\"72\" y=\"169\">Edgar Degas</text><text font-size=\"12\" x=\"222\" y=\"147\">Vincent van Gogh</text><text font-size=\"12\" x=\"168\" y=\"327\">Leonardo da Vinci</text><text font-size=\"12\" x=\"181\" y=\"62\">Henri Matisse</text><text font-size=\"12\" x=\"149\" y=\"99\">Paul Cezanne</text><text font-size=\"12\" x=\"110\" y=\"138\">Pierre-Auguste Renoir</text><text font-size=\"12\" x=\"421\" y=\"101\">Egon Schiele</text></svg>"
      ],
      "text/plain": [
       "<IPython.core.display.SVG object>"
      ]
     },
     "execution_count": 29,
     "metadata": {},
     "output_type": "execute_result"
    }
   ],
   "source": [
    "SVG(image)"
   ]
  },
  {
   "cell_type": "markdown",
   "metadata": {},
   "source": [
    "**Metrics**"
   ]
  },
  {
   "cell_type": "code",
   "execution_count": 30,
   "metadata": {
    "pycharm": {
     "is_executing": false
    }
   },
   "outputs": [
    {
     "data": {
      "text/plain": [
       "0.49857142857142855"
      ]
     },
     "execution_count": 30,
     "metadata": {},
     "output_type": "execute_result"
    }
   ],
   "source": [
    "dasgupta_score(adjacency, dendrogram)"
   ]
  },
  {
   "cell_type": "code",
   "execution_count": 31,
   "metadata": {
    "pycharm": {
     "is_executing": false
    }
   },
   "outputs": [
    {
     "data": {
      "text/plain": [
       "0.48729193280825467"
      ]
     },
     "execution_count": 31,
     "metadata": {},
     "output_type": "execute_result"
    }
   ],
   "source": [
    "tree_sampling_divergence(adjacency, dendrogram)"
   ]
  },
  {
   "cell_type": "markdown",
   "metadata": {},
   "source": [
    "## Bigraphs"
   ]
  },
  {
   "cell_type": "code",
   "execution_count": 32,
   "metadata": {
    "pycharm": {
     "is_executing": false,
     "name": "#%%\n"
    }
   },
   "outputs": [],
   "source": [
    "graph = movie_actor(metadata=True)\n",
    "biadjacency = graph.biadjacency\n",
    "names_row = graph.names_row\n",
    "names_col = graph.names_col"
   ]
  },
  {
   "cell_type": "markdown",
   "metadata": {},
   "source": [
    "**Hierarchy**"
   ]
  },
  {
   "cell_type": "code",
   "execution_count": 33,
   "metadata": {
    "pycharm": {
     "is_executing": false,
     "name": "#%%\n"
    }
   },
   "outputs": [
    {
     "data": {
      "text/plain": [
       "BiWard(embedding_method=GSVD(n_components=10, regularization=None, relative_regularization=True, factor_row=0.5, factor_col=0.5, factor_singular=0.0, normalized=True, solver=LanczosSVD()), cluster_row=True, cluster_col=True, cluster_both=True)"
      ]
     },
     "execution_count": 33,
     "metadata": {},
     "output_type": "execute_result"
    }
   ],
   "source": [
    "biward = BiWard(cluster_col = True, cluster_both = True)\n",
    "biward.fit(biadjacency)"
   ]
  },
  {
   "cell_type": "code",
   "execution_count": 34,
   "metadata": {
    "pycharm": {
     "is_executing": false,
     "name": "#%%\n"
    }
   },
   "outputs": [],
   "source": [
    "dendrogram_row = biward.dendrogram_row_\n",
    "dendrogram_col = biward.dendrogram_col_\n",
    "dendrogram_full = biward.dendrogram_full_"
   ]
  },
  {
   "cell_type": "code",
   "execution_count": 35,
   "metadata": {},
   "outputs": [],
   "source": [
    "image = svg_dendrogram(dendrogram_row, names_row, n_clusters=4, rotate=True)"
   ]
  },
  {
   "cell_type": "code",
   "execution_count": 36,
   "metadata": {},
   "outputs": [
    {
     "data": {
      "image/svg+xml": [
       "<svg height=\"320\" width=\"593.0\"><text font-size=\"12\" x=\"415\" y=\"230.0\">Inception</text><text font-size=\"12\" x=\"415\" y=\"250.0\">The Dark Knight Rises</text><text font-size=\"12\" x=\"415\" y=\"190.0\">The Big Short</text><text font-size=\"12\" x=\"415\" y=\"270.0\">Drive</text><text font-size=\"12\" x=\"415\" y=\"290.0\">The Great Gatsby</text><text font-size=\"12\" x=\"415\" y=\"150.0\">La La Land</text><text font-size=\"12\" x=\"415\" y=\"170.0\">Crazy Stupid Love</text><text font-size=\"12\" x=\"415\" y=\"210.0\">Vice</text><text font-size=\"12\" x=\"415\" y=\"110.0\">The Grand Budapest Hotel</text><text font-size=\"12\" x=\"415\" y=\"10.0\">Aviator</text><text font-size=\"12\" x=\"415\" y=\"70.0\">007 Spectre</text><text font-size=\"12\" x=\"415\" y=\"90.0\">Inglourious Basterds</text><text font-size=\"12\" x=\"415\" y=\"130.0\">Midnight In Paris</text><text font-size=\"12\" x=\"415\" y=\"30.0\">Murder on the Orient Express</text><text font-size=\"12\" x=\"415\" y=\"50.0\">Fantastic Beasts 2</text><path d=\"M 410 150.0 334.58213094296326 150.0\" stroke=\"blue\" stroke-width=\"2\"/><path d=\"M 410 170.0 334.58213094296326 170.0\" stroke=\"blue\" stroke-width=\"2\"/><path d=\"M 334.58213094296326 150.0 334.58213094296326 170.0\" stroke=\"blue\" stroke-width=\"2\"/><path d=\"M 410 230.0 289.05340194371223 230.0\" stroke=\"blue\" stroke-width=\"2\"/><path d=\"M 410 250.0 289.05340194371223 250.0\" stroke=\"blue\" stroke-width=\"2\"/><path d=\"M 289.05340194371223 230.0 289.05340194371223 250.0\" stroke=\"blue\" stroke-width=\"2\"/><path d=\"M 410 190.0 288.16434624424454 190.0\" stroke=\"blue\" stroke-width=\"2\"/><path d=\"M 410 210.0 288.16434624424454 210.0\" stroke=\"blue\" stroke-width=\"2\"/><path d=\"M 288.16434624424454 190.0 288.16434624424454 210.0\" stroke=\"blue\" stroke-width=\"2\"/><path d=\"M 410 270.0 277.1821870543407 270.0\" stroke=\"blue\" stroke-width=\"2\"/><path d=\"M 410 290.0 277.1821870543407 290.0\" stroke=\"blue\" stroke-width=\"2\"/><path d=\"M 277.1821870543407 270.0 277.1821870543407 290.0\" stroke=\"blue\" stroke-width=\"2\"/><path d=\"M 410 70.0 244.90339857889947 70.0\" stroke=\"red\" stroke-width=\"2\"/><path d=\"M 410 90.0 244.90339857889947 90.0\" stroke=\"red\" stroke-width=\"2\"/><path d=\"M 244.90339857889947 70.0 244.90339857889947 90.0\" stroke=\"red\" stroke-width=\"2\"/><path d=\"M 410 110.0 242.80825468878712 110.0\" stroke=\"red\" stroke-width=\"2\"/><path d=\"M 410 130.0 242.80825468878712 130.0\" stroke=\"red\" stroke-width=\"2\"/><path d=\"M 242.80825468878712 110.0 242.80825468878712 130.0\" stroke=\"red\" stroke-width=\"2\"/><path d=\"M 410 30.0 240.70314639296993 30.0\" stroke=\"red\" stroke-width=\"2\"/><path d=\"M 410 50.0 240.70314639296993 50.0\" stroke=\"red\" stroke-width=\"2\"/><path d=\"M 240.70314639296993 30.0 240.70314639296993 50.0\" stroke=\"red\" stroke-width=\"2\"/><path d=\"M 410 10.0 188.68151228340392 10.0\" stroke=\"red\" stroke-width=\"2\"/><path d=\"M 240.70314639296993 40.0 188.68151228340392 40.0\" stroke=\"red\" stroke-width=\"2\"/><path d=\"M 188.68151228340392 10.0 188.68151228340392 40.0\" stroke=\"red\" stroke-width=\"2\"/><path d=\"M 244.90339857889947 80.0 135.6641563916566 80.0\" stroke=\"red\" stroke-width=\"2\"/><path d=\"M 242.80825468878712 120.0 135.6641563916566 120.0\" stroke=\"red\" stroke-width=\"2\"/><path d=\"M 135.6641563916566 80.0 135.6641563916566 120.0\" stroke=\"red\" stroke-width=\"2\"/><path d=\"M 334.58213094296326 160.0 109.26049152981727 160.0\" stroke=\"blue\" stroke-width=\"2\"/><path d=\"M 288.16434624424454 200.0 109.26049152981727 200.0\" stroke=\"blue\" stroke-width=\"2\"/><path d=\"M 109.26049152981727 160.0 109.26049152981727 200.0\" stroke=\"blue\" stroke-width=\"2\"/><path d=\"M 289.05340194371223 240.0 72.56970294677285 240.0\" stroke=\"blue\" stroke-width=\"2\"/><path d=\"M 277.1821870543407 280.0 72.56970294677285 280.0\" stroke=\"blue\" stroke-width=\"2\"/><path d=\"M 72.56970294677285 240.0 72.56970294677285 280.0\" stroke=\"blue\" stroke-width=\"2\"/><path d=\"M 188.68151228340392 25.0 59.46496253838012 25.0\" stroke=\"red\" stroke-width=\"2\"/><path d=\"M 135.6641563916566 100.0 59.46496253838012 100.0\" stroke=\"red\" stroke-width=\"2\"/><path d=\"M 59.46496253838012 25.0 59.46496253838012 100.0\" stroke=\"red\" stroke-width=\"2\"/><path d=\"M 109.26049152981727 180.0 52.40581894467607 180.0\" stroke=\"blue\" stroke-width=\"2\"/><path d=\"M 72.56970294677285 260.0 52.40581894467607 260.0\" stroke=\"blue\" stroke-width=\"2\"/><path d=\"M 52.40581894467607 180.0 52.40581894467607 260.0\" stroke=\"blue\" stroke-width=\"2\"/><path d=\"M 59.46496253838012 62.5 9.999999999999943 62.5\" stroke=\"black\" stroke-width=\"2\"/><path d=\"M 52.40581894467607 220.0 9.999999999999943 220.0\" stroke=\"black\" stroke-width=\"2\"/><path d=\"M 9.999999999999943 62.5 9.999999999999943 220.0\" stroke=\"black\" stroke-width=\"2\"/></svg>"
      ],
      "text/plain": [
       "<IPython.core.display.SVG object>"
      ]
     },
     "execution_count": 36,
     "metadata": {},
     "output_type": "execute_result"
    }
   ],
   "source": [
    "SVG(image)"
   ]
  },
  {
   "cell_type": "code",
   "execution_count": 37,
   "metadata": {},
   "outputs": [],
   "source": [
    "image = svg_dendrogram(dendrogram_col, names_col, n_clusters=4, rotate=True)"
   ]
  },
  {
   "cell_type": "code",
   "execution_count": 38,
   "metadata": {},
   "outputs": [
    {
     "data": {
      "image/svg+xml": [
       "<svg height=\"320\" width=\"545.0\"><text font-size=\"12\" x=\"415\" y=\"178.75\">Leonardo DiCaprio</text><text font-size=\"12\" x=\"415\" y=\"85.0\">Marion Cotillard</text><text font-size=\"12\" x=\"415\" y=\"103.75\">Joseph Gordon Lewitt</text><text font-size=\"12\" x=\"415\" y=\"10.0\">Christian Bale</text><text font-size=\"12\" x=\"415\" y=\"47.5\">Ryan Gosling</text><text font-size=\"12\" x=\"415\" y=\"253.75\">Brad Pitt</text><text font-size=\"12\" x=\"415\" y=\"160.0\">Carey Mulligan</text><text font-size=\"12\" x=\"415\" y=\"66.25\">Emma Stone</text><text font-size=\"12\" x=\"415\" y=\"28.75\">Steve Carell</text><text font-size=\"12\" x=\"415\" y=\"272.5\">Lea Seydoux</text><text font-size=\"12\" x=\"415\" y=\"216.25\">Ralph Fiennes</text><text font-size=\"12\" x=\"415\" y=\"197.5\">Jude Law</text><text font-size=\"12\" x=\"415\" y=\"122.5\">Willem Dafoe</text><text font-size=\"12\" x=\"415\" y=\"235.0\">Christophe Waltz</text><text font-size=\"12\" x=\"415\" y=\"141.25\">Johnny Depp</text><text font-size=\"12\" x=\"415\" y=\"291.25\">Owen Wilson</text><path d=\"M 410 10.0 277.8280356297143 10.0\" stroke=\"red\" stroke-width=\"2\"/><path d=\"M 410 28.75 277.8280356297143 28.75\" stroke=\"red\" stroke-width=\"2\"/><path d=\"M 277.8280356297143 10.0 277.8280356297143 28.75\" stroke=\"red\" stroke-width=\"2\"/><path d=\"M 410 85.0 254.8825195980576 85.0\" stroke=\"blue\" stroke-width=\"2\"/><path d=\"M 410 103.75 254.8825195980576 103.75\" stroke=\"blue\" stroke-width=\"2\"/><path d=\"M 254.8825195980576 85.0 254.8825195980576 103.75\" stroke=\"blue\" stroke-width=\"2\"/><path d=\"M 410 47.5 251.0325725395794 47.5\" stroke=\"blue\" stroke-width=\"2\"/><path d=\"M 410 66.25 251.0325725395794 66.25\" stroke=\"blue\" stroke-width=\"2\"/><path d=\"M 251.0325725395794 47.5 251.0325725395794 66.25\" stroke=\"blue\" stroke-width=\"2\"/><path d=\"M 410 272.5 217.7179051219182 272.5\" stroke=\"blue\" stroke-width=\"2\"/><path d=\"M 410 291.25 217.7179051219182 291.25\" stroke=\"blue\" stroke-width=\"2\"/><path d=\"M 217.7179051219182 272.5 217.7179051219182 291.25\" stroke=\"blue\" stroke-width=\"2\"/><path d=\"M 410 216.25 188.28044384299542 216.25\" stroke=\"blue\" stroke-width=\"2\"/><path d=\"M 410 235.0 188.28044384299542 235.0\" stroke=\"blue\" stroke-width=\"2\"/><path d=\"M 188.28044384299542 216.25 188.28044384299542 235.0\" stroke=\"blue\" stroke-width=\"2\"/><path d=\"M 410 178.75 154.28949360825257 178.75\" stroke=\"blue\" stroke-width=\"2\"/><path d=\"M 410 197.5 154.28949360825257 197.5\" stroke=\"blue\" stroke-width=\"2\"/><path d=\"M 154.28949360825257 178.75 154.28949360825257 197.5\" stroke=\"blue\" stroke-width=\"2\"/><path d=\"M 410 122.5 139.1372824136315 122.5\" stroke=\"blue\" stroke-width=\"2\"/><path d=\"M 410 141.25 139.1372824136315 141.25\" stroke=\"blue\" stroke-width=\"2\"/><path d=\"M 139.1372824136315 122.5 139.1372824136315 141.25\" stroke=\"blue\" stroke-width=\"2\"/><path d=\"M 410 253.75 111.56843484932813 253.75\" stroke=\"blue\" stroke-width=\"2\"/><path d=\"M 217.7179051219182 281.875 111.56843484932813 281.875\" stroke=\"blue\" stroke-width=\"2\"/><path d=\"M 111.56843484932813 253.75 111.56843484932813 281.875\" stroke=\"blue\" stroke-width=\"2\"/><path d=\"M 410 160.0 106.08679630874019 160.0\" stroke=\"blue\" stroke-width=\"2\"/><path d=\"M 154.28949360825257 188.125 106.08679630874019 188.125\" stroke=\"blue\" stroke-width=\"2\"/><path d=\"M 106.08679630874019 160.0 106.08679630874019 188.125\" stroke=\"blue\" stroke-width=\"2\"/><path d=\"M 139.1372824136315 131.875 76.2726078507884 131.875\" stroke=\"blue\" stroke-width=\"2\"/><path d=\"M 106.08679630874019 174.0625 76.2726078507884 174.0625\" stroke=\"blue\" stroke-width=\"2\"/><path d=\"M 76.2726078507884 131.875 76.2726078507884 174.0625\" stroke=\"blue\" stroke-width=\"2\"/><path d=\"M 188.28044384299542 225.625 64.43280995955729 225.625\" stroke=\"blue\" stroke-width=\"2\"/><path d=\"M 111.56843484932813 267.8125 64.43280995955729 267.8125\" stroke=\"blue\" stroke-width=\"2\"/><path d=\"M 64.43280995955729 225.625 64.43280995955729 267.8125\" stroke=\"blue\" stroke-width=\"2\"/><path d=\"M 76.2726078507884 152.96875 42.549334334188984 152.96875\" stroke=\"blue\" stroke-width=\"2\"/><path d=\"M 64.43280995955729 246.71875 42.549334334188984 246.71875\" stroke=\"blue\" stroke-width=\"2\"/><path d=\"M 42.549334334188984 152.96875 42.549334334188984 246.71875\" stroke=\"blue\" stroke-width=\"2\"/><path d=\"M 254.8825195980576 94.375 21.524154656060034 94.375\" stroke=\"blue\" stroke-width=\"2\"/><path d=\"M 42.549334334188984 199.84375 21.524154656060034 199.84375\" stroke=\"blue\" stroke-width=\"2\"/><path d=\"M 21.524154656060034 94.375 21.524154656060034 199.84375\" stroke=\"blue\" stroke-width=\"2\"/><path d=\"M 251.0325725395794 56.875 20.674003850351426 56.875\" stroke=\"blue\" stroke-width=\"2\"/><path d=\"M 21.524154656060034 147.109375 20.674003850351426 147.109375\" stroke=\"blue\" stroke-width=\"2\"/><path d=\"M 20.674003850351426 56.875 20.674003850351426 147.109375\" stroke=\"blue\" stroke-width=\"2\"/><path d=\"M 277.8280356297143 19.375 10.0 19.375\" stroke=\"black\" stroke-width=\"2\"/><path d=\"M 20.674003850351426 101.9921875 10.0 101.9921875\" stroke=\"black\" stroke-width=\"2\"/><path d=\"M 10.0 19.375 10.0 101.9921875\" stroke=\"black\" stroke-width=\"2\"/></svg>"
      ],
      "text/plain": [
       "<IPython.core.display.SVG object>"
      ]
     },
     "execution_count": 38,
     "metadata": {},
     "output_type": "execute_result"
    }
   ],
   "source": [
    "SVG(image)"
   ]
  },
  {
   "cell_type": "markdown",
   "metadata": {},
   "source": [
    "**Cuts of the dendrogram**"
   ]
  },
  {
   "cell_type": "code",
   "execution_count": 39,
   "metadata": {
    "pycharm": {
     "is_executing": false,
     "name": "#%%\n"
    }
   },
   "outputs": [],
   "source": [
    "labels = cut_straight(dendrogram_full, n_clusters = 4)\n",
    "n_row = biadjacency.shape[0]\n",
    "labels_row = labels[:n_row]\n",
    "labels_col = labels[n_row:]"
   ]
  },
  {
   "cell_type": "code",
   "execution_count": 40,
   "metadata": {
    "pycharm": {
     "is_executing": false,
     "name": "#%%\n"
    }
   },
   "outputs": [],
   "source": [
    "image = svg_bigraph(biadjacency, names_row, names_col, labels_row, labels_col)"
   ]
  },
  {
   "cell_type": "code",
   "execution_count": 41,
   "metadata": {
    "pycharm": {
     "is_executing": false,
     "name": "#%%\n"
    }
   },
   "outputs": [
    {
     "data": {
      "image/svg+xml": [
       "<svg height=\"340\" width=\"728.0\"><path d=\"M 188 90 588 140\" stroke=\"black\" stroke-width=\"1\"/><path d=\"M 188 90 588 60\" stroke=\"black\" stroke-width=\"1\"/><path d=\"M 188 90 588 40\" stroke=\"black\" stroke-width=\"1\"/><path d=\"M 188 70 588 60\" stroke=\"black\" stroke-width=\"1\"/><path d=\"M 188 70 588 40\" stroke=\"black\" stroke-width=\"1\"/><path d=\"M 188 70 588 220\" stroke=\"black\" stroke-width=\"1\"/><path d=\"M 188 230 588 220\" stroke=\"black\" stroke-width=\"1\"/><path d=\"M 188 230 588 200\" stroke=\"black\" stroke-width=\"1\"/><path d=\"M 188 230 588 320\" stroke=\"black\" stroke-width=\"1\"/><path d=\"M 188 230 588 160\" stroke=\"black\" stroke-width=\"1\"/><path d=\"M 188 50 588 200\" stroke=\"black\" stroke-width=\"1\"/><path d=\"M 188 50 588 20\" stroke=\"black\" stroke-width=\"1\"/><path d=\"M 188 30 588 140\" stroke=\"black\" stroke-width=\"1\"/><path d=\"M 188 30 588 20\" stroke=\"black\" stroke-width=\"1\"/><path d=\"M 188 210 588 200\" stroke=\"black\" stroke-width=\"1\"/><path d=\"M 188 210 588 180\" stroke=\"black\" stroke-width=\"1\"/><path d=\"M 188 190 588 200\" stroke=\"black\" stroke-width=\"1\"/><path d=\"M 188 190 588 180\" stroke=\"black\" stroke-width=\"1\"/><path d=\"M 188 190 588 160\" stroke=\"black\" stroke-width=\"1\"/><path d=\"M 188 170 588 220\" stroke=\"black\" stroke-width=\"1\"/><path d=\"M 188 170 588 160\" stroke=\"black\" stroke-width=\"1\"/><path d=\"M 188 310 588 300\" stroke=\"black\" stroke-width=\"1\"/><path d=\"M 188 310 588 280\" stroke=\"black\" stroke-width=\"1\"/><path d=\"M 188 310 588 120\" stroke=\"black\" stroke-width=\"1\"/><path d=\"M 188 310 588 100\" stroke=\"black\" stroke-width=\"1\"/><path d=\"M 188 310 588 239\" stroke=\"black\" stroke-width=\"1\"/><path d=\"M 188 150 588 140\" stroke=\"black\" stroke-width=\"1\"/><path d=\"M 188 150 588 120\" stroke=\"black\" stroke-width=\"1\"/><path d=\"M 188 150 588 100\" stroke=\"black\" stroke-width=\"1\"/><path d=\"M 188 290 588 300\" stroke=\"black\" stroke-width=\"1\"/><path d=\"M 188 290 588 280\" stroke=\"black\" stroke-width=\"1\"/><path d=\"M 188 290 588 260\" stroke=\"black\" stroke-width=\"1\"/><path d=\"M 188 270 588 320\" stroke=\"black\" stroke-width=\"1\"/><path d=\"M 188 270 588 300\" stroke=\"black\" stroke-width=\"1\"/><path d=\"M 188 270 588 260\" stroke=\"black\" stroke-width=\"1\"/><path d=\"M 188 250 588 60\" stroke=\"black\" stroke-width=\"1\"/><path d=\"M 188 250 588 300\" stroke=\"black\" stroke-width=\"1\"/><path d=\"M 188 250 588 239\" stroke=\"black\" stroke-width=\"1\"/><path d=\"M 188 130 588 100\" stroke=\"black\" stroke-width=\"1\"/><path d=\"M 188 130 588 80\" stroke=\"black\" stroke-width=\"1\"/><path d=\"M 188 110 588 120\" stroke=\"black\" stroke-width=\"1\"/><path d=\"M 188 110 588 80\" stroke=\"black\" stroke-width=\"1\"/><circle cx=\"188\" cy=\"90\" r=\"7.0\" style=\"fill:orange;stroke:black;stroke-width:1.0\"/><circle cx=\"188\" cy=\"70\" r=\"7.0\" style=\"fill:orange;stroke:black;stroke-width:1.0\"/><circle cx=\"188\" cy=\"230\" r=\"7.0\" style=\"fill:green;stroke:black;stroke-width:1.0\"/><circle cx=\"188\" cy=\"50\" r=\"7.0\" style=\"fill:blue;stroke:black;stroke-width:1.0\"/><circle cx=\"188\" cy=\"30\" r=\"7.0\" style=\"fill:blue;stroke:black;stroke-width:1.0\"/><circle cx=\"188\" cy=\"210\" r=\"7.0\" style=\"fill:green;stroke:black;stroke-width:1.0\"/><circle cx=\"188\" cy=\"190\" r=\"7.0\" style=\"fill:green;stroke:black;stroke-width:1.0\"/><circle cx=\"188\" cy=\"170\" r=\"7.0\" style=\"fill:green;stroke:black;stroke-width:1.0\"/><circle cx=\"188\" cy=\"310\" r=\"7.0\" style=\"fill:red;stroke:black;stroke-width:1.0\"/><circle cx=\"188\" cy=\"150\" r=\"7.0\" style=\"fill:blue;stroke:black;stroke-width:1.0\"/><circle cx=\"188\" cy=\"290\" r=\"7.0\" style=\"fill:red;stroke:black;stroke-width:1.0\"/><circle cx=\"188\" cy=\"270\" r=\"7.0\" style=\"fill:red;stroke:black;stroke-width:1.0\"/><circle cx=\"188\" cy=\"250\" r=\"7.0\" style=\"fill:red;stroke:black;stroke-width:1.0\"/><circle cx=\"188\" cy=\"130\" r=\"7.0\" style=\"fill:blue;stroke:black;stroke-width:1.0\"/><circle cx=\"188\" cy=\"110\" r=\"7.0\" style=\"fill:blue;stroke:black;stroke-width:1.0\"/><circle cx=\"588\" cy=\"140\" r=\"7.0\" style=\"fill:blue;stroke:black;stroke-width:1.0\"/><circle cx=\"588\" cy=\"60\" r=\"7.0\" style=\"fill:orange;stroke:black;stroke-width:1.0\"/><circle cx=\"588\" cy=\"40\" r=\"7.0\" style=\"fill:orange;stroke:black;stroke-width:1.0\"/><circle cx=\"588\" cy=\"220\" r=\"7.0\" style=\"fill:green;stroke:black;stroke-width:1.0\"/><circle cx=\"588\" cy=\"200\" r=\"7.0\" style=\"fill:green;stroke:black;stroke-width:1.0\"/><circle cx=\"588\" cy=\"320\" r=\"7.0\" style=\"fill:red;stroke:black;stroke-width:1.0\"/><circle cx=\"588\" cy=\"20\" r=\"7.0\" style=\"fill:blue;stroke:black;stroke-width:1.0\"/><circle cx=\"588\" cy=\"180\" r=\"7.0\" style=\"fill:green;stroke:black;stroke-width:1.0\"/><circle cx=\"588\" cy=\"160\" r=\"7.0\" style=\"fill:green;stroke:black;stroke-width:1.0\"/><circle cx=\"588\" cy=\"300\" r=\"7.0\" style=\"fill:red;stroke:black;stroke-width:1.0\"/><circle cx=\"588\" cy=\"280\" r=\"7.0\" style=\"fill:red;stroke:black;stroke-width:1.0\"/><circle cx=\"588\" cy=\"120\" r=\"7.0\" style=\"fill:blue;stroke:black;stroke-width:1.0\"/><circle cx=\"588\" cy=\"100\" r=\"7.0\" style=\"fill:blue;stroke:black;stroke-width:1.0\"/><circle cx=\"588\" cy=\"260\" r=\"7.0\" style=\"fill:red;stroke:black;stroke-width:1.0\"/><circle cx=\"588\" cy=\"80\" r=\"7.0\" style=\"fill:blue;stroke:black;stroke-width:1.0\"/><circle cx=\"588\" cy=\"239\" r=\"7.0\" style=\"fill:red;stroke:black;stroke-width:1.0\"/><text font-size=\"12\" text-anchor=\"end\" x=\"178\" y=\"90\">Inception</text><text font-size=\"12\" text-anchor=\"end\" x=\"178\" y=\"70\">The Dark Knight Rises</text><text font-size=\"12\" text-anchor=\"end\" x=\"178\" y=\"230\">The Big Short</text><text font-size=\"12\" text-anchor=\"end\" x=\"178\" y=\"50\">Drive</text><text font-size=\"12\" text-anchor=\"end\" x=\"178\" y=\"30\">The Great Gatsby</text><text font-size=\"12\" text-anchor=\"end\" x=\"178\" y=\"210\">La La Land</text><text font-size=\"12\" text-anchor=\"end\" x=\"178\" y=\"190\">Crazy Stupid Love</text><text font-size=\"12\" text-anchor=\"end\" x=\"178\" y=\"170\">Vice</text><text font-size=\"12\" text-anchor=\"end\" x=\"178\" y=\"310\">The Grand Budapest Hotel</text><text font-size=\"12\" text-anchor=\"end\" x=\"178\" y=\"150\">Aviator</text><text font-size=\"12\" text-anchor=\"end\" x=\"178\" y=\"290\">007 Spectre</text><text font-size=\"12\" text-anchor=\"end\" x=\"178\" y=\"270\">Inglourious Basterds</text><text font-size=\"12\" text-anchor=\"end\" x=\"178\" y=\"250\">Midnight In Paris</text><text font-size=\"12\" text-anchor=\"end\" x=\"178\" y=\"130\">Murder on the Orient Express</text><text font-size=\"12\" text-anchor=\"end\" x=\"178\" y=\"110\">Fantastic Beasts 2</text><text font-size=\"12\" x=\"598\" y=\"140\">Leonardo DiCaprio</text><text font-size=\"12\" x=\"598\" y=\"60\">Marion Cotillard</text><text font-size=\"12\" x=\"598\" y=\"40\">Joseph Gordon Lewitt</text><text font-size=\"12\" x=\"598\" y=\"220\">Christian Bale</text><text font-size=\"12\" x=\"598\" y=\"200\">Ryan Gosling</text><text font-size=\"12\" x=\"598\" y=\"320\">Brad Pitt</text><text font-size=\"12\" x=\"598\" y=\"20\">Carey Mulligan</text><text font-size=\"12\" x=\"598\" y=\"180\">Emma Stone</text><text font-size=\"12\" x=\"598\" y=\"160\">Steve Carell</text><text font-size=\"12\" x=\"598\" y=\"300\">Lea Seydoux</text><text font-size=\"12\" x=\"598\" y=\"280\">Ralph Fiennes</text><text font-size=\"12\" x=\"598\" y=\"120\">Jude Law</text><text font-size=\"12\" x=\"598\" y=\"100\">Willem Dafoe</text><text font-size=\"12\" x=\"598\" y=\"260\">Christophe Waltz</text><text font-size=\"12\" x=\"598\" y=\"80\">Johnny Depp</text><text font-size=\"12\" x=\"598\" y=\"239\">Owen Wilson</text></svg>"
      ],
      "text/plain": [
       "<IPython.core.display.SVG object>"
      ]
     },
     "execution_count": 41,
     "metadata": {},
     "output_type": "execute_result"
    }
   ],
   "source": [
    "SVG(image)"
   ]
  }
 ],
 "metadata": {
  "kernelspec": {
   "display_name": "Python 3",
   "language": "python",
   "name": "python3"
  },
  "language_info": {
   "codemirror_mode": {
    "name": "ipython",
    "version": 3
   },
   "file_extension": ".py",
   "mimetype": "text/x-python",
   "name": "python",
   "nbconvert_exporter": "python",
   "pygments_lexer": "ipython3",
   "version": "3.7.7"
  },
  "pycharm": {
   "stem_cell": {
    "cell_type": "raw",
    "metadata": {
     "collapsed": false
    },
    "source": []
   }
  },
  "toc": {
   "base_numbering": 1,
   "nav_menu": {},
   "number_sections": true,
   "sideBar": true,
   "skip_h1_title": false,
   "title_cell": "Table of Contents",
   "title_sidebar": "Contents",
   "toc_cell": false,
   "toc_position": {},
   "toc_section_display": true,
   "toc_window_display": false
  }
 },
 "nbformat": 4,
 "nbformat_minor": 1
}
