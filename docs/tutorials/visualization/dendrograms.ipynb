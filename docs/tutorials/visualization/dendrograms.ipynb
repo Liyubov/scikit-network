{
 "cells": [
  {
   "cell_type": "markdown",
   "metadata": {},
   "source": [
    "# Dendrograms"
   ]
  },
  {
   "cell_type": "markdown",
   "metadata": {},
   "source": [
    "Visualization of dendrograms as SVG images."
   ]
  },
  {
   "cell_type": "code",
   "execution_count": 1,
   "metadata": {
    "pycharm": {
     "is_executing": false
    },
    "scrolled": true
   },
   "outputs": [],
   "source": [
    "from IPython.display import SVG"
   ]
  },
  {
   "cell_type": "code",
   "execution_count": 2,
   "metadata": {
    "pycharm": {
     "is_executing": false
    }
   },
   "outputs": [],
   "source": [
    "import numpy as np"
   ]
  },
  {
   "cell_type": "code",
   "execution_count": 3,
   "metadata": {
    "pycharm": {
     "is_executing": false
    }
   },
   "outputs": [],
   "source": [
    "from sknetwork.data import karate_club, painters, movie_actor\n",
    "from sknetwork.hierarchy import Paris, BiParis\n",
    "from sknetwork.visualization import svg_graph, svg_digraph, svg_bigraph\n",
    "from sknetwork.visualization import svg_dendrogram"
   ]
  },
  {
   "cell_type": "markdown",
   "metadata": {},
   "source": [
    "## Graphs"
   ]
  },
  {
   "cell_type": "code",
   "execution_count": 25,
   "metadata": {
    "pycharm": {
     "is_executing": false
    }
   },
   "outputs": [],
   "source": [
    "graph = karate_club(metadata=True)\n",
    "adjacency = graph.adjacency\n",
    "position = graph.position\n",
    "labels = graph.labels"
   ]
  },
  {
   "cell_type": "code",
   "execution_count": 26,
   "metadata": {
    "pycharm": {
     "is_executing": false
    }
   },
   "outputs": [],
   "source": [
    "image = svg_graph(adjacency, position, labels=labels)"
   ]
  },
  {
   "cell_type": "code",
   "execution_count": 27,
   "metadata": {
    "pycharm": {
     "is_executing": false
    }
   },
   "outputs": [
    {
     "data": {
      "image/svg+xml": [
       "<svg height=\"340\" width=\"440\"><path d=\"M 264 200 353 168\" stroke=\"black\" stroke-width=\"1\"/><path d=\"M 264 200 251 143\" stroke=\"black\" stroke-width=\"1\"/><path d=\"M 264 200 304 191\" stroke=\"black\" stroke-width=\"1\"/><path d=\"M 264 200 255 255\" stroke=\"black\" stroke-width=\"1\"/><path d=\"M 264 200 211 275\" stroke=\"black\" stroke-width=\"1\"/><path d=\"M 264 200 264 277\" stroke=\"black\" stroke-width=\"1\"/><path d=\"M 264 200 340 186\" stroke=\"black\" stroke-width=\"1\"/><path d=\"M 264 200 282 125\" stroke=\"black\" stroke-width=\"1\"/><path d=\"M 264 200 188 252\" stroke=\"black\" stroke-width=\"1\"/><path d=\"M 264 200 122 212\" stroke=\"black\" stroke-width=\"1\"/><path d=\"M 264 200 335 236\" stroke=\"black\" stroke-width=\"1\"/><path d=\"M 264 200 282 153\" stroke=\"black\" stroke-width=\"1\"/><path d=\"M 264 200 388 216\" stroke=\"black\" stroke-width=\"1\"/><path d=\"M 264 200 331 143\" stroke=\"black\" stroke-width=\"1\"/><path d=\"M 264 200 420 202\" stroke=\"black\" stroke-width=\"1\"/><path d=\"M 264 200 153 125\" stroke=\"black\" stroke-width=\"1\"/><path d=\"M 353 168 264 200\" stroke=\"black\" stroke-width=\"1\"/><path d=\"M 353 168 251 143\" stroke=\"black\" stroke-width=\"1\"/><path d=\"M 353 168 304 191\" stroke=\"black\" stroke-width=\"1\"/><path d=\"M 353 168 340 186\" stroke=\"black\" stroke-width=\"1\"/><path d=\"M 353 168 282 153\" stroke=\"black\" stroke-width=\"1\"/><path d=\"M 353 168 388 216\" stroke=\"black\" stroke-width=\"1\"/><path d=\"M 353 168 331 143\" stroke=\"black\" stroke-width=\"1\"/><path d=\"M 353 168 420 202\" stroke=\"black\" stroke-width=\"1\"/><path d=\"M 353 168 344 107\" stroke=\"black\" stroke-width=\"1\"/><path d=\"M 251 143 264 200\" stroke=\"black\" stroke-width=\"1\"/><path d=\"M 251 143 353 168\" stroke=\"black\" stroke-width=\"1\"/><path d=\"M 251 143 304 191\" stroke=\"black\" stroke-width=\"1\"/><path d=\"M 251 143 340 186\" stroke=\"black\" stroke-width=\"1\"/><path d=\"M 251 143 282 125\" stroke=\"black\" stroke-width=\"1\"/><path d=\"M 251 143 197 100\" stroke=\"black\" stroke-width=\"1\"/><path d=\"M 251 143 282 153\" stroke=\"black\" stroke-width=\"1\"/><path d=\"M 251 143 122 103\" stroke=\"black\" stroke-width=\"1\"/><path d=\"M 251 143 197 120\" stroke=\"black\" stroke-width=\"1\"/><path d=\"M 251 143 260 73\" stroke=\"black\" stroke-width=\"1\"/><path d=\"M 304 191 264 200\" stroke=\"black\" stroke-width=\"1\"/><path d=\"M 304 191 353 168\" stroke=\"black\" stroke-width=\"1\"/><path d=\"M 304 191 251 143\" stroke=\"black\" stroke-width=\"1\"/><path d=\"M 304 191 340 186\" stroke=\"black\" stroke-width=\"1\"/><path d=\"M 304 191 335 236\" stroke=\"black\" stroke-width=\"1\"/><path d=\"M 304 191 282 153\" stroke=\"black\" stroke-width=\"1\"/><path d=\"M 255 255 264 200\" stroke=\"black\" stroke-width=\"1\"/><path d=\"M 255 255 264 277\" stroke=\"black\" stroke-width=\"1\"/><path d=\"M 255 255 188 252\" stroke=\"black\" stroke-width=\"1\"/><path d=\"M 211 275 264 200\" stroke=\"black\" stroke-width=\"1\"/><path d=\"M 211 275 264 277\" stroke=\"black\" stroke-width=\"1\"/><path d=\"M 211 275 188 252\" stroke=\"black\" stroke-width=\"1\"/><path d=\"M 211 275 220 320\" stroke=\"black\" stroke-width=\"1\"/><path d=\"M 264 277 264 200\" stroke=\"black\" stroke-width=\"1\"/><path d=\"M 264 277 255 255\" stroke=\"black\" stroke-width=\"1\"/><path d=\"M 264 277 211 275\" stroke=\"black\" stroke-width=\"1\"/><path d=\"M 264 277 220 320\" stroke=\"black\" stroke-width=\"1\"/><path d=\"M 340 186 264 200\" stroke=\"black\" stroke-width=\"1\"/><path d=\"M 340 186 353 168\" stroke=\"black\" stroke-width=\"1\"/><path d=\"M 340 186 251 143\" stroke=\"black\" stroke-width=\"1\"/><path d=\"M 340 186 304 191\" stroke=\"black\" stroke-width=\"1\"/><path d=\"M 282 125 264 200\" stroke=\"black\" stroke-width=\"1\"/><path d=\"M 282 125 251 143\" stroke=\"black\" stroke-width=\"1\"/><path d=\"M 282 125 344 107\" stroke=\"black\" stroke-width=\"1\"/><path d=\"M 282 125 260 73\" stroke=\"black\" stroke-width=\"1\"/><path d=\"M 282 125 246 82\" stroke=\"black\" stroke-width=\"1\"/><path d=\"M 197 100 251 143\" stroke=\"black\" stroke-width=\"1\"/><path d=\"M 197 100 246 82\" stroke=\"black\" stroke-width=\"1\"/><path d=\"M 188 252 264 200\" stroke=\"black\" stroke-width=\"1\"/><path d=\"M 188 252 255 255\" stroke=\"black\" stroke-width=\"1\"/><path d=\"M 188 252 211 275\" stroke=\"black\" stroke-width=\"1\"/><path d=\"M 122 212 264 200\" stroke=\"black\" stroke-width=\"1\"/><path d=\"M 335 236 264 200\" stroke=\"black\" stroke-width=\"1\"/><path d=\"M 335 236 304 191\" stroke=\"black\" stroke-width=\"1\"/><path d=\"M 282 153 264 200\" stroke=\"black\" stroke-width=\"1\"/><path d=\"M 282 153 353 168\" stroke=\"black\" stroke-width=\"1\"/><path d=\"M 282 153 251 143\" stroke=\"black\" stroke-width=\"1\"/><path d=\"M 282 153 304 191\" stroke=\"black\" stroke-width=\"1\"/><path d=\"M 282 153 246 82\" stroke=\"black\" stroke-width=\"1\"/><path d=\"M 348 43 260 73\" stroke=\"black\" stroke-width=\"1\"/><path d=\"M 348 43 246 82\" stroke=\"black\" stroke-width=\"1\"/><path d=\"M 273 27 260 73\" stroke=\"black\" stroke-width=\"1\"/><path d=\"M 273 27 246 82\" stroke=\"black\" stroke-width=\"1\"/><path d=\"M 220 320 211 275\" stroke=\"black\" stroke-width=\"1\"/><path d=\"M 220 320 264 277\" stroke=\"black\" stroke-width=\"1\"/><path d=\"M 388 216 264 200\" stroke=\"black\" stroke-width=\"1\"/><path d=\"M 388 216 353 168\" stroke=\"black\" stroke-width=\"1\"/><path d=\"M 313 34 260 73\" stroke=\"black\" stroke-width=\"1\"/><path d=\"M 313 34 246 82\" stroke=\"black\" stroke-width=\"1\"/><path d=\"M 331 143 264 200\" stroke=\"black\" stroke-width=\"1\"/><path d=\"M 331 143 353 168\" stroke=\"black\" stroke-width=\"1\"/><path d=\"M 331 143 246 82\" stroke=\"black\" stroke-width=\"1\"/><path d=\"M 366 61 260 73\" stroke=\"black\" stroke-width=\"1\"/><path d=\"M 366 61 246 82\" stroke=\"black\" stroke-width=\"1\"/><path d=\"M 420 202 264 200\" stroke=\"black\" stroke-width=\"1\"/><path d=\"M 420 202 353 168\" stroke=\"black\" stroke-width=\"1\"/><path d=\"M 228 32 260 73\" stroke=\"black\" stroke-width=\"1\"/><path d=\"M 228 32 246 82\" stroke=\"black\" stroke-width=\"1\"/><path d=\"M 131 68 28 91\" stroke=\"black\" stroke-width=\"1\"/><path d=\"M 131 68 122 103\" stroke=\"black\" stroke-width=\"1\"/><path d=\"M 131 68 171 45\" stroke=\"black\" stroke-width=\"1\"/><path d=\"M 131 68 260 73\" stroke=\"black\" stroke-width=\"1\"/><path d=\"M 131 68 246 82\" stroke=\"black\" stroke-width=\"1\"/><path d=\"M 20 116 28 91\" stroke=\"black\" stroke-width=\"1\"/><path d=\"M 20 116 122 103\" stroke=\"black\" stroke-width=\"1\"/><path d=\"M 20 116 153 125\" stroke=\"black\" stroke-width=\"1\"/><path d=\"M 28 91 131 68\" stroke=\"black\" stroke-width=\"1\"/><path d=\"M 28 91 20 116\" stroke=\"black\" stroke-width=\"1\"/><path d=\"M 28 91 153 125\" stroke=\"black\" stroke-width=\"1\"/><path d=\"M 162 20 171 45\" stroke=\"black\" stroke-width=\"1\"/><path d=\"M 162 20 246 82\" stroke=\"black\" stroke-width=\"1\"/><path d=\"M 122 103 251 143\" stroke=\"black\" stroke-width=\"1\"/><path d=\"M 122 103 131 68\" stroke=\"black\" stroke-width=\"1\"/><path d=\"M 122 103 20 116\" stroke=\"black\" stroke-width=\"1\"/><path d=\"M 122 103 246 82\" stroke=\"black\" stroke-width=\"1\"/><path d=\"M 197 120 251 143\" stroke=\"black\" stroke-width=\"1\"/><path d=\"M 197 120 153 125\" stroke=\"black\" stroke-width=\"1\"/><path d=\"M 197 120 246 82\" stroke=\"black\" stroke-width=\"1\"/><path d=\"M 171 45 131 68\" stroke=\"black\" stroke-width=\"1\"/><path d=\"M 171 45 162 20\" stroke=\"black\" stroke-width=\"1\"/><path d=\"M 171 45 260 73\" stroke=\"black\" stroke-width=\"1\"/><path d=\"M 171 45 246 82\" stroke=\"black\" stroke-width=\"1\"/><path d=\"M 344 107 353 168\" stroke=\"black\" stroke-width=\"1\"/><path d=\"M 344 107 282 125\" stroke=\"black\" stroke-width=\"1\"/><path d=\"M 344 107 260 73\" stroke=\"black\" stroke-width=\"1\"/><path d=\"M 344 107 246 82\" stroke=\"black\" stroke-width=\"1\"/><path d=\"M 153 125 264 200\" stroke=\"black\" stroke-width=\"1\"/><path d=\"M 153 125 20 116\" stroke=\"black\" stroke-width=\"1\"/><path d=\"M 153 125 28 91\" stroke=\"black\" stroke-width=\"1\"/><path d=\"M 153 125 197 120\" stroke=\"black\" stroke-width=\"1\"/><path d=\"M 153 125 260 73\" stroke=\"black\" stroke-width=\"1\"/><path d=\"M 153 125 246 82\" stroke=\"black\" stroke-width=\"1\"/><path d=\"M 260 73 251 143\" stroke=\"black\" stroke-width=\"1\"/><path d=\"M 260 73 282 125\" stroke=\"black\" stroke-width=\"1\"/><path d=\"M 260 73 348 43\" stroke=\"black\" stroke-width=\"1\"/><path d=\"M 260 73 273 27\" stroke=\"black\" stroke-width=\"1\"/><path d=\"M 260 73 313 34\" stroke=\"black\" stroke-width=\"1\"/><path d=\"M 260 73 366 61\" stroke=\"black\" stroke-width=\"1\"/><path d=\"M 260 73 228 32\" stroke=\"black\" stroke-width=\"1\"/><path d=\"M 260 73 131 68\" stroke=\"black\" stroke-width=\"1\"/><path d=\"M 260 73 171 45\" stroke=\"black\" stroke-width=\"1\"/><path d=\"M 260 73 344 107\" stroke=\"black\" stroke-width=\"1\"/><path d=\"M 260 73 153 125\" stroke=\"black\" stroke-width=\"1\"/><path d=\"M 260 73 246 82\" stroke=\"black\" stroke-width=\"1\"/><path d=\"M 246 82 282 125\" stroke=\"black\" stroke-width=\"1\"/><path d=\"M 246 82 197 100\" stroke=\"black\" stroke-width=\"1\"/><path d=\"M 246 82 282 153\" stroke=\"black\" stroke-width=\"1\"/><path d=\"M 246 82 348 43\" stroke=\"black\" stroke-width=\"1\"/><path d=\"M 246 82 273 27\" stroke=\"black\" stroke-width=\"1\"/><path d=\"M 246 82 313 34\" stroke=\"black\" stroke-width=\"1\"/><path d=\"M 246 82 331 143\" stroke=\"black\" stroke-width=\"1\"/><path d=\"M 246 82 366 61\" stroke=\"black\" stroke-width=\"1\"/><path d=\"M 246 82 228 32\" stroke=\"black\" stroke-width=\"1\"/><path d=\"M 246 82 131 68\" stroke=\"black\" stroke-width=\"1\"/><path d=\"M 246 82 162 20\" stroke=\"black\" stroke-width=\"1\"/><path d=\"M 246 82 122 103\" stroke=\"black\" stroke-width=\"1\"/><path d=\"M 246 82 197 120\" stroke=\"black\" stroke-width=\"1\"/><path d=\"M 246 82 171 45\" stroke=\"black\" stroke-width=\"1\"/><path d=\"M 246 82 344 107\" stroke=\"black\" stroke-width=\"1\"/><path d=\"M 246 82 153 125\" stroke=\"black\" stroke-width=\"1\"/><path d=\"M 246 82 260 73\" stroke=\"black\" stroke-width=\"1\"/><circle cx=\"264\" cy=\"200\" r=\"7.0\" style=\"fill:red;stroke:black;stroke-width:1.0\"/><circle cx=\"353\" cy=\"168\" r=\"7.0\" style=\"fill:red;stroke:black;stroke-width:1.0\"/><circle cx=\"251\" cy=\"143\" r=\"7.0\" style=\"fill:red;stroke:black;stroke-width:1.0\"/><circle cx=\"304\" cy=\"191\" r=\"7.0\" style=\"fill:red;stroke:black;stroke-width:1.0\"/><circle cx=\"255\" cy=\"255\" r=\"7.0\" style=\"fill:red;stroke:black;stroke-width:1.0\"/><circle cx=\"211\" cy=\"275\" r=\"7.0\" style=\"fill:red;stroke:black;stroke-width:1.0\"/><circle cx=\"264\" cy=\"277\" r=\"7.0\" style=\"fill:red;stroke:black;stroke-width:1.0\"/><circle cx=\"340\" cy=\"186\" r=\"7.0\" style=\"fill:red;stroke:black;stroke-width:1.0\"/><circle cx=\"282\" cy=\"125\" r=\"7.0\" style=\"fill:red;stroke:black;stroke-width:1.0\"/><circle cx=\"197\" cy=\"100\" r=\"7.0\" style=\"fill:blue;stroke:black;stroke-width:1.0\"/><circle cx=\"188\" cy=\"252\" r=\"7.0\" style=\"fill:red;stroke:black;stroke-width:1.0\"/><circle cx=\"122\" cy=\"212\" r=\"7.0\" style=\"fill:red;stroke:black;stroke-width:1.0\"/><circle cx=\"335\" cy=\"236\" r=\"7.0\" style=\"fill:red;stroke:black;stroke-width:1.0\"/><circle cx=\"282\" cy=\"153\" r=\"7.0\" style=\"fill:red;stroke:black;stroke-width:1.0\"/><circle cx=\"348\" cy=\"43\" r=\"7.0\" style=\"fill:blue;stroke:black;stroke-width:1.0\"/><circle cx=\"273\" cy=\"27\" r=\"7.0\" style=\"fill:blue;stroke:black;stroke-width:1.0\"/><circle cx=\"220\" cy=\"320\" r=\"7.0\" style=\"fill:red;stroke:black;stroke-width:1.0\"/><circle cx=\"388\" cy=\"216\" r=\"7.0\" style=\"fill:red;stroke:black;stroke-width:1.0\"/><circle cx=\"313\" cy=\"34\" r=\"7.0\" style=\"fill:blue;stroke:black;stroke-width:1.0\"/><circle cx=\"331\" cy=\"143\" r=\"7.0\" style=\"fill:red;stroke:black;stroke-width:1.0\"/><circle cx=\"366\" cy=\"61\" r=\"7.0\" style=\"fill:blue;stroke:black;stroke-width:1.0\"/><circle cx=\"420\" cy=\"202\" r=\"7.0\" style=\"fill:red;stroke:black;stroke-width:1.0\"/><circle cx=\"228\" cy=\"32\" r=\"7.0\" style=\"fill:blue;stroke:black;stroke-width:1.0\"/><circle cx=\"131\" cy=\"68\" r=\"7.0\" style=\"fill:blue;stroke:black;stroke-width:1.0\"/><circle cx=\"20\" cy=\"116\" r=\"7.0\" style=\"fill:blue;stroke:black;stroke-width:1.0\"/><circle cx=\"28\" cy=\"91\" r=\"7.0\" style=\"fill:blue;stroke:black;stroke-width:1.0\"/><circle cx=\"162\" cy=\"20\" r=\"7.0\" style=\"fill:blue;stroke:black;stroke-width:1.0\"/><circle cx=\"122\" cy=\"103\" r=\"7.0\" style=\"fill:blue;stroke:black;stroke-width:1.0\"/><circle cx=\"197\" cy=\"120\" r=\"7.0\" style=\"fill:blue;stroke:black;stroke-width:1.0\"/><circle cx=\"171\" cy=\"45\" r=\"7.0\" style=\"fill:blue;stroke:black;stroke-width:1.0\"/><circle cx=\"344\" cy=\"107\" r=\"7.0\" style=\"fill:blue;stroke:black;stroke-width:1.0\"/><circle cx=\"153\" cy=\"125\" r=\"7.0\" style=\"fill:blue;stroke:black;stroke-width:1.0\"/><circle cx=\"260\" cy=\"73\" r=\"7.0\" style=\"fill:blue;stroke:black;stroke-width:1.0\"/><circle cx=\"246\" cy=\"82\" r=\"7.0\" style=\"fill:blue;stroke:black;stroke-width:1.0\"/></svg>"
      ],
      "text/plain": [
       "<IPython.core.display.SVG object>"
      ]
     },
     "execution_count": 27,
     "metadata": {},
     "output_type": "execute_result"
    }
   ],
   "source": [
    "SVG(image)"
   ]
  },
  {
   "cell_type": "markdown",
   "metadata": {},
   "source": [
    "**Dendrogram**"
   ]
  },
  {
   "cell_type": "code",
   "execution_count": 28,
   "metadata": {},
   "outputs": [],
   "source": [
    "paris = Paris()\n",
    "dendrogram = paris.fit_transform(adjacency)"
   ]
  },
  {
   "cell_type": "code",
   "execution_count": 29,
   "metadata": {},
   "outputs": [],
   "source": [
    "image = svg_dendrogram(dendrogram)"
   ]
  },
  {
   "cell_type": "code",
   "execution_count": 30,
   "metadata": {},
   "outputs": [
    {
     "data": {
      "image/svg+xml": [
       "<svg height=\"320\" width=\"420\"><path d=\"M 292.3529411764706 310 292.3529411764706 302.11045320217426\" stroke=\"blue\" stroke-width=\"2\"/><path d=\"M 304.11764705882354 310 304.11764705882354 302.11045320217426\" stroke=\"blue\" stroke-width=\"2\"/><path d=\"M 292.3529411764706 302.11045320217426 304.11764705882354 302.11045320217426\" stroke=\"blue\" stroke-width=\"2\"/><path d=\"M 221.76470588235296 310 221.76470588235296 301.12426017800624\" stroke=\"blue\" stroke-width=\"2\"/><path d=\"M 233.5294117647059 310 233.5294117647059 301.12426017800624\" stroke=\"blue\" stroke-width=\"2\"/><path d=\"M 221.76470588235296 301.12426017800624 233.5294117647059 301.12426017800624\" stroke=\"blue\" stroke-width=\"2\"/><path d=\"M 315.88235294117646 310 315.88235294117646 300.13806674387354\" stroke=\"blue\" stroke-width=\"2\"/><path d=\"M 327.64705882352945 310 327.64705882352945 300.13806674387354\" stroke=\"blue\" stroke-width=\"2\"/><path d=\"M 315.88235294117646 300.13806674387354 327.64705882352945 300.13806674387354\" stroke=\"blue\" stroke-width=\"2\"/><path d=\"M 257.05882352941177 310 257.05882352941177 304.0828399016307\" stroke=\"blue\" stroke-width=\"2\"/><path d=\"M 268.82352941176475 310 268.82352941176475 304.0828399016307\" stroke=\"blue\" stroke-width=\"2\"/><path d=\"M 257.05882352941177 304.0828399016307 268.82352941176475 304.0828399016307\" stroke=\"blue\" stroke-width=\"2\"/><path d=\"M 386.47058823529414 310 386.47058823529414 305.5621300890031\" stroke=\"blue\" stroke-width=\"2\"/><path d=\"M 398.2352941176471 310 398.2352941176471 305.5621300890031\" stroke=\"blue\" stroke-width=\"2\"/><path d=\"M 386.47058823529414 305.5621300890031 398.2352941176471 305.5621300890031\" stroke=\"blue\" stroke-width=\"2\"/><path d=\"M 351.1764705882353 310 351.1764705882353 306.05522660108716\" stroke=\"blue\" stroke-width=\"2\"/><path d=\"M 362.9411764705883 310 362.9411764705883 306.05522660108716\" stroke=\"blue\" stroke-width=\"2\"/><path d=\"M 351.1764705882353 306.05522660108716 362.9411764705883 306.05522660108716\" stroke=\"blue\" stroke-width=\"2\"/><path d=\"M 357.0588235294118 306.05522660108716 357.0588235294118 304.0828399016307\" stroke=\"blue\" stroke-width=\"2\"/><path d=\"M 374.7058823529412 310 374.7058823529412 304.0828399016307\" stroke=\"blue\" stroke-width=\"2\"/><path d=\"M 357.0588235294118 304.0828399016307 374.7058823529412 304.0828399016307\" stroke=\"blue\" stroke-width=\"2\"/><path d=\"M 262.9411764705883 304.0828399016307 262.9411764705883 294.2209064043485\" stroke=\"blue\" stroke-width=\"2\"/><path d=\"M 280.5882352941177 310 280.5882352941177 294.2209064043485\" stroke=\"blue\" stroke-width=\"2\"/><path d=\"M 262.9411764705883 294.2209064043485 280.5882352941177 294.2209064043485\" stroke=\"blue\" stroke-width=\"2\"/><path d=\"M 186.47058823529414 310 186.47058823529414 300.13806674387354\" stroke=\"red\" stroke-width=\"2\"/><path d=\"M 198.23529411764707 310 198.23529411764707 300.13806674387354\" stroke=\"red\" stroke-width=\"2\"/><path d=\"M 186.47058823529414 300.13806674387354 198.23529411764707 300.13806674387354\" stroke=\"red\" stroke-width=\"2\"/><path d=\"M 210.0 310 210.0 299.15187374985\" stroke=\"blue\" stroke-width=\"2\"/><path d=\"M 227.64705882352945 301.12426017800624 227.64705882352945 299.15187374985\" stroke=\"blue\" stroke-width=\"2\"/><path d=\"M 210.0 299.15187374985 227.64705882352945 299.15187374985\" stroke=\"blue\" stroke-width=\"2\"/><path d=\"M 80.58823529411765 310 80.58823529411765 305.5621300890031\" stroke=\"red\" stroke-width=\"2\"/><path d=\"M 92.3529411764706 310 92.3529411764706 305.5621300890031\" stroke=\"red\" stroke-width=\"2\"/><path d=\"M 80.58823529411765 305.5621300890031 92.3529411764706 305.5621300890031\" stroke=\"red\" stroke-width=\"2\"/><path d=\"M 57.05882352941177 310 57.05882352941177 301.12426017800624\" stroke=\"red\" stroke-width=\"2\"/><path d=\"M 68.82352941176471 310 68.82352941176471 301.12426017800624\" stroke=\"red\" stroke-width=\"2\"/><path d=\"M 57.05882352941177 301.12426017800624 68.82352941176471 301.12426017800624\" stroke=\"red\" stroke-width=\"2\"/><path d=\"M 10.0 310 10.0 300.13806674387354\" stroke=\"red\" stroke-width=\"2\"/><path d=\"M 21.764705882352942 310 21.764705882352942 300.13806674387354\" stroke=\"red\" stroke-width=\"2\"/><path d=\"M 10.0 300.13806674387354 21.764705882352942 300.13806674387354\" stroke=\"red\" stroke-width=\"2\"/><path d=\"M 321.7647058823529 300.13806674387354 321.7647058823529 280.4141984229527\" stroke=\"blue\" stroke-width=\"2\"/><path d=\"M 339.4117647058824 310 339.4117647058824 280.4141984229527\" stroke=\"blue\" stroke-width=\"2\"/><path d=\"M 321.7647058823529 280.4141984229527 339.4117647058824 280.4141984229527\" stroke=\"blue\" stroke-width=\"2\"/><path d=\"M 104.11764705882354 310 104.11764705882354 298.1656798032614\" stroke=\"red\" stroke-width=\"2\"/><path d=\"M 115.88235294117648 310 115.88235294117648 298.1656798032614\" stroke=\"red\" stroke-width=\"2\"/><path d=\"M 104.11764705882354 298.1656798032614 115.88235294117648 298.1656798032614\" stroke=\"red\" stroke-width=\"2\"/><path d=\"M 110.0 298.1656798032614 110.0 296.19329361023193\" stroke=\"red\" stroke-width=\"2\"/><path d=\"M 127.64705882352942 310 127.64705882352942 296.19329361023193\" stroke=\"red\" stroke-width=\"2\"/><path d=\"M 110.0 296.19329361023193 127.64705882352942 296.19329361023193\" stroke=\"red\" stroke-width=\"2\"/><path d=\"M 118.82352941176471 296.19329361023193 118.82352941176471 294.2209064043485\" stroke=\"red\" stroke-width=\"2\"/><path d=\"M 139.41176470588238 310 139.41176470588238 294.2209064043485\" stroke=\"red\" stroke-width=\"2\"/><path d=\"M 118.82352941176471 294.2209064043485 139.41176470588238 294.2209064043485\" stroke=\"red\" stroke-width=\"2\"/><path d=\"M 218.82352941176472 299.15187374985 218.82352941176472 290.76922968029976\" stroke=\"blue\" stroke-width=\"2\"/><path d=\"M 245.29411764705884 310 245.29411764705884 290.76922968029976\" stroke=\"blue\" stroke-width=\"2\"/><path d=\"M 218.82352941176472 290.76922968029976 245.29411764705884 290.76922968029976\" stroke=\"blue\" stroke-width=\"2\"/><path d=\"M 162.94117647058823 310 162.94117647058823 293.2347133620938\" stroke=\"red\" stroke-width=\"2\"/><path d=\"M 174.7058823529412 310 174.7058823529412 293.2347133620938\" stroke=\"red\" stroke-width=\"2\"/><path d=\"M 162.94117647058823 293.2347133620938 174.7058823529412 293.2347133620938\" stroke=\"red\" stroke-width=\"2\"/><path d=\"M 129.11764705882354 294.2209064043485 129.11764705882354 292.2485203560125\" stroke=\"red\" stroke-width=\"2\"/><path d=\"M 151.1764705882353 310 151.1764705882353 292.2485203560125\" stroke=\"red\" stroke-width=\"2\"/><path d=\"M 129.11764705882354 292.2485203560125 151.1764705882353 292.2485203560125\" stroke=\"red\" stroke-width=\"2\"/><path d=\"M 33.529411764705884 310 33.529411764705884 306.05522660108716\" stroke=\"red\" stroke-width=\"2\"/><path d=\"M 45.294117647058826 310 45.294117647058826 306.05522660108716\" stroke=\"red\" stroke-width=\"2\"/><path d=\"M 33.529411764705884 306.05522660108716 45.294117647058826 306.05522660108716\" stroke=\"red\" stroke-width=\"2\"/><path d=\"M 365.8823529411765 304.0828399016307 365.8823529411765 295.20709921147636\" stroke=\"blue\" stroke-width=\"2\"/><path d=\"M 392.3529411764706 305.5621300890031 392.3529411764706 295.20709921147636\" stroke=\"blue\" stroke-width=\"2\"/><path d=\"M 365.8823529411765 295.20709921147636 392.3529411764706 295.20709921147636\" stroke=\"blue\" stroke-width=\"2\"/><path d=\"M 271.764705882353 294.2209064043485 271.764705882353 276.46942672418766\" stroke=\"blue\" stroke-width=\"2\"/><path d=\"M 298.2352941176471 302.11045320217426 298.2352941176471 276.46942672418766\" stroke=\"blue\" stroke-width=\"2\"/><path d=\"M 271.764705882353 276.46942672418766 298.2352941176471 276.46942672418766\" stroke=\"blue\" stroke-width=\"2\"/><path d=\"M 62.94117647058824 301.12426017800624 62.94117647058824 296.6863895344989\" stroke=\"red\" stroke-width=\"2\"/><path d=\"M 86.47058823529412 305.5621300890031 86.47058823529412 296.6863895344989\" stroke=\"red\" stroke-width=\"2\"/><path d=\"M 62.94117647058824 296.6863895344989 86.47058823529412 296.6863895344989\" stroke=\"red\" stroke-width=\"2\"/><path d=\"M 15.882352941176471 300.13806674387354 15.882352941176471 283.37277906899783\" stroke=\"red\" stroke-width=\"2\"/><path d=\"M 39.411764705882355 306.05522660108716 39.411764705882355 283.37277906899783\" stroke=\"red\" stroke-width=\"2\"/><path d=\"M 15.882352941176471 283.37277906899783 39.411764705882355 283.37277906899783\" stroke=\"red\" stroke-width=\"2\"/><path d=\"M 140.14705882352942 292.2485203560125 140.14705882352942 278.770543893454\" stroke=\"red\" stroke-width=\"2\"/><path d=\"M 168.8235294117647 293.2347133620938 168.8235294117647 278.770543893454\" stroke=\"red\" stroke-width=\"2\"/><path d=\"M 140.14705882352942 278.770543893454 168.8235294117647 278.770543893454\" stroke=\"red\" stroke-width=\"2\"/><path d=\"M 154.48529411764707 278.770543893454 154.48529411764707 266.73076710305537\" stroke=\"red\" stroke-width=\"2\"/><path d=\"M 192.3529411764706 300.13806674387354 192.3529411764706 266.73076710305537\" stroke=\"red\" stroke-width=\"2\"/><path d=\"M 154.48529411764707 266.73076710305537 192.3529411764706 266.73076710305537\" stroke=\"red\" stroke-width=\"2\"/><path d=\"M 232.05882352941177 290.76922968029976 232.05882352941177 271.86718783518063\" stroke=\"blue\" stroke-width=\"2\"/><path d=\"M 285.0 276.46942672418766 285.0 271.86718783518063\" stroke=\"blue\" stroke-width=\"2\"/><path d=\"M 232.05882352941177 271.86718783518063 285.0 271.86718783518063\" stroke=\"blue\" stroke-width=\"2\"/><path d=\"M 258.52941176470586 271.86718783518063 258.52941176470586 256.1115744635648\" stroke=\"blue\" stroke-width=\"2\"/><path d=\"M 330.5882352941177 280.4141984229527 330.5882352941177 256.1115744635648\" stroke=\"blue\" stroke-width=\"2\"/><path d=\"M 258.52941176470586 256.1115744635648 330.5882352941177 256.1115744635648\" stroke=\"blue\" stroke-width=\"2\"/><path d=\"M 294.55882352941177 256.1115744635648 294.55882352941177 187.71202388611835\" stroke=\"blue\" stroke-width=\"2\"/><path d=\"M 379.11764705882354 295.20709921147636 379.11764705882354 187.71202388611835\" stroke=\"blue\" stroke-width=\"2\"/><path d=\"M 294.55882352941177 187.71202388611835 379.11764705882354 187.71202388611835\" stroke=\"blue\" stroke-width=\"2\"/><path d=\"M 27.647058823529413 283.37277906899783 27.647058823529413 254.52662363268593\" stroke=\"red\" stroke-width=\"2\"/><path d=\"M 74.70588235294117 296.6863895344989 74.70588235294117 254.52662363268593\" stroke=\"red\" stroke-width=\"2\"/><path d=\"M 27.647058823529413 254.52662363268593 74.70588235294117 254.52662363268593\" stroke=\"red\" stroke-width=\"2\"/><path d=\"M 51.17647058823529 254.52662363268593 51.17647058823529 231.104529127874\" stroke=\"red\" stroke-width=\"2\"/><path d=\"M 173.41911764705884 266.73076710305537 173.41911764705884 231.104529127874\" stroke=\"red\" stroke-width=\"2\"/><path d=\"M 51.17647058823529 231.104529127874 173.41911764705884 231.104529127874\" stroke=\"red\" stroke-width=\"2\"/><path d=\"M 112.29779411764707 231.104529127874 112.29779411764707 10.0\" stroke=\"black\" stroke-width=\"2\"/><path d=\"M 336.8382352941177 187.71202388611835 336.8382352941177 10.0\" stroke=\"black\" stroke-width=\"2\"/><path d=\"M 112.29779411764707 10.0 336.8382352941177 10.0\" stroke=\"black\" stroke-width=\"2\"/></svg>"
      ],
      "text/plain": [
       "<IPython.core.display.SVG object>"
      ]
     },
     "execution_count": 30,
     "metadata": {},
     "output_type": "execute_result"
    }
   ],
   "source": [
    "SVG(image)"
   ]
  },
  {
   "cell_type": "code",
   "execution_count": 31,
   "metadata": {},
   "outputs": [],
   "source": [
    "n = adjacency.shape[0]"
   ]
  },
  {
   "cell_type": "code",
   "execution_count": 32,
   "metadata": {},
   "outputs": [],
   "source": [
    "image = svg_dendrogram(dendrogram, names=np.arange(n), n_clusters=5, color='gray')"
   ]
  },
  {
   "cell_type": "code",
   "execution_count": 33,
   "metadata": {},
   "outputs": [
    {
     "data": {
      "image/svg+xml": [
       "<svg height=\"337.0\" width=\"420\"><text font-size=\"12\" transform=\"rotate(60, 299.11764705882354, 315)\" x=\"299.11764705882354\" y=\"315\">0</text><text font-size=\"12\" transform=\"rotate(60, 228.5294117647059, 315)\" x=\"228.5294117647059\" y=\"315\">1</text><text font-size=\"12\" transform=\"rotate(60, 322.64705882352945, 315)\" x=\"322.64705882352945\" y=\"315\">2</text><text font-size=\"12\" transform=\"rotate(60, 263.82352941176475, 315)\" x=\"263.82352941176475\" y=\"315\">3</text><text font-size=\"12\" transform=\"rotate(60, 393.2352941176471, 315)\" x=\"393.2352941176471\" y=\"315\">4</text><text font-size=\"12\" transform=\"rotate(60, 357.9411764705883, 315)\" x=\"357.9411764705883\" y=\"315\">5</text><text font-size=\"12\" transform=\"rotate(60, 369.7058823529412, 315)\" x=\"369.7058823529412\" y=\"315\">6</text><text font-size=\"12\" transform=\"rotate(60, 275.5882352941177, 315)\" x=\"275.5882352941177\" y=\"315\">7</text><text font-size=\"12\" transform=\"rotate(60, 193.23529411764707, 315)\" x=\"193.23529411764707\" y=\"315\">8</text><text font-size=\"12\" transform=\"rotate(60, 310.88235294117646, 315)\" x=\"310.88235294117646\" y=\"315\">9</text><text font-size=\"12\" transform=\"rotate(60, 381.47058823529414, 315)\" x=\"381.47058823529414\" y=\"315\">10</text><text font-size=\"12\" transform=\"rotate(60, 287.3529411764706, 315)\" x=\"287.3529411764706\" y=\"315\">11</text><text font-size=\"12\" transform=\"rotate(60, 252.05882352941177, 315)\" x=\"252.05882352941177\" y=\"315\">12</text><text font-size=\"12\" transform=\"rotate(60, 334.4117647058824, 315)\" x=\"334.4117647058824\" y=\"315\">13</text><text font-size=\"12\" transform=\"rotate(60, 110.88235294117648, 315)\" x=\"110.88235294117648\" y=\"315\">14</text><text font-size=\"12\" transform=\"rotate(60, 122.64705882352942, 315)\" x=\"122.64705882352942\" y=\"315\">15</text><text font-size=\"12\" transform=\"rotate(60, 346.1764705882353, 315)\" x=\"346.1764705882353\" y=\"315\">16</text><text font-size=\"12\" transform=\"rotate(60, 216.76470588235296, 315)\" x=\"216.76470588235296\" y=\"315\">17</text><text font-size=\"12\" transform=\"rotate(60, 134.41176470588238, 315)\" x=\"134.41176470588238\" y=\"315\">18</text><text font-size=\"12\" transform=\"rotate(60, 240.29411764705884, 315)\" x=\"240.29411764705884\" y=\"315\">19</text><text font-size=\"12\" transform=\"rotate(60, 169.7058823529412, 315)\" x=\"169.7058823529412\" y=\"315\">20</text><text font-size=\"12\" transform=\"rotate(60, 205.0, 315)\" x=\"205.0\" y=\"315\">21</text><text font-size=\"12\" transform=\"rotate(60, 146.1764705882353, 315)\" x=\"146.1764705882353\" y=\"315\">22</text><text font-size=\"12\" transform=\"rotate(60, 5.0, 315)\" x=\"5.0\" y=\"315\">23</text><text font-size=\"12\" transform=\"rotate(60, 87.3529411764706, 315)\" x=\"87.3529411764706\" y=\"315\">24</text><text font-size=\"12\" transform=\"rotate(60, 75.58823529411765, 315)\" x=\"75.58823529411765\" y=\"315\">25</text><text font-size=\"12\" transform=\"rotate(60, 40.294117647058826, 315)\" x=\"40.294117647058826\" y=\"315\">26</text><text font-size=\"12\" transform=\"rotate(60, 16.764705882352942, 315)\" x=\"16.764705882352942\" y=\"315\">27</text><text font-size=\"12\" transform=\"rotate(60, 63.82352941176471, 315)\" x=\"63.82352941176471\" y=\"315\">28</text><text font-size=\"12\" transform=\"rotate(60, 28.529411764705884, 315)\" x=\"28.529411764705884\" y=\"315\">29</text><text font-size=\"12\" transform=\"rotate(60, 181.47058823529414, 315)\" x=\"181.47058823529414\" y=\"315\">30</text><text font-size=\"12\" transform=\"rotate(60, 52.05882352941177, 315)\" x=\"52.05882352941177\" y=\"315\">31</text><text font-size=\"12\" transform=\"rotate(60, 99.11764705882354, 315)\" x=\"99.11764705882354\" y=\"315\">32</text><text font-size=\"12\" transform=\"rotate(60, 157.94117647058823, 315)\" x=\"157.94117647058823\" y=\"315\">33</text><path d=\"M 292.3529411764706 310 292.3529411764706 302.11045320217426\" stroke=\"blue\" stroke-width=\"2\"/><path d=\"M 304.11764705882354 310 304.11764705882354 302.11045320217426\" stroke=\"blue\" stroke-width=\"2\"/><path d=\"M 292.3529411764706 302.11045320217426 304.11764705882354 302.11045320217426\" stroke=\"blue\" stroke-width=\"2\"/><path d=\"M 221.76470588235296 310 221.76470588235296 301.12426017800624\" stroke=\"blue\" stroke-width=\"2\"/><path d=\"M 233.5294117647059 310 233.5294117647059 301.12426017800624\" stroke=\"blue\" stroke-width=\"2\"/><path d=\"M 221.76470588235296 301.12426017800624 233.5294117647059 301.12426017800624\" stroke=\"blue\" stroke-width=\"2\"/><path d=\"M 315.88235294117646 310 315.88235294117646 300.13806674387354\" stroke=\"blue\" stroke-width=\"2\"/><path d=\"M 327.64705882352945 310 327.64705882352945 300.13806674387354\" stroke=\"blue\" stroke-width=\"2\"/><path d=\"M 315.88235294117646 300.13806674387354 327.64705882352945 300.13806674387354\" stroke=\"blue\" stroke-width=\"2\"/><path d=\"M 257.05882352941177 310 257.05882352941177 304.0828399016307\" stroke=\"blue\" stroke-width=\"2\"/><path d=\"M 268.82352941176475 310 268.82352941176475 304.0828399016307\" stroke=\"blue\" stroke-width=\"2\"/><path d=\"M 257.05882352941177 304.0828399016307 268.82352941176475 304.0828399016307\" stroke=\"blue\" stroke-width=\"2\"/><path d=\"M 386.47058823529414 310 386.47058823529414 305.5621300890031\" stroke=\"green\" stroke-width=\"2\"/><path d=\"M 398.2352941176471 310 398.2352941176471 305.5621300890031\" stroke=\"green\" stroke-width=\"2\"/><path d=\"M 386.47058823529414 305.5621300890031 398.2352941176471 305.5621300890031\" stroke=\"green\" stroke-width=\"2\"/><path d=\"M 351.1764705882353 310 351.1764705882353 306.05522660108716\" stroke=\"green\" stroke-width=\"2\"/><path d=\"M 362.9411764705883 310 362.9411764705883 306.05522660108716\" stroke=\"green\" stroke-width=\"2\"/><path d=\"M 351.1764705882353 306.05522660108716 362.9411764705883 306.05522660108716\" stroke=\"green\" stroke-width=\"2\"/><path d=\"M 357.0588235294118 306.05522660108716 357.0588235294118 304.0828399016307\" stroke=\"green\" stroke-width=\"2\"/><path d=\"M 374.7058823529412 310 374.7058823529412 304.0828399016307\" stroke=\"green\" stroke-width=\"2\"/><path d=\"M 357.0588235294118 304.0828399016307 374.7058823529412 304.0828399016307\" stroke=\"green\" stroke-width=\"2\"/><path d=\"M 262.9411764705883 304.0828399016307 262.9411764705883 294.2209064043485\" stroke=\"blue\" stroke-width=\"2\"/><path d=\"M 280.5882352941177 310 280.5882352941177 294.2209064043485\" stroke=\"blue\" stroke-width=\"2\"/><path d=\"M 262.9411764705883 294.2209064043485 280.5882352941177 294.2209064043485\" stroke=\"blue\" stroke-width=\"2\"/><path d=\"M 186.47058823529414 310 186.47058823529414 300.13806674387354\" stroke=\"red\" stroke-width=\"2\"/><path d=\"M 198.23529411764707 310 198.23529411764707 300.13806674387354\" stroke=\"red\" stroke-width=\"2\"/><path d=\"M 186.47058823529414 300.13806674387354 198.23529411764707 300.13806674387354\" stroke=\"red\" stroke-width=\"2\"/><path d=\"M 210.0 310 210.0 299.15187374985\" stroke=\"blue\" stroke-width=\"2\"/><path d=\"M 227.64705882352945 301.12426017800624 227.64705882352945 299.15187374985\" stroke=\"blue\" stroke-width=\"2\"/><path d=\"M 210.0 299.15187374985 227.64705882352945 299.15187374985\" stroke=\"blue\" stroke-width=\"2\"/><path d=\"M 80.58823529411765 310 80.58823529411765 305.5621300890031\" stroke=\"orange\" stroke-width=\"2\"/><path d=\"M 92.3529411764706 310 92.3529411764706 305.5621300890031\" stroke=\"orange\" stroke-width=\"2\"/><path d=\"M 80.58823529411765 305.5621300890031 92.3529411764706 305.5621300890031\" stroke=\"orange\" stroke-width=\"2\"/><path d=\"M 57.05882352941177 310 57.05882352941177 301.12426017800624\" stroke=\"orange\" stroke-width=\"2\"/><path d=\"M 68.82352941176471 310 68.82352941176471 301.12426017800624\" stroke=\"orange\" stroke-width=\"2\"/><path d=\"M 57.05882352941177 301.12426017800624 68.82352941176471 301.12426017800624\" stroke=\"orange\" stroke-width=\"2\"/><path d=\"M 10.0 310 10.0 300.13806674387354\" stroke=\" purple\" stroke-width=\"2\"/><path d=\"M 21.764705882352942 310 21.764705882352942 300.13806674387354\" stroke=\" purple\" stroke-width=\"2\"/><path d=\"M 10.0 300.13806674387354 21.764705882352942 300.13806674387354\" stroke=\" purple\" stroke-width=\"2\"/><path d=\"M 321.7647058823529 300.13806674387354 321.7647058823529 280.4141984229527\" stroke=\"blue\" stroke-width=\"2\"/><path d=\"M 339.4117647058824 310 339.4117647058824 280.4141984229527\" stroke=\"blue\" stroke-width=\"2\"/><path d=\"M 321.7647058823529 280.4141984229527 339.4117647058824 280.4141984229527\" stroke=\"blue\" stroke-width=\"2\"/><path d=\"M 104.11764705882354 310 104.11764705882354 298.1656798032614\" stroke=\"red\" stroke-width=\"2\"/><path d=\"M 115.88235294117648 310 115.88235294117648 298.1656798032614\" stroke=\"red\" stroke-width=\"2\"/><path d=\"M 104.11764705882354 298.1656798032614 115.88235294117648 298.1656798032614\" stroke=\"red\" stroke-width=\"2\"/><path d=\"M 110.0 298.1656798032614 110.0 296.19329361023193\" stroke=\"red\" stroke-width=\"2\"/><path d=\"M 127.64705882352942 310 127.64705882352942 296.19329361023193\" stroke=\"red\" stroke-width=\"2\"/><path d=\"M 110.0 296.19329361023193 127.64705882352942 296.19329361023193\" stroke=\"red\" stroke-width=\"2\"/><path d=\"M 118.82352941176471 296.19329361023193 118.82352941176471 294.2209064043485\" stroke=\"red\" stroke-width=\"2\"/><path d=\"M 139.41176470588238 310 139.41176470588238 294.2209064043485\" stroke=\"red\" stroke-width=\"2\"/><path d=\"M 118.82352941176471 294.2209064043485 139.41176470588238 294.2209064043485\" stroke=\"red\" stroke-width=\"2\"/><path d=\"M 218.82352941176472 299.15187374985 218.82352941176472 290.76922968029976\" stroke=\"blue\" stroke-width=\"2\"/><path d=\"M 245.29411764705884 310 245.29411764705884 290.76922968029976\" stroke=\"blue\" stroke-width=\"2\"/><path d=\"M 218.82352941176472 290.76922968029976 245.29411764705884 290.76922968029976\" stroke=\"blue\" stroke-width=\"2\"/><path d=\"M 162.94117647058823 310 162.94117647058823 293.2347133620938\" stroke=\"red\" stroke-width=\"2\"/><path d=\"M 174.7058823529412 310 174.7058823529412 293.2347133620938\" stroke=\"red\" stroke-width=\"2\"/><path d=\"M 162.94117647058823 293.2347133620938 174.7058823529412 293.2347133620938\" stroke=\"red\" stroke-width=\"2\"/><path d=\"M 129.11764705882354 294.2209064043485 129.11764705882354 292.2485203560125\" stroke=\"red\" stroke-width=\"2\"/><path d=\"M 151.1764705882353 310 151.1764705882353 292.2485203560125\" stroke=\"red\" stroke-width=\"2\"/><path d=\"M 129.11764705882354 292.2485203560125 151.1764705882353 292.2485203560125\" stroke=\"red\" stroke-width=\"2\"/><path d=\"M 33.529411764705884 310 33.529411764705884 306.05522660108716\" stroke=\" purple\" stroke-width=\"2\"/><path d=\"M 45.294117647058826 310 45.294117647058826 306.05522660108716\" stroke=\" purple\" stroke-width=\"2\"/><path d=\"M 33.529411764705884 306.05522660108716 45.294117647058826 306.05522660108716\" stroke=\" purple\" stroke-width=\"2\"/><path d=\"M 365.8823529411765 304.0828399016307 365.8823529411765 295.20709921147636\" stroke=\"green\" stroke-width=\"2\"/><path d=\"M 392.3529411764706 305.5621300890031 392.3529411764706 295.20709921147636\" stroke=\"green\" stroke-width=\"2\"/><path d=\"M 365.8823529411765 295.20709921147636 392.3529411764706 295.20709921147636\" stroke=\"green\" stroke-width=\"2\"/><path d=\"M 271.764705882353 294.2209064043485 271.764705882353 276.46942672418766\" stroke=\"blue\" stroke-width=\"2\"/><path d=\"M 298.2352941176471 302.11045320217426 298.2352941176471 276.46942672418766\" stroke=\"blue\" stroke-width=\"2\"/><path d=\"M 271.764705882353 276.46942672418766 298.2352941176471 276.46942672418766\" stroke=\"blue\" stroke-width=\"2\"/><path d=\"M 62.94117647058824 301.12426017800624 62.94117647058824 296.6863895344989\" stroke=\"orange\" stroke-width=\"2\"/><path d=\"M 86.47058823529412 305.5621300890031 86.47058823529412 296.6863895344989\" stroke=\"orange\" stroke-width=\"2\"/><path d=\"M 62.94117647058824 296.6863895344989 86.47058823529412 296.6863895344989\" stroke=\"orange\" stroke-width=\"2\"/><path d=\"M 15.882352941176471 300.13806674387354 15.882352941176471 283.37277906899783\" stroke=\" purple\" stroke-width=\"2\"/><path d=\"M 39.411764705882355 306.05522660108716 39.411764705882355 283.37277906899783\" stroke=\" purple\" stroke-width=\"2\"/><path d=\"M 15.882352941176471 283.37277906899783 39.411764705882355 283.37277906899783\" stroke=\" purple\" stroke-width=\"2\"/><path d=\"M 140.14705882352942 292.2485203560125 140.14705882352942 278.770543893454\" stroke=\"red\" stroke-width=\"2\"/><path d=\"M 168.8235294117647 293.2347133620938 168.8235294117647 278.770543893454\" stroke=\"red\" stroke-width=\"2\"/><path d=\"M 140.14705882352942 278.770543893454 168.8235294117647 278.770543893454\" stroke=\"red\" stroke-width=\"2\"/><path d=\"M 154.48529411764707 278.770543893454 154.48529411764707 266.73076710305537\" stroke=\"red\" stroke-width=\"2\"/><path d=\"M 192.3529411764706 300.13806674387354 192.3529411764706 266.73076710305537\" stroke=\"red\" stroke-width=\"2\"/><path d=\"M 154.48529411764707 266.73076710305537 192.3529411764706 266.73076710305537\" stroke=\"red\" stroke-width=\"2\"/><path d=\"M 232.05882352941177 290.76922968029976 232.05882352941177 271.86718783518063\" stroke=\"blue\" stroke-width=\"2\"/><path d=\"M 285.0 276.46942672418766 285.0 271.86718783518063\" stroke=\"blue\" stroke-width=\"2\"/><path d=\"M 232.05882352941177 271.86718783518063 285.0 271.86718783518063\" stroke=\"blue\" stroke-width=\"2\"/><path d=\"M 258.52941176470586 271.86718783518063 258.52941176470586 256.1115744635648\" stroke=\"blue\" stroke-width=\"2\"/><path d=\"M 330.5882352941177 280.4141984229527 330.5882352941177 256.1115744635648\" stroke=\"blue\" stroke-width=\"2\"/><path d=\"M 258.52941176470586 256.1115744635648 330.5882352941177 256.1115744635648\" stroke=\"blue\" stroke-width=\"2\"/><path d=\"M 294.55882352941177 256.1115744635648 294.55882352941177 187.71202388611835\" stroke=\"gray\" stroke-width=\"2\"/><path d=\"M 379.11764705882354 295.20709921147636 379.11764705882354 187.71202388611835\" stroke=\"gray\" stroke-width=\"2\"/><path d=\"M 294.55882352941177 187.71202388611835 379.11764705882354 187.71202388611835\" stroke=\"gray\" stroke-width=\"2\"/><path d=\"M 27.647058823529413 283.37277906899783 27.647058823529413 254.52662363268593\" stroke=\"gray\" stroke-width=\"2\"/><path d=\"M 74.70588235294117 296.6863895344989 74.70588235294117 254.52662363268593\" stroke=\"gray\" stroke-width=\"2\"/><path d=\"M 27.647058823529413 254.52662363268593 74.70588235294117 254.52662363268593\" stroke=\"gray\" stroke-width=\"2\"/><path d=\"M 51.17647058823529 254.52662363268593 51.17647058823529 231.104529127874\" stroke=\"gray\" stroke-width=\"2\"/><path d=\"M 173.41911764705884 266.73076710305537 173.41911764705884 231.104529127874\" stroke=\"gray\" stroke-width=\"2\"/><path d=\"M 51.17647058823529 231.104529127874 173.41911764705884 231.104529127874\" stroke=\"gray\" stroke-width=\"2\"/><path d=\"M 112.29779411764707 231.104529127874 112.29779411764707 10.0\" stroke=\"gray\" stroke-width=\"2\"/><path d=\"M 336.8382352941177 187.71202388611835 336.8382352941177 10.0\" stroke=\"gray\" stroke-width=\"2\"/><path d=\"M 112.29779411764707 10.0 336.8382352941177 10.0\" stroke=\"gray\" stroke-width=\"2\"/></svg>"
      ],
      "text/plain": [
       "<IPython.core.display.SVG object>"
      ]
     },
     "execution_count": 33,
     "metadata": {},
     "output_type": "execute_result"
    }
   ],
   "source": [
    "SVG(image)"
   ]
  },
  {
   "cell_type": "markdown",
   "metadata": {},
   "source": [
    "**Export**"
   ]
  },
  {
   "cell_type": "code",
   "execution_count": null,
   "metadata": {},
   "outputs": [],
   "source": [
    "svg_dendrogram(dendrogram, filename='dendrogram_karate_club')"
   ]
  },
  {
   "cell_type": "markdown",
   "metadata": {},
   "source": [
    "## Digraphs"
   ]
  },
  {
   "cell_type": "code",
   "execution_count": 34,
   "metadata": {
    "pycharm": {
     "is_executing": false
    }
   },
   "outputs": [],
   "source": [
    "graph = painters(metadata=True)\n",
    "adjacency = graph.adjacency\n",
    "names = graph.names\n",
    "position = graph.position"
   ]
  },
  {
   "cell_type": "code",
   "execution_count": 35,
   "metadata": {
    "pycharm": {
     "is_executing": false
    }
   },
   "outputs": [],
   "source": [
    "image = svg_digraph(adjacency, position, names)"
   ]
  },
  {
   "cell_type": "code",
   "execution_count": 36,
   "metadata": {
    "pycharm": {
     "is_executing": false
    }
   },
   "outputs": [
    {
     "data": {
      "image/svg+xml": [
       "<svg height=\"340\" width=\"566.0\"><defs><marker id=\"arrow\" markerHeight=\"10\" markerWidth=\"10\" orient=\"auto\" refX=\"9\" refY=\"3\"><path d=\"M0,0 L0,6 L9,3 z\" fill=\"gray\"/></marker></defs><path d=\"M 247 48 77 64\" marker-end=\"url(#arrow)\" stroke=\"gray\" stroke-width=\"1\"/><path d=\"M 247 48 170 55\" marker-end=\"url(#arrow)\" stroke=\"gray\" stroke-width=\"1\"/><path d=\"M 20 108 66 68\" marker-end=\"url(#arrow)\" stroke=\"gray\" stroke-width=\"1\"/><path d=\"M 20 108 87 129\" marker-end=\"url(#arrow)\" stroke=\"gray\" stroke-width=\"1\"/><path d=\"M 74 268 146 317\" marker-end=\"url(#arrow)\" stroke=\"gray\" stroke-width=\"1\"/><path d=\"M 71 64 241 48\" marker-end=\"url(#arrow)\" stroke=\"gray\" stroke-width=\"1\"/><path d=\"M 71 64 25 104\" marker-end=\"url(#arrow)\" stroke=\"gray\" stroke-width=\"1\"/><path d=\"M 71 64 56 156\" marker-end=\"url(#arrow)\" stroke=\"gray\" stroke-width=\"1\"/><path d=\"M 71 64 126 90\" marker-end=\"url(#arrow)\" stroke=\"gray\" stroke-width=\"1\"/><path d=\"M 71 64 91 125\" marker-end=\"url(#arrow)\" stroke=\"gray\" stroke-width=\"1\"/><path d=\"M 144 227 80 265\" marker-end=\"url(#arrow)\" stroke=\"gray\" stroke-width=\"1\"/><path d=\"M 144 227 202 255\" marker-end=\"url(#arrow)\" stroke=\"gray\" stroke-width=\"1\"/><path d=\"M 144 227 151 314\" marker-end=\"url(#arrow)\" stroke=\"gray\" stroke-width=\"1\"/><path d=\"M 208 257 80 268\" marker-end=\"url(#arrow)\" stroke=\"gray\" stroke-width=\"1\"/><path d=\"M 208 257 150 229\" marker-end=\"url(#arrow)\" stroke=\"gray\" stroke-width=\"1\"/><path d=\"M 208 257 205 146\" marker-end=\"url(#arrow)\" stroke=\"gray\" stroke-width=\"1\"/><path d=\"M 208 257 155 315\" marker-end=\"url(#arrow)\" stroke=\"gray\" stroke-width=\"1\"/><path d=\"M 420 20 253 47\" marker-end=\"url(#arrow)\" stroke=\"gray\" stroke-width=\"1\"/><path d=\"M 420 20 405 88\" marker-end=\"url(#arrow)\" stroke=\"gray\" stroke-width=\"1\"/><path d=\"M 55 162 23 113\" marker-end=\"url(#arrow)\" stroke=\"gray\" stroke-width=\"1\"/><path d=\"M 55 162 73 262\" marker-end=\"url(#arrow)\" stroke=\"gray\" stroke-width=\"1\"/><path d=\"M 55 162 70 70\" marker-end=\"url(#arrow)\" stroke=\"gray\" stroke-width=\"1\"/><path d=\"M 55 162 199 140\" marker-end=\"url(#arrow)\" stroke=\"gray\" stroke-width=\"1\"/><path d=\"M 55 162 127 96\" marker-end=\"url(#arrow)\" stroke=\"gray\" stroke-width=\"1\"/><path d=\"M 55 162 88 135\" marker-end=\"url(#arrow)\" stroke=\"gray\" stroke-width=\"1\"/><path d=\"M 205 140 245 54\" marker-end=\"url(#arrow)\" stroke=\"gray\" stroke-width=\"1\"/><path d=\"M 205 140 26 109\" marker-end=\"url(#arrow)\" stroke=\"gray\" stroke-width=\"1\"/><path d=\"M 205 140 148 222\" marker-end=\"url(#arrow)\" stroke=\"gray\" stroke-width=\"1\"/><path d=\"M 205 140 208 251\" marker-end=\"url(#arrow)\" stroke=\"gray\" stroke-width=\"1\"/><path d=\"M 205 140 61 162\" marker-end=\"url(#arrow)\" stroke=\"gray\" stroke-width=\"1\"/><path d=\"M 205 140 167 61\" marker-end=\"url(#arrow)\" stroke=\"gray\" stroke-width=\"1\"/><path d=\"M 205 140 137 95\" marker-end=\"url(#arrow)\" stroke=\"gray\" stroke-width=\"1\"/><path d=\"M 151 320 79 271\" marker-end=\"url(#arrow)\" stroke=\"gray\" stroke-width=\"1\"/><path d=\"M 151 320 144 233\" marker-end=\"url(#arrow)\" stroke=\"gray\" stroke-width=\"1\"/><path d=\"M 164 55 241 48\" marker-end=\"url(#arrow)\" stroke=\"gray\" stroke-width=\"1\"/><path d=\"M 164 55 77 64\" marker-end=\"url(#arrow)\" stroke=\"gray\" stroke-width=\"1\"/><path d=\"M 164 55 202 134\" marker-end=\"url(#arrow)\" stroke=\"gray\" stroke-width=\"1\"/><path d=\"M 164 55 136 87\" marker-end=\"url(#arrow)\" stroke=\"gray\" stroke-width=\"1\"/><path d=\"M 164 55 97 126\" marker-end=\"url(#arrow)\" stroke=\"gray\" stroke-width=\"1\"/><path d=\"M 132 92 241 50\" marker-end=\"url(#arrow)\" stroke=\"gray\" stroke-width=\"1\"/><path d=\"M 132 92 26 108\" marker-end=\"url(#arrow)\" stroke=\"gray\" stroke-width=\"1\"/><path d=\"M 132 92 77 66\" marker-end=\"url(#arrow)\" stroke=\"gray\" stroke-width=\"1\"/><path d=\"M 132 92 160 60\" marker-end=\"url(#arrow)\" stroke=\"gray\" stroke-width=\"1\"/><path d=\"M 132 92 97 127\" marker-end=\"url(#arrow)\" stroke=\"gray\" stroke-width=\"1\"/><path d=\"M 93 131 26 110\" marker-end=\"url(#arrow)\" stroke=\"gray\" stroke-width=\"1\"/><path d=\"M 93 131 73 70\" marker-end=\"url(#arrow)\" stroke=\"gray\" stroke-width=\"1\"/><path d=\"M 93 131 141 221\" marker-end=\"url(#arrow)\" stroke=\"gray\" stroke-width=\"1\"/><path d=\"M 93 131 60 158\" marker-end=\"url(#arrow)\" stroke=\"gray\" stroke-width=\"1\"/><path d=\"M 404 94 419 26\" marker-end=\"url(#arrow)\" stroke=\"gray\" stroke-width=\"1\"/><path d=\"M 404 94 211 139\" marker-end=\"url(#arrow)\" stroke=\"gray\" stroke-width=\"1\"/><circle cx=\"247\" cy=\"48\" r=\"7.0\" style=\"fill:blue;stroke:black;stroke-width:1.0\"/><circle cx=\"20\" cy=\"108\" r=\"7.0\" style=\"fill:blue;stroke:black;stroke-width:1.0\"/><circle cx=\"74\" cy=\"268\" r=\"7.0\" style=\"fill:blue;stroke:black;stroke-width:1.0\"/><circle cx=\"71\" cy=\"64\" r=\"7.0\" style=\"fill:blue;stroke:black;stroke-width:1.0\"/><circle cx=\"144\" cy=\"227\" r=\"7.0\" style=\"fill:blue;stroke:black;stroke-width:1.0\"/><circle cx=\"208\" cy=\"257\" r=\"7.0\" style=\"fill:blue;stroke:black;stroke-width:1.0\"/><circle cx=\"420\" cy=\"20\" r=\"7.0\" style=\"fill:blue;stroke:black;stroke-width:1.0\"/><circle cx=\"55\" cy=\"162\" r=\"7.0\" style=\"fill:blue;stroke:black;stroke-width:1.0\"/><circle cx=\"205\" cy=\"140\" r=\"7.0\" style=\"fill:blue;stroke:black;stroke-width:1.0\"/><circle cx=\"151\" cy=\"320\" r=\"7.0\" style=\"fill:blue;stroke:black;stroke-width:1.0\"/><circle cx=\"164\" cy=\"55\" r=\"7.0\" style=\"fill:blue;stroke:black;stroke-width:1.0\"/><circle cx=\"132\" cy=\"92\" r=\"7.0\" style=\"fill:blue;stroke:black;stroke-width:1.0\"/><circle cx=\"93\" cy=\"131\" r=\"7.0\" style=\"fill:blue;stroke:black;stroke-width:1.0\"/><circle cx=\"404\" cy=\"94\" r=\"7.0\" style=\"fill:blue;stroke:black;stroke-width:1.0\"/><text font-size=\"12\" x=\"264\" y=\"55\">Pablo Picasso</text><text font-size=\"12\" x=\"37\" y=\"115\">Claude Monet</text><text font-size=\"12\" x=\"91\" y=\"275\">Michel Angelo</text><text font-size=\"12\" x=\"88\" y=\"71\">Edouard Manet</text><text font-size=\"12\" x=\"161\" y=\"234\">Peter Paul Rubens</text><text font-size=\"12\" x=\"225\" y=\"264\">Rembrandt</text><text font-size=\"12\" x=\"437\" y=\"27\">Gustav Klimt</text><text font-size=\"12\" x=\"72\" y=\"169\">Edgar Degas</text><text font-size=\"12\" x=\"222\" y=\"147\">Vincent van Gogh</text><text font-size=\"12\" x=\"168\" y=\"327\">Leonardo da Vinci</text><text font-size=\"12\" x=\"181\" y=\"62\">Henri Matisse</text><text font-size=\"12\" x=\"149\" y=\"99\">Paul Cezanne</text><text font-size=\"12\" x=\"110\" y=\"138\">Pierre-Auguste Renoir</text><text font-size=\"12\" x=\"421\" y=\"101\">Egon Schiele</text></svg>"
      ],
      "text/plain": [
       "<IPython.core.display.SVG object>"
      ]
     },
     "execution_count": 36,
     "metadata": {},
     "output_type": "execute_result"
    }
   ],
   "source": [
    "SVG(image)"
   ]
  },
  {
   "cell_type": "markdown",
   "metadata": {},
   "source": [
    "**Dendrogram**"
   ]
  },
  {
   "cell_type": "code",
   "execution_count": 37,
   "metadata": {},
   "outputs": [],
   "source": [
    "paris = Paris()\n",
    "dendrogram = paris.fit_transform(adjacency)"
   ]
  },
  {
   "cell_type": "code",
   "execution_count": 40,
   "metadata": {},
   "outputs": [],
   "source": [
    "image = svg_dendrogram(dendrogram, names, n_clusters=3, rotate=True)"
   ]
  },
  {
   "cell_type": "code",
   "execution_count": 41,
   "metadata": {},
   "outputs": [
    {
     "data": {
      "image/svg+xml": [
       "<svg height=\"320\" width=\"551.0\"><text font-size=\"12\" x=\"415\" y=\"31.428571428571427\">Pablo Picasso</text><text font-size=\"12\" x=\"415\" y=\"95.71428571428571\">Claude Monet</text><text font-size=\"12\" x=\"415\" y=\"245.7142857142857\">Michel Angelo</text><text font-size=\"12\" x=\"415\" y=\"117.14285714285714\">Edouard Manet</text><text font-size=\"12\" x=\"415\" y=\"288.57142857142856\">Peter Paul Rubens</text><text font-size=\"12\" x=\"415\" y=\"267.1428571428571\">Rembrandt</text><text font-size=\"12\" x=\"415\" y=\"202.85714285714283\">Gustav Klimt</text><text font-size=\"12\" x=\"415\" y=\"160.0\">Edgar Degas</text><text font-size=\"12\" x=\"415\" y=\"138.57142857142856\">Vincent van Gogh</text><text font-size=\"12\" x=\"415\" y=\"224.28571428571428\">Leonardo da Vinci</text><text font-size=\"12\" x=\"415\" y=\"10.0\">Henri Matisse</text><text font-size=\"12\" x=\"415\" y=\"52.857142857142854\">Paul Cezanne</text><text font-size=\"12\" x=\"415\" y=\"74.28571428571428\">Pierre-Auguste Renoir</text><text font-size=\"12\" x=\"415\" y=\"181.42857142857142\">Egon Schiele</text><path d=\"M 410 181.42857142857142 405.50561809539795 181.42857142857142\" stroke=\"green\" stroke-width=\"2\"/><path d=\"M 410 202.85714285714283 405.50561809539795 202.85714285714283\" stroke=\"green\" stroke-width=\"2\"/><path d=\"M 405.50561809539795 181.42857142857142 405.50561809539795 202.85714285714283\" stroke=\"green\" stroke-width=\"2\"/><path d=\"M 410 10.0 375.1685430628527 10.0\" stroke=\"blue\" stroke-width=\"2\"/><path d=\"M 410 31.428571428571427 375.1685430628527 31.428571428571427\" stroke=\"blue\" stroke-width=\"2\"/><path d=\"M 375.1685430628527 10.0 375.1685430628527 31.428571428571427\" stroke=\"blue\" stroke-width=\"2\"/><path d=\"M 410 74.28571428571428 376.2921349118265 74.28571428571428\" stroke=\"blue\" stroke-width=\"2\"/><path d=\"M 410 95.71428571428571 376.2921349118265 95.71428571428571\" stroke=\"blue\" stroke-width=\"2\"/><path d=\"M 376.2921349118265 74.28571428571428 376.2921349118265 95.71428571428571\" stroke=\"blue\" stroke-width=\"2\"/><path d=\"M 410 224.28571428571428 397.64044964447453 224.28571428571428\" stroke=\"red\" stroke-width=\"2\"/><path d=\"M 410 245.7142857142857 397.64044964447453 245.7142857142857\" stroke=\"red\" stroke-width=\"2\"/><path d=\"M 397.64044964447453 224.28571428571428 397.64044964447453 245.7142857142857\" stroke=\"red\" stroke-width=\"2\"/><path d=\"M 376.2921349118265 85.0 361.6853927976629 85.0\" stroke=\"blue\" stroke-width=\"2\"/><path d=\"M 410 117.14285714285714 361.6853927976629 117.14285714285714\" stroke=\"blue\" stroke-width=\"2\"/><path d=\"M 361.6853927976629 85.0 361.6853927976629 117.14285714285714\" stroke=\"blue\" stroke-width=\"2\"/><path d=\"M 410 267.1428571428571 385.280899288949 267.1428571428571\" stroke=\"red\" stroke-width=\"2\"/><path d=\"M 410 288.57142857142856 385.280899288949 288.57142857142856\" stroke=\"red\" stroke-width=\"2\"/><path d=\"M 385.280899288949 267.1428571428571 385.280899288949 288.57142857142856\" stroke=\"red\" stroke-width=\"2\"/><path d=\"M 410 138.57142857142856 359.43820598420115 138.57142857142856\" stroke=\"blue\" stroke-width=\"2\"/><path d=\"M 410 160.0 359.43820598420115 160.0\" stroke=\"blue\" stroke-width=\"2\"/><path d=\"M 359.43820598420115 138.57142857142856 359.43820598420115 160.0\" stroke=\"blue\" stroke-width=\"2\"/><path d=\"M 375.1685430628527 20.714285714285715 359.06367077631006 20.714285714285715\" stroke=\"blue\" stroke-width=\"2\"/><path d=\"M 410 52.857142857142854 359.06367077631006 52.857142857142854\" stroke=\"blue\" stroke-width=\"2\"/><path d=\"M 359.06367077631006 20.714285714285715 359.06367077631006 52.857142857142854\" stroke=\"blue\" stroke-width=\"2\"/><path d=\"M 397.64044964447453 235.0 379.88764304836127 235.0\" stroke=\"red\" stroke-width=\"2\"/><path d=\"M 385.280899288949 277.85714285714283 379.88764304836127 277.85714285714283\" stroke=\"red\" stroke-width=\"2\"/><path d=\"M 379.88764304836127 235.0 379.88764304836127 277.85714285714283\" stroke=\"red\" stroke-width=\"2\"/><path d=\"M 359.06367077631006 36.785714285714285 318.9887649128946 36.785714285714285\" stroke=\"blue\" stroke-width=\"2\"/><path d=\"M 361.6853927976629 101.07142857142857 318.9887649128946 101.07142857142857\" stroke=\"blue\" stroke-width=\"2\"/><path d=\"M 318.9887649128946 36.785714285714285 318.9887649128946 101.07142857142857\" stroke=\"blue\" stroke-width=\"2\"/><path d=\"M 318.9887649128946 68.92857142857143 302.7476981565339 68.92857142857143\" stroke=\"blue\" stroke-width=\"2\"/><path d=\"M 359.43820598420115 149.28571428571428 302.7476981565339 149.28571428571428\" stroke=\"blue\" stroke-width=\"2\"/><path d=\"M 302.7476981565339 68.92857142857143 302.7476981565339 149.28571428571428\" stroke=\"blue\" stroke-width=\"2\"/><path d=\"M 302.7476981565339 109.10714285714286 171.79774003082343 109.10714285714286\" stroke=\"black\" stroke-width=\"2\"/><path d=\"M 405.50561809539795 192.1428571428571 171.79774003082343 192.1428571428571\" stroke=\"black\" stroke-width=\"2\"/><path d=\"M 171.79774003082343 109.10714285714286 171.79774003082343 192.1428571428571\" stroke=\"black\" stroke-width=\"2\"/><path d=\"M 171.79774003082343 150.625 10.0 150.625\" stroke=\"black\" stroke-width=\"2\"/><path d=\"M 379.88764304836127 256.42857142857144 10.0 256.42857142857144\" stroke=\"black\" stroke-width=\"2\"/><path d=\"M 10.0 150.625 10.0 256.42857142857144\" stroke=\"black\" stroke-width=\"2\"/></svg>"
      ],
      "text/plain": [
       "<IPython.core.display.SVG object>"
      ]
     },
     "execution_count": 41,
     "metadata": {},
     "output_type": "execute_result"
    }
   ],
   "source": [
    "SVG(image)"
   ]
  },
  {
   "cell_type": "markdown",
   "metadata": {},
   "source": [
    "## Bigraphs"
   ]
  },
  {
   "cell_type": "code",
   "execution_count": 42,
   "metadata": {
    "pycharm": {
     "is_executing": false
    }
   },
   "outputs": [],
   "source": [
    "graph = movie_actor(metadata=True)\n",
    "biadjacency = graph.biadjacency\n",
    "names_row = graph.names_row\n",
    "names_col = graph.names_col"
   ]
  },
  {
   "cell_type": "code",
   "execution_count": 43,
   "metadata": {
    "pycharm": {
     "is_executing": false
    }
   },
   "outputs": [],
   "source": [
    "image = svg_bigraph(biadjacency, names_row, names_col)"
   ]
  },
  {
   "cell_type": "code",
   "execution_count": 44,
   "metadata": {
    "pycharm": {
     "is_executing": false
    }
   },
   "outputs": [
    {
     "data": {
      "image/svg+xml": [
       "<svg height=\"340\" width=\"728.0\"><path d=\"M 188 90 588 140\" stroke=\"black\" stroke-width=\"1\"/><path d=\"M 188 90 588 60\" stroke=\"black\" stroke-width=\"1\"/><path d=\"M 188 90 588 40\" stroke=\"black\" stroke-width=\"1\"/><path d=\"M 188 70 588 60\" stroke=\"black\" stroke-width=\"1\"/><path d=\"M 188 70 588 40\" stroke=\"black\" stroke-width=\"1\"/><path d=\"M 188 70 588 220\" stroke=\"black\" stroke-width=\"1\"/><path d=\"M 188 230 588 220\" stroke=\"black\" stroke-width=\"1\"/><path d=\"M 188 230 588 200\" stroke=\"black\" stroke-width=\"1\"/><path d=\"M 188 230 588 320\" stroke=\"black\" stroke-width=\"1\"/><path d=\"M 188 230 588 160\" stroke=\"black\" stroke-width=\"1\"/><path d=\"M 188 50 588 200\" stroke=\"black\" stroke-width=\"1\"/><path d=\"M 188 50 588 20\" stroke=\"black\" stroke-width=\"1\"/><path d=\"M 188 30 588 140\" stroke=\"black\" stroke-width=\"1\"/><path d=\"M 188 30 588 20\" stroke=\"black\" stroke-width=\"1\"/><path d=\"M 188 210 588 200\" stroke=\"black\" stroke-width=\"1\"/><path d=\"M 188 210 588 180\" stroke=\"black\" stroke-width=\"1\"/><path d=\"M 188 190 588 200\" stroke=\"black\" stroke-width=\"1\"/><path d=\"M 188 190 588 180\" stroke=\"black\" stroke-width=\"1\"/><path d=\"M 188 190 588 160\" stroke=\"black\" stroke-width=\"1\"/><path d=\"M 188 170 588 220\" stroke=\"black\" stroke-width=\"1\"/><path d=\"M 188 170 588 160\" stroke=\"black\" stroke-width=\"1\"/><path d=\"M 188 310 588 300\" stroke=\"black\" stroke-width=\"1\"/><path d=\"M 188 310 588 280\" stroke=\"black\" stroke-width=\"1\"/><path d=\"M 188 310 588 120\" stroke=\"black\" stroke-width=\"1\"/><path d=\"M 188 310 588 100\" stroke=\"black\" stroke-width=\"1\"/><path d=\"M 188 310 588 239\" stroke=\"black\" stroke-width=\"1\"/><path d=\"M 188 150 588 140\" stroke=\"black\" stroke-width=\"1\"/><path d=\"M 188 150 588 120\" stroke=\"black\" stroke-width=\"1\"/><path d=\"M 188 150 588 100\" stroke=\"black\" stroke-width=\"1\"/><path d=\"M 188 290 588 300\" stroke=\"black\" stroke-width=\"1\"/><path d=\"M 188 290 588 280\" stroke=\"black\" stroke-width=\"1\"/><path d=\"M 188 290 588 260\" stroke=\"black\" stroke-width=\"1\"/><path d=\"M 188 270 588 320\" stroke=\"black\" stroke-width=\"1\"/><path d=\"M 188 270 588 300\" stroke=\"black\" stroke-width=\"1\"/><path d=\"M 188 270 588 260\" stroke=\"black\" stroke-width=\"1\"/><path d=\"M 188 250 588 60\" stroke=\"black\" stroke-width=\"1\"/><path d=\"M 188 250 588 300\" stroke=\"black\" stroke-width=\"1\"/><path d=\"M 188 250 588 239\" stroke=\"black\" stroke-width=\"1\"/><path d=\"M 188 130 588 100\" stroke=\"black\" stroke-width=\"1\"/><path d=\"M 188 130 588 80\" stroke=\"black\" stroke-width=\"1\"/><path d=\"M 188 110 588 120\" stroke=\"black\" stroke-width=\"1\"/><path d=\"M 188 110 588 80\" stroke=\"black\" stroke-width=\"1\"/><circle cx=\"188\" cy=\"90\" r=\"7.0\" style=\"fill:blue;stroke:black;stroke-width:1.0\"/><circle cx=\"188\" cy=\"70\" r=\"7.0\" style=\"fill:blue;stroke:black;stroke-width:1.0\"/><circle cx=\"188\" cy=\"230\" r=\"7.0\" style=\"fill:blue;stroke:black;stroke-width:1.0\"/><circle cx=\"188\" cy=\"50\" r=\"7.0\" style=\"fill:blue;stroke:black;stroke-width:1.0\"/><circle cx=\"188\" cy=\"30\" r=\"7.0\" style=\"fill:blue;stroke:black;stroke-width:1.0\"/><circle cx=\"188\" cy=\"210\" r=\"7.0\" style=\"fill:blue;stroke:black;stroke-width:1.0\"/><circle cx=\"188\" cy=\"190\" r=\"7.0\" style=\"fill:blue;stroke:black;stroke-width:1.0\"/><circle cx=\"188\" cy=\"170\" r=\"7.0\" style=\"fill:blue;stroke:black;stroke-width:1.0\"/><circle cx=\"188\" cy=\"310\" r=\"7.0\" style=\"fill:blue;stroke:black;stroke-width:1.0\"/><circle cx=\"188\" cy=\"150\" r=\"7.0\" style=\"fill:blue;stroke:black;stroke-width:1.0\"/><circle cx=\"188\" cy=\"290\" r=\"7.0\" style=\"fill:blue;stroke:black;stroke-width:1.0\"/><circle cx=\"188\" cy=\"270\" r=\"7.0\" style=\"fill:blue;stroke:black;stroke-width:1.0\"/><circle cx=\"188\" cy=\"250\" r=\"7.0\" style=\"fill:blue;stroke:black;stroke-width:1.0\"/><circle cx=\"188\" cy=\"130\" r=\"7.0\" style=\"fill:blue;stroke:black;stroke-width:1.0\"/><circle cx=\"188\" cy=\"110\" r=\"7.0\" style=\"fill:blue;stroke:black;stroke-width:1.0\"/><circle cx=\"588\" cy=\"140\" r=\"7.0\" style=\"fill:red;stroke:black;stroke-width:1.0\"/><circle cx=\"588\" cy=\"60\" r=\"7.0\" style=\"fill:red;stroke:black;stroke-width:1.0\"/><circle cx=\"588\" cy=\"40\" r=\"7.0\" style=\"fill:red;stroke:black;stroke-width:1.0\"/><circle cx=\"588\" cy=\"220\" r=\"7.0\" style=\"fill:red;stroke:black;stroke-width:1.0\"/><circle cx=\"588\" cy=\"200\" r=\"7.0\" style=\"fill:red;stroke:black;stroke-width:1.0\"/><circle cx=\"588\" cy=\"320\" r=\"7.0\" style=\"fill:red;stroke:black;stroke-width:1.0\"/><circle cx=\"588\" cy=\"20\" r=\"7.0\" style=\"fill:red;stroke:black;stroke-width:1.0\"/><circle cx=\"588\" cy=\"180\" r=\"7.0\" style=\"fill:red;stroke:black;stroke-width:1.0\"/><circle cx=\"588\" cy=\"160\" r=\"7.0\" style=\"fill:red;stroke:black;stroke-width:1.0\"/><circle cx=\"588\" cy=\"300\" r=\"7.0\" style=\"fill:red;stroke:black;stroke-width:1.0\"/><circle cx=\"588\" cy=\"280\" r=\"7.0\" style=\"fill:red;stroke:black;stroke-width:1.0\"/><circle cx=\"588\" cy=\"120\" r=\"7.0\" style=\"fill:red;stroke:black;stroke-width:1.0\"/><circle cx=\"588\" cy=\"100\" r=\"7.0\" style=\"fill:red;stroke:black;stroke-width:1.0\"/><circle cx=\"588\" cy=\"260\" r=\"7.0\" style=\"fill:red;stroke:black;stroke-width:1.0\"/><circle cx=\"588\" cy=\"80\" r=\"7.0\" style=\"fill:red;stroke:black;stroke-width:1.0\"/><circle cx=\"588\" cy=\"239\" r=\"7.0\" style=\"fill:red;stroke:black;stroke-width:1.0\"/><text font-size=\"12\" text-anchor=\"end\" x=\"178\" y=\"90\">Inception</text><text font-size=\"12\" text-anchor=\"end\" x=\"178\" y=\"70\">The Dark Knight Rises</text><text font-size=\"12\" text-anchor=\"end\" x=\"178\" y=\"230\">The Big Short</text><text font-size=\"12\" text-anchor=\"end\" x=\"178\" y=\"50\">Drive</text><text font-size=\"12\" text-anchor=\"end\" x=\"178\" y=\"30\">The Great Gatsby</text><text font-size=\"12\" text-anchor=\"end\" x=\"178\" y=\"210\">La La Land</text><text font-size=\"12\" text-anchor=\"end\" x=\"178\" y=\"190\">Crazy Stupid Love</text><text font-size=\"12\" text-anchor=\"end\" x=\"178\" y=\"170\">Vice</text><text font-size=\"12\" text-anchor=\"end\" x=\"178\" y=\"310\">The Grand Budapest Hotel</text><text font-size=\"12\" text-anchor=\"end\" x=\"178\" y=\"150\">Aviator</text><text font-size=\"12\" text-anchor=\"end\" x=\"178\" y=\"290\">007 Spectre</text><text font-size=\"12\" text-anchor=\"end\" x=\"178\" y=\"270\">Inglourious Basterds</text><text font-size=\"12\" text-anchor=\"end\" x=\"178\" y=\"250\">Midnight In Paris</text><text font-size=\"12\" text-anchor=\"end\" x=\"178\" y=\"130\">Murder on the Orient Express</text><text font-size=\"12\" text-anchor=\"end\" x=\"178\" y=\"110\">Fantastic Beasts 2</text><text font-size=\"12\" x=\"598\" y=\"140\">Leonardo DiCaprio</text><text font-size=\"12\" x=\"598\" y=\"60\">Marion Cotillard</text><text font-size=\"12\" x=\"598\" y=\"40\">Joseph Gordon Lewitt</text><text font-size=\"12\" x=\"598\" y=\"220\">Christian Bale</text><text font-size=\"12\" x=\"598\" y=\"200\">Ryan Gosling</text><text font-size=\"12\" x=\"598\" y=\"320\">Brad Pitt</text><text font-size=\"12\" x=\"598\" y=\"20\">Carey Mulligan</text><text font-size=\"12\" x=\"598\" y=\"180\">Emma Stone</text><text font-size=\"12\" x=\"598\" y=\"160\">Steve Carell</text><text font-size=\"12\" x=\"598\" y=\"300\">Lea Seydoux</text><text font-size=\"12\" x=\"598\" y=\"280\">Ralph Fiennes</text><text font-size=\"12\" x=\"598\" y=\"120\">Jude Law</text><text font-size=\"12\" x=\"598\" y=\"100\">Willem Dafoe</text><text font-size=\"12\" x=\"598\" y=\"260\">Christophe Waltz</text><text font-size=\"12\" x=\"598\" y=\"80\">Johnny Depp</text><text font-size=\"12\" x=\"598\" y=\"239\">Owen Wilson</text></svg>"
      ],
      "text/plain": [
       "<IPython.core.display.SVG object>"
      ]
     },
     "execution_count": 44,
     "metadata": {},
     "output_type": "execute_result"
    }
   ],
   "source": [
    "SVG(image)"
   ]
  },
  {
   "cell_type": "markdown",
   "metadata": {},
   "source": [
    "**Dendrograms**"
   ]
  },
  {
   "cell_type": "code",
   "execution_count": 45,
   "metadata": {},
   "outputs": [],
   "source": [
    "biparis = BiParis()\n",
    "biparis.fit(biadjacency)\n",
    "dendrogram_row = biparis.dendrogram_row_\n",
    "dendrogram_col = biparis.dendrogram_col_\n",
    "dendrogram_full = biparis.dendrogram_full_"
   ]
  },
  {
   "cell_type": "code",
   "execution_count": 50,
   "metadata": {},
   "outputs": [],
   "source": [
    "image = svg_dendrogram(dendrogram_row, names_row, n_clusters=3, rotate=True)"
   ]
  },
  {
   "cell_type": "code",
   "execution_count": 51,
   "metadata": {},
   "outputs": [
    {
     "data": {
      "image/svg+xml": [
       "<svg height=\"320\" width=\"593.0\"><text font-size=\"12\" x=\"415\" y=\"210.0\">Inception</text><text font-size=\"12\" x=\"415\" y=\"190.0\">The Dark Knight Rises</text><text font-size=\"12\" x=\"415\" y=\"270.0\">The Big Short</text><text font-size=\"12\" x=\"415\" y=\"170.0\">Drive</text><text font-size=\"12\" x=\"415\" y=\"150.0\">The Great Gatsby</text><text font-size=\"12\" x=\"415\" y=\"230.0\">La La Land</text><text font-size=\"12\" x=\"415\" y=\"250.0\">Crazy Stupid Love</text><text font-size=\"12\" x=\"415\" y=\"290.0\">Vice</text><text font-size=\"12\" x=\"415\" y=\"10.0\">The Grand Budapest Hotel</text><text font-size=\"12\" x=\"415\" y=\"130.0\">Aviator</text><text font-size=\"12\" x=\"415\" y=\"30.0\">007 Spectre</text><text font-size=\"12\" x=\"415\" y=\"70.0\">Inglourious Basterds</text><text font-size=\"12\" x=\"415\" y=\"50.0\">Midnight In Paris</text><text font-size=\"12\" x=\"415\" y=\"110.0\">Murder on the Orient Express</text><text font-size=\"12\" x=\"415\" y=\"90.0\">Fantastic Beasts 2</text><path d=\"M 410 190.0 399.7901297005607 190.0\" stroke=\"green\" stroke-width=\"2\"/><path d=\"M 410 210.0 399.7901297005607 210.0\" stroke=\"green\" stroke-width=\"2\"/><path d=\"M 399.7901297005607 190.0 399.7901297005607 210.0\" stroke=\"green\" stroke-width=\"2\"/><path d=\"M 410 230.0 393.6642077990941 230.0\" stroke=\"red\" stroke-width=\"2\"/><path d=\"M 410 250.0 393.6642077990941 250.0\" stroke=\"red\" stroke-width=\"2\"/><path d=\"M 393.6642077990941 230.0 393.6642077990941 250.0\" stroke=\"red\" stroke-width=\"2\"/><path d=\"M 393.6642077990941 240.0 391.8491189524841 240.0\" stroke=\"red\" stroke-width=\"2\"/><path d=\"M 410 270.0 391.8491189524841 270.0\" stroke=\"red\" stroke-width=\"2\"/><path d=\"M 391.8491189524841 240.0 391.8491189524841 270.0\" stroke=\"red\" stroke-width=\"2\"/><path d=\"M 391.8491189524841 255.0 379.37038779763424 255.0\" stroke=\"red\" stroke-width=\"2\"/><path d=\"M 410 290.0 379.37038779763424 290.0\" stroke=\"red\" stroke-width=\"2\"/><path d=\"M 379.37038779763424 255.0 379.37038779763424 290.0\" stroke=\"red\" stroke-width=\"2\"/><path d=\"M 410 150.0 396.3868392143631 150.0\" stroke=\"green\" stroke-width=\"2\"/><path d=\"M 410 170.0 396.3868392143631 170.0\" stroke=\"green\" stroke-width=\"2\"/><path d=\"M 396.3868392143631 150.0 396.3868392143631 170.0\" stroke=\"green\" stroke-width=\"2\"/><path d=\"M 410 10.0 394.6851938988171 10.0\" stroke=\"blue\" stroke-width=\"2\"/><path d=\"M 410 30.0 394.6851938988171 30.0\" stroke=\"blue\" stroke-width=\"2\"/><path d=\"M 394.6851938988171 10.0 394.6851938988171 30.0\" stroke=\"blue\" stroke-width=\"2\"/><path d=\"M 394.6851938988171 20.0 386.17696828704885 20.0\" stroke=\"blue\" stroke-width=\"2\"/><path d=\"M 410 50.0 386.17696828704885 50.0\" stroke=\"blue\" stroke-width=\"2\"/><path d=\"M 386.17696828704885 20.0 386.17696828704885 50.0\" stroke=\"blue\" stroke-width=\"2\"/><path d=\"M 410 90.0 396.3868392143631 90.0\" stroke=\"blue\" stroke-width=\"2\"/><path d=\"M 410 110.0 396.3868392143631 110.0\" stroke=\"blue\" stroke-width=\"2\"/><path d=\"M 396.3868392143631 90.0 396.3868392143631 110.0\" stroke=\"blue\" stroke-width=\"2\"/><path d=\"M 396.3868392143631 100.0 391.6222340869523 100.0\" stroke=\"blue\" stroke-width=\"2\"/><path d=\"M 410 130.0 391.6222340869523 130.0\" stroke=\"blue\" stroke-width=\"2\"/><path d=\"M 391.6222340869523 100.0 391.6222340869523 130.0\" stroke=\"blue\" stroke-width=\"2\"/><path d=\"M 386.17696828704885 35.0 364.73624064470295 35.0\" stroke=\"blue\" stroke-width=\"2\"/><path d=\"M 410 70.0 364.73624064470295 70.0\" stroke=\"blue\" stroke-width=\"2\"/><path d=\"M 364.73624064470295 35.0 364.73624064470295 70.0\" stroke=\"blue\" stroke-width=\"2\"/><path d=\"M 396.3868392143631 160.0 342.6148591794967 160.0\" stroke=\"green\" stroke-width=\"2\"/><path d=\"M 399.7901297005607 200.0 342.6148591794967 200.0\" stroke=\"green\" stroke-width=\"2\"/><path d=\"M 342.6148591794967 160.0 342.6148591794967 200.0\" stroke=\"green\" stroke-width=\"2\"/><path d=\"M 342.6148591794967 180.0 253.44865651945358 180.0\" stroke=\"black\" stroke-width=\"2\"/><path d=\"M 379.37038779763424 272.5 253.44865651945358 272.5\" stroke=\"black\" stroke-width=\"2\"/><path d=\"M 253.44865651945358 180.0 253.44865651945358 272.5\" stroke=\"black\" stroke-width=\"2\"/><path d=\"M 364.73624064470295 52.5 277.27168963908593 52.5\" stroke=\"blue\" stroke-width=\"2\"/><path d=\"M 391.6222340869523 115.0 277.27168963908593 115.0\" stroke=\"blue\" stroke-width=\"2\"/><path d=\"M 277.27168963908593 52.5 277.27168963908593 115.0\" stroke=\"blue\" stroke-width=\"2\"/><path d=\"M 277.27168963908593 83.75 10.0 83.75\" stroke=\"black\" stroke-width=\"2\"/><path d=\"M 253.44865651945358 226.25 10.0 226.25\" stroke=\"black\" stroke-width=\"2\"/><path d=\"M 10.0 83.75 10.0 226.25\" stroke=\"black\" stroke-width=\"2\"/></svg>"
      ],
      "text/plain": [
       "<IPython.core.display.SVG object>"
      ]
     },
     "execution_count": 51,
     "metadata": {},
     "output_type": "execute_result"
    }
   ],
   "source": [
    "SVG(image)"
   ]
  },
  {
   "cell_type": "code",
   "execution_count": 52,
   "metadata": {},
   "outputs": [],
   "source": [
    "image = svg_dendrogram(dendrogram_col, names_col, n_clusters=3, rotate=True)"
   ]
  },
  {
   "cell_type": "code",
   "execution_count": 53,
   "metadata": {},
   "outputs": [
    {
     "data": {
      "image/svg+xml": [
       "<svg height=\"320\" width=\"545.0\"><text font-size=\"12\" x=\"415\" y=\"160.0\">Leonardo DiCaprio</text><text font-size=\"12\" x=\"415\" y=\"197.5\">Marion Cotillard</text><text font-size=\"12\" x=\"415\" y=\"216.25\">Joseph Gordon Lewitt</text><text font-size=\"12\" x=\"415\" y=\"291.25\">Christian Bale</text><text font-size=\"12\" x=\"415\" y=\"272.5\">Ryan Gosling</text><text font-size=\"12\" x=\"415\" y=\"66.25\">Brad Pitt</text><text font-size=\"12\" x=\"415\" y=\"178.75\">Carey Mulligan</text><text font-size=\"12\" x=\"415\" y=\"235.0\">Emma Stone</text><text font-size=\"12\" x=\"415\" y=\"253.75\">Steve Carell</text><text font-size=\"12\" x=\"415\" y=\"10.0\">Lea Seydoux</text><text font-size=\"12\" x=\"415\" y=\"28.75\">Ralph Fiennes</text><text font-size=\"12\" x=\"415\" y=\"103.75\">Jude Law</text><text font-size=\"12\" x=\"415\" y=\"141.25\">Willem Dafoe</text><text font-size=\"12\" x=\"415\" y=\"85.0\">Christophe Waltz</text><text font-size=\"12\" x=\"415\" y=\"122.5\">Johnny Depp</text><text font-size=\"12\" x=\"415\" y=\"47.5\">Owen Wilson</text><path d=\"M 410 66.25 403.1934196071815 66.25\" stroke=\"blue\" stroke-width=\"2\"/><path d=\"M 410 85.0 403.1934196071815 85.0\" stroke=\"blue\" stroke-width=\"2\"/><path d=\"M 403.1934196071815 66.25 403.1934196071815 85.0\" stroke=\"blue\" stroke-width=\"2\"/><path d=\"M 410 197.5 399.7901297005607 197.5\" stroke=\"green\" stroke-width=\"2\"/><path d=\"M 410 216.25 399.7901297005607 216.25\" stroke=\"green\" stroke-width=\"2\"/><path d=\"M 399.7901297005607 197.5 399.7901297005607 216.25\" stroke=\"green\" stroke-width=\"2\"/><path d=\"M 410 235.0 393.6642077990941 235.0\" stroke=\"red\" stroke-width=\"2\"/><path d=\"M 410 253.75 393.6642077990941 253.75\" stroke=\"red\" stroke-width=\"2\"/><path d=\"M 393.6642077990941 235.0 393.6642077990941 253.75\" stroke=\"red\" stroke-width=\"2\"/><path d=\"M 393.6642077990941 244.375 391.8491189524841 244.375\" stroke=\"red\" stroke-width=\"2\"/><path d=\"M 410 272.5 391.8491189524841 272.5\" stroke=\"red\" stroke-width=\"2\"/><path d=\"M 391.8491189524841 244.375 391.8491189524841 272.5\" stroke=\"red\" stroke-width=\"2\"/><path d=\"M 391.8491189524841 258.4375 379.37038779763424 258.4375\" stroke=\"red\" stroke-width=\"2\"/><path d=\"M 410 291.25 379.37038779763424 291.25\" stroke=\"red\" stroke-width=\"2\"/><path d=\"M 379.37038779763424 258.4375 379.37038779763424 291.25\" stroke=\"red\" stroke-width=\"2\"/><path d=\"M 410 160.0 396.3868392143631 160.0\" stroke=\"green\" stroke-width=\"2\"/><path d=\"M 410 178.75 396.3868392143631 178.75\" stroke=\"green\" stroke-width=\"2\"/><path d=\"M 396.3868392143631 160.0 396.3868392143631 178.75\" stroke=\"green\" stroke-width=\"2\"/><path d=\"M 410 10.0 394.6851938988171 10.0\" stroke=\"blue\" stroke-width=\"2\"/><path d=\"M 410 28.75 394.6851938988171 28.75\" stroke=\"blue\" stroke-width=\"2\"/><path d=\"M 394.6851938988171 10.0 394.6851938988171 28.75\" stroke=\"blue\" stroke-width=\"2\"/><path d=\"M 394.6851938988171 19.375 386.17696828704885 19.375\" stroke=\"blue\" stroke-width=\"2\"/><path d=\"M 410 47.5 386.17696828704885 47.5\" stroke=\"blue\" stroke-width=\"2\"/><path d=\"M 386.17696828704885 19.375 386.17696828704885 47.5\" stroke=\"blue\" stroke-width=\"2\"/><path d=\"M 410 103.75 396.3868392143631 103.75\" stroke=\"blue\" stroke-width=\"2\"/><path d=\"M 410 122.5 396.3868392143631 122.5\" stroke=\"blue\" stroke-width=\"2\"/><path d=\"M 396.3868392143631 103.75 396.3868392143631 122.5\" stroke=\"blue\" stroke-width=\"2\"/><path d=\"M 396.3868392143631 113.125 391.6222340869523 113.125\" stroke=\"blue\" stroke-width=\"2\"/><path d=\"M 410 141.25 391.6222340869523 141.25\" stroke=\"blue\" stroke-width=\"2\"/><path d=\"M 391.6222340869523 113.125 391.6222340869523 141.25\" stroke=\"blue\" stroke-width=\"2\"/><path d=\"M 386.17696828704885 33.4375 364.73624064470295 33.4375\" stroke=\"blue\" stroke-width=\"2\"/><path d=\"M 403.1934196071815 75.625 364.73624064470295 75.625\" stroke=\"blue\" stroke-width=\"2\"/><path d=\"M 364.73624064470295 33.4375 364.73624064470295 75.625\" stroke=\"blue\" stroke-width=\"2\"/><path d=\"M 396.3868392143631 169.375 342.6148591794967 169.375\" stroke=\"green\" stroke-width=\"2\"/><path d=\"M 399.7901297005607 206.875 342.6148591794967 206.875\" stroke=\"green\" stroke-width=\"2\"/><path d=\"M 342.6148591794967 169.375 342.6148591794967 206.875\" stroke=\"green\" stroke-width=\"2\"/><path d=\"M 342.6148591794967 188.125 253.44865651945358 188.125\" stroke=\"black\" stroke-width=\"2\"/><path d=\"M 379.37038779763424 274.84375 253.44865651945358 274.84375\" stroke=\"black\" stroke-width=\"2\"/><path d=\"M 253.44865651945358 188.125 253.44865651945358 274.84375\" stroke=\"black\" stroke-width=\"2\"/><path d=\"M 364.73624064470295 54.53125 277.27168963908593 54.53125\" stroke=\"blue\" stroke-width=\"2\"/><path d=\"M 391.6222340869523 127.1875 277.27168963908593 127.1875\" stroke=\"blue\" stroke-width=\"2\"/><path d=\"M 277.27168963908593 54.53125 277.27168963908593 127.1875\" stroke=\"blue\" stroke-width=\"2\"/><path d=\"M 277.27168963908593 90.859375 10.0 90.859375\" stroke=\"black\" stroke-width=\"2\"/><path d=\"M 253.44865651945358 231.484375 10.0 231.484375\" stroke=\"black\" stroke-width=\"2\"/><path d=\"M 10.0 90.859375 10.0 231.484375\" stroke=\"black\" stroke-width=\"2\"/></svg>"
      ],
      "text/plain": [
       "<IPython.core.display.SVG object>"
      ]
     },
     "execution_count": 53,
     "metadata": {},
     "output_type": "execute_result"
    }
   ],
   "source": [
    "SVG(image)"
   ]
  }
 ],
 "metadata": {
  "kernelspec": {
   "display_name": "Python 3",
   "language": "python",
   "name": "python3"
  },
  "language_info": {
   "codemirror_mode": {
    "name": "ipython",
    "version": 3
   },
   "file_extension": ".py",
   "mimetype": "text/x-python",
   "name": "python",
   "nbconvert_exporter": "python",
   "pygments_lexer": "ipython3",
   "version": "3.7.7"
  },
  "pycharm": {
   "stem_cell": {
    "cell_type": "raw",
    "metadata": {
     "collapsed": false
    },
    "source": []
   }
  },
  "toc": {
   "base_numbering": 1,
   "nav_menu": {},
   "number_sections": true,
   "sideBar": true,
   "skip_h1_title": false,
   "title_cell": "Table of Contents",
   "title_sidebar": "Contents",
   "toc_cell": false,
   "toc_position": {},
   "toc_section_display": true,
   "toc_window_display": false
  }
 },
 "nbformat": 4,
 "nbformat_minor": 2
}
